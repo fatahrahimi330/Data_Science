{
 "cells": [
  {
   "cell_type": "markdown",
   "id": "604970d4",
   "metadata": {},
   "source": [
    "# Module: NumPy Assignments\n",
    "## Lesson: NumPy"
   ]
  },
  {
   "cell_type": "code",
   "execution_count": 1,
   "id": "91dcffd6-3a7b-4337-8cea-c1584c9a7495",
   "metadata": {},
   "outputs": [],
   "source": [
    "import numpy as np"
   ]
  },
  {
   "cell_type": "markdown",
   "id": "198b44f1-7f90-41d6-94bf-1782516a7d75",
   "metadata": {},
   "source": [
    "### Assignment 1: Array Creation and Manipulation\n",
    "\n",
    "1. Create a NumPy array of shape (5, 5) filled with random integers between 1 and 20. Replace all the elements in the third column with 1.\n",
    "2. Create a NumPy array of shape (4, 4) with values from 1 to 16. Replace the diagonal elements with 0.\n"
   ]
  },
  {
   "cell_type": "code",
   "execution_count": 15,
   "id": "592371e3-c2ca-4fd8-b820-91a14fb46158",
   "metadata": {},
   "outputs": [
    {
     "data": {
      "text/plain": [
       "array([[ 6, 12,  1,  5, 17],\n",
       "       [11,  4,  1,  8, 18],\n",
       "       [19, 18,  1, 18, 13],\n",
       "       [ 9, 13,  1,  3, 19],\n",
       "       [ 6, 10,  1, 10, 14]], dtype=int32)"
      ]
     },
     "execution_count": 15,
     "metadata": {},
     "output_type": "execute_result"
    }
   ],
   "source": [
    "arr1 = np.random.randint(1, 21, (5, 5))\n",
    "arr1[:, 2] = 1\n",
    "arr1"
   ]
  },
  {
   "cell_type": "code",
   "execution_count": 19,
   "id": "feb9a20d-d32e-473f-8f1f-6ee85413c107",
   "metadata": {},
   "outputs": [
    {
     "data": {
      "text/plain": [
       "array([[ 0,  2,  3,  4],\n",
       "       [ 5,  0,  7,  8],\n",
       "       [ 9, 10,  0, 12],\n",
       "       [13, 14, 15,  0]])"
      ]
     },
     "execution_count": 19,
     "metadata": {},
     "output_type": "execute_result"
    }
   ],
   "source": [
    "arr2 = np.arange(1, 17).reshape(4,4)\n",
    "np.fill_diagonal(arr2, 0)\n",
    "arr2"
   ]
  },
  {
   "cell_type": "markdown",
   "id": "5403630b-c5b0-4729-8d1d-d6dd45728eb3",
   "metadata": {},
   "source": [
    "\n",
    "### Assignment 2: Array Indexing and Slicing\n",
    "\n",
    "1. Create a NumPy array of shape (6, 6) with values from 1 to 36. Extract the sub-array consisting of the 3rd to 5th rows and 2nd to 4th columns.\n",
    "2. Create a NumPy array of shape (5, 5) with random integers. Extract the elements on the border."
   ]
  },
  {
   "cell_type": "code",
   "execution_count": 24,
   "id": "b95d66d6-5937-40db-a8f4-c94ef07c948b",
   "metadata": {},
   "outputs": [
    {
     "data": {
      "text/plain": [
       "array([[14, 15],\n",
       "       [20, 21],\n",
       "       [26, 27]])"
      ]
     },
     "execution_count": 24,
     "metadata": {},
     "output_type": "execute_result"
    }
   ],
   "source": [
    "arr3 = np.arange(1, 37).reshape(6, 6)\n",
    "arr3[2:5, 1:3]"
   ]
  },
  {
   "cell_type": "code",
   "execution_count": 32,
   "id": "de309f20-b37d-40cf-82d0-c24a1969d07d",
   "metadata": {},
   "outputs": [
    {
     "data": {
      "text/plain": [
       "array([ 6,  3, 20, 13,  2,  8,  9, 19, 22,  8,  3, 15, 16,  4, 22, 12],\n",
       "      dtype=int32)"
      ]
     },
     "execution_count": 32,
     "metadata": {},
     "output_type": "execute_result"
    }
   ],
   "source": [
    "arr4 = np.random.randint(1, 26, (5,5))\n",
    "border = np.concatenate([\n",
    "    arr4[0, :],          # top row\n",
    "    arr4[1:-1, 0],       # left column (excluding corners)\n",
    "    arr4[1:-1, -1],      # right column (excluding corners)\n",
    "    arr4[-1, :]          # bottom row\n",
    "])\n",
    "border"
   ]
  },
  {
   "cell_type": "markdown",
   "id": "8915d31a-78d6-474f-ae8f-fced6e44823e",
   "metadata": {},
   "source": [
    "\n",
    "### Assignment 3: Array Operations\n",
    "\n",
    "1. Create two NumPy arrays of shape (3, 4) filled with random integers. Perform element-wise addition, subtraction, multiplication, and division.\n",
    "2. Create a NumPy array of shape (4, 4) with values from 1 to 16. Compute the row-wise and column-wise sum."
   ]
  },
  {
   "cell_type": "code",
   "execution_count": 42,
   "id": "3e65c7d9-eec4-46a2-9094-75f297c24d21",
   "metadata": {},
   "outputs": [
    {
     "data": {
      "text/plain": [
       "array([[0.5, 1. , 1.5, 2. ],\n",
       "       [2.5, 3. , 3.5, 4. ],\n",
       "       [4.5, 5. , 5.5, 6. ]])"
      ]
     },
     "execution_count": 42,
     "metadata": {},
     "output_type": "execute_result"
    }
   ],
   "source": [
    "arr5 = np.arange(1, 13).reshape(3,4)\n",
    "arr5+2\n",
    "arr5-2\n",
    "arr5*2\n",
    "arr5/2"
   ]
  },
  {
   "cell_type": "code",
   "execution_count": 48,
   "id": "338fefe5-0a01-4cec-821a-d97a437cf4ee",
   "metadata": {},
   "outputs": [
    {
     "name": "stdout",
     "output_type": "stream",
     "text": [
      "[10 26 42 58]\n",
      "[28 32 36 40]\n"
     ]
    }
   ],
   "source": [
    "arr6 = np.arange(1, 17).reshape(4,4)\n",
    "row_sum = np.sum(arr6, axis=1)\n",
    "print(row_sum)\n",
    "col_sum = np.sum(arr6, axis=0)\n",
    "print(col_sum)"
   ]
  },
  {
   "cell_type": "markdown",
   "id": "e01e0e10-f638-424c-901e-1caab84cb520",
   "metadata": {},
   "source": [
    "\n",
    "### Assignment 4: Statistical Operations\n",
    "\n",
    "1. Create a NumPy array of shape (5, 5) filled with random integers. Compute the mean, median, standard deviation, and variance of the array.\n",
    "2. Create a NumPy array of shape (3, 3) with values from 1 to 9. Normalize the array (i.e., scale the values to have a mean of 0 and a standard deviation of 1).\n"
   ]
  },
  {
   "cell_type": "code",
   "execution_count": 54,
   "id": "32da86fd-dbd9-4dce-981e-9ca3bb4b5345",
   "metadata": {},
   "outputs": [
    {
     "name": "stdout",
     "output_type": "stream",
     "text": [
      "163.64\n",
      "177.0\n",
      "31.63527145450154\n",
      "1000.7904\n"
     ]
    }
   ],
   "source": [
    "arr = np.random.randint(100, 210, (5, 5))\n",
    "print(np.mean(arr))\n",
    "print(np.median(arr))\n",
    "print(np.std(arr))\n",
    "print(np.var(arr))"
   ]
  },
  {
   "cell_type": "code",
   "execution_count": 60,
   "id": "bcac4ccf-2307-45b9-9b7d-2a0dfce072fd",
   "metadata": {},
   "outputs": [
    {
     "data": {
      "text/plain": [
       "array([[-1.54919334, -1.161895  , -0.77459667],\n",
       "       [-0.38729833,  0.        ,  0.38729833],\n",
       "       [ 0.77459667,  1.161895  ,  1.54919334]])"
      ]
     },
     "execution_count": 60,
     "metadata": {},
     "output_type": "execute_result"
    }
   ],
   "source": [
    "arr = np.arange(1, 10).reshape(3,3)\n",
    "mean = np.mean(arr)\n",
    "std = np.std(arr)\n",
    "normalized = (arr - mean) / std\n",
    "normalized"
   ]
  },
  {
   "cell_type": "markdown",
   "id": "1088aaef-7d3e-4cda-ac81-e83a28cca385",
   "metadata": {},
   "source": [
    "\n",
    "### Assignment 5: Broadcasting\n",
    "\n",
    "1. Create a NumPy array of shape (3, 3) filled with random integers. Add a 1D array of shape (3,) to each row of the 2D array using broadcasting.\n",
    "2. Create a NumPy array of shape (4, 4) filled with random integers. Subtract a 1D array of shape (4,) from each column of the 2D array using broadcasting.\n"
   ]
  },
  {
   "cell_type": "code",
   "execution_count": 64,
   "id": "7e65a75e-53a3-4f5a-94de-d009a3d46bc3",
   "metadata": {},
   "outputs": [
    {
     "data": {
      "text/plain": [
       "array([[ 4,  3, 10],\n",
       "       [11,  6, 10],\n",
       "       [ 9, 11,  7]])"
      ]
     },
     "execution_count": 64,
     "metadata": {},
     "output_type": "execute_result"
    }
   ],
   "source": [
    "arr = np.random.randint(1, 11, (3, 3))\n",
    "row_add = np.array([1, 2, 3])\n",
    "result = arr + row_add\n",
    "result"
   ]
  },
  {
   "cell_type": "code",
   "execution_count": 66,
   "id": "b8615f02-3fa8-4973-a987-0bc1ca42ea95",
   "metadata": {},
   "outputs": [
    {
     "data": {
      "text/plain": [
       "array([[ 5,  9,  4,  0],\n",
       "       [-1,  2,  3,  7],\n",
       "       [ 4,  4,  3, -1],\n",
       "       [ 2,  2,  0,  0]])"
      ]
     },
     "execution_count": 66,
     "metadata": {},
     "output_type": "execute_result"
    }
   ],
   "source": [
    "arr = np.random.randint(1, 11, (4, 4))\n",
    "col_sub = np.array([1, 2, 3, 4])\n",
    "result = arr - col_sub.reshape(4, 1)\n",
    "result"
   ]
  },
  {
   "cell_type": "markdown",
   "id": "308375ab-1378-41d7-aff5-c8c74b4d5fe9",
   "metadata": {},
   "source": [
    "\n",
    "\n",
    "### Assignment 6: Linear Algebra\n",
    "\n",
    "1. Create a NumPy array of shape (3, 3) representing a matrix. Compute its determinant, inverse, and eigenvalues.\n",
    "2. Create two NumPy arrays of shape (2, 3) and (3, 2). Perform matrix multiplication on these arrays."
   ]
  },
  {
   "cell_type": "code",
   "execution_count": 71,
   "id": "a06eef56-996b-4e6f-80e7-2e78599b538e",
   "metadata": {},
   "outputs": [
    {
     "name": "stdout",
     "output_type": "stream",
     "text": [
      "-27.0\n",
      "[[ 0.11111111 -0.22222222  0.11111111]\n",
      " [-0.22222222 -2.55555556  1.77777778]\n",
      " [ 0.11111111  2.44444444 -1.55555556]]\n",
      "[17.87276096  6.36459564 -0.23735659]\n"
     ]
    }
   ],
   "source": [
    "arr = np.array([[10, 2, 3],\n",
    "                [4, 5, 6],\n",
    "                [7, 8, 9]])\n",
    "det = np.linalg.det(arr)\n",
    "print(det)\n",
    "inv = np.linalg.inv(arr)\n",
    "print(inv)\n",
    "eigin = np.linalg.eigvals(arr)\n",
    "print(eigin)"
   ]
  },
  {
   "cell_type": "code",
   "execution_count": 72,
   "id": "cd1d2305-4f69-4fda-a326-452dacdd597a",
   "metadata": {},
   "outputs": [
    {
     "name": "stdout",
     "output_type": "stream",
     "text": [
      "\n",
      "Result of A × B:\n",
      " [[ 58  64]\n",
      " [139 154]]\n"
     ]
    }
   ],
   "source": [
    "A = np.array([\n",
    "    [1, 2, 3],\n",
    "    [4, 5, 6]\n",
    "])  # Shape (2, 3)\n",
    "\n",
    "B = np.array([\n",
    "    [7, 8],\n",
    "    [9, 10],\n",
    "    [11, 12]\n",
    "])  # Shape (3, 2)\n",
    "\n",
    "# Perform matrix multiplication\n",
    "C = np.dot(A, B)      # or A @ B\n",
    "print(\"\\nResult of A × B:\\n\", C)"
   ]
  },
  {
   "cell_type": "markdown",
   "id": "89ec576e-3ea5-4fe0-ac6b-73f33b1bf2a5",
   "metadata": {},
   "source": [
    "\n",
    "\n",
    "### Assignment 7: Advanced Array Manipulation\n",
    "\n",
    "1. Create a NumPy array of shape (3, 3) with values from 1 to 9. Reshape the array to shape (1, 9) and then to shape (9, 1).\n",
    "2. Create a NumPy array of shape (5, 5) filled with random integers. Flatten the array and then reshape it back to (5, 5).\n"
   ]
  },
  {
   "cell_type": "code",
   "execution_count": 75,
   "id": "e2e24e88-462b-46ea-9f38-90b567d301e3",
   "metadata": {},
   "outputs": [
    {
     "name": "stdout",
     "output_type": "stream",
     "text": [
      "[[1 2 3 4 5 6 7 8 9]]\n",
      "[[1]\n",
      " [2]\n",
      " [3]\n",
      " [4]\n",
      " [5]\n",
      " [6]\n",
      " [7]\n",
      " [8]\n",
      " [9]]\n"
     ]
    }
   ],
   "source": [
    "arr1 = np.arange(1, 10).reshape(3, 3)\n",
    "reshaped_1x9 = arr1.reshape(1, 9)\n",
    "print(reshaped_1x9)\n",
    "\n",
    "# Reshape to (9, 1)\n",
    "reshaped_9x1 = arr1.reshape(9, 1)\n",
    "print(reshaped_9x1)"
   ]
  },
  {
   "cell_type": "code",
   "execution_count": 78,
   "id": "a171e2e5-8eb7-4342-9b21-2adf839254f5",
   "metadata": {},
   "outputs": [
    {
     "name": "stdout",
     "output_type": "stream",
     "text": [
      "[[ 74   8  27  59  70]\n",
      " [ 19  70  85  38  15]\n",
      " [ 61  62  58  50 100]\n",
      " [ 85  72  96  76  69]\n",
      " [ 51  68  92 100  39]]\n",
      "[ 74   8  27  59  70  19  70  85  38  15  61  62  58  50 100  85  72  96\n",
      "  76  69  51  68  92 100  39]\n",
      "[[ 74   8  27  59  70]\n",
      " [ 19  70  85  38  15]\n",
      " [ 61  62  58  50 100]\n",
      " [ 85  72  96  76  69]\n",
      " [ 51  68  92 100  39]]\n"
     ]
    }
   ],
   "source": [
    "arr2 = np.random.randint(1, 101, (5, 5))\n",
    "print(arr2)\n",
    "\n",
    "# Flatten the array (convert to 1D)\n",
    "flattened = arr2.flatten()\n",
    "print(flattened)\n",
    "\n",
    "# Reshape back to (5, 5)\n",
    "reshaped_back = flattened.reshape(5, 5)\n",
    "print(reshaped_back)"
   ]
  },
  {
   "cell_type": "markdown",
   "id": "b0326e63-0dc3-478b-aba9-a8b79c2d1577",
   "metadata": {},
   "source": [
    "\n",
    "\n",
    "### <font color='green'>Assignment 8: Fancy Indexing and Boolean Indexing</font>\n",
    "\n",
    "1. Create a NumPy array of shape (5, 5) filled with random integers. Use fancy indexing to extract the elements at the corners of the array.\n",
    "2. Create a NumPy array of shape (4, 4) filled with random integers. Use boolean indexing to set all elements greater than 10 to 10.\n"
   ]
  },
  {
   "cell_type": "code",
   "execution_count": 85,
   "id": "f7e1204b-91e2-44f2-ab84-006ed01afb16",
   "metadata": {},
   "outputs": [
    {
     "name": "stdout",
     "output_type": "stream",
     "text": [
      "[[18 14 20 50 18]\n",
      " [43  6  5 46  6]\n",
      " [10 29 20 48  9]\n",
      " [ 5 10  6  4 16]\n",
      " [28 13 28  3 48]]\n",
      "[18 18 28 48]\n"
     ]
    }
   ],
   "source": [
    "arr1 = np.random.randint(1, 51, (5, 5))\n",
    "print(arr1)\n",
    "\n",
    "# Extract the corner elements using fancy indexing\n",
    "corners = arr1[[0, 0, -1, -1],[0, -1, 0, -1]]\n",
    "print(corners)"
   ]
  },
  {
   "cell_type": "code",
   "execution_count": 88,
   "id": "a29c9fa3-eff0-436f-ba18-238ed976ce19",
   "metadata": {},
   "outputs": [
    {
     "name": "stdout",
     "output_type": "stream",
     "text": [
      "[[16  4 10  7]\n",
      " [13  1  4 12]\n",
      " [ 1 10  5  9]\n",
      " [15 19  9  3]]\n",
      "\n",
      "[[10  4 10  7]\n",
      " [10  1  4 10]\n",
      " [ 1 10  5  9]\n",
      " [10 10  9  3]]\n"
     ]
    }
   ],
   "source": [
    "arr2 = np.random.randint(1, 21, (4, 4))\n",
    "print(arr2)\n",
    "print()\n",
    "# Set all elements greater than 10 to 10\n",
    "arr2[arr2 > 10] = 10\n",
    "print(arr2)"
   ]
  },
  {
   "cell_type": "markdown",
   "id": "65a97ac1-5803-4e24-b66d-ab7ae6730469",
   "metadata": {},
   "source": [
    "\n",
    "### Assignment 9: Structured Arrays\n",
    "\n",
    "1. Create a structured array with fields 'name' (string), 'age' (integer), and 'weight' (float). Add some data and sort the array by age.\n",
    "2. Create a structured array with fields 'x' and 'y' (both integers). Add some data and compute the Euclidean distance between each pair of points.\n"
   ]
  },
  {
   "cell_type": "code",
   "execution_count": 97,
   "id": "4efce5a3-c5dc-4aa9-820d-2251f7790003",
   "metadata": {},
   "outputs": [
    {
     "name": "stdout",
     "output_type": "stream",
     "text": [
      "Original array:\n",
      " [('Alice', 25, 55.5) ('Bob', 30, 78.2) ('Charlie', 22, 68. )\n",
      " ('Diana', 28, 60.3)]\n",
      "\n",
      "Sorted by age:\n",
      " [('Charlie', 22, 68. ) ('Alice', 25, 55.5) ('Diana', 28, 60.3)\n",
      " ('Bob', 30, 78.2)]\n"
     ]
    }
   ],
   "source": [
    "# Define the structured data type\n",
    "person_dtype = np.dtype([\n",
    "    ('name', 'U20'),   # String (Unicode, max length 20)\n",
    "    ('age', 'i4'),     # 32-bit integer\n",
    "    ('weight', 'f4')   # 32-bit float\n",
    "])\n",
    "\n",
    "# Create a structured array with data\n",
    "people = np.array([\n",
    "    ('Alice', 25, 55.5),\n",
    "    ('Bob', 30, 78.2),\n",
    "    ('Charlie', 22, 68.0),\n",
    "    ('Diana', 28, 60.3)\n",
    "], dtype=person_dtype)\n",
    "\n",
    "print(\"Original array:\\n\", people)\n",
    "\n",
    "# Sort by age\n",
    "sorted_people = np.sort(people, order='age')\n",
    "print(\"\\nSorted by age:\\n\", sorted_people)\n"
   ]
  },
  {
   "cell_type": "code",
   "execution_count": 98,
   "id": "24e97563-c0da-4223-89d1-02a755d4c7a1",
   "metadata": {},
   "outputs": [
    {
     "name": "stdout",
     "output_type": "stream",
     "text": [
      "\n",
      "Points array:\n",
      " [(1, 2) (4, 6) (7, 1) (2, 8)]\n",
      "\n",
      "Pairwise Euclidean distance matrix:\n",
      " [[0.         5.         6.08276253 6.08276253]\n",
      " [5.         0.         5.83095189 2.82842712]\n",
      " [6.08276253 5.83095189 0.         8.60232527]\n",
      " [6.08276253 2.82842712 8.60232527 0.        ]]\n"
     ]
    }
   ],
   "source": [
    "# Define the structured data type\n",
    "points_dtype = np.dtype([\n",
    "    ('x', 'i4'),\n",
    "    ('y', 'i4')\n",
    "])\n",
    "\n",
    "# Create structured array with (x, y) points\n",
    "points = np.array([\n",
    "    (1, 2),\n",
    "    (4, 6),\n",
    "    (7, 1),\n",
    "    (2, 8)\n",
    "], dtype=points_dtype)\n",
    "\n",
    "print(\"\\nPoints array:\\n\", points)\n",
    "\n",
    "# Compute pairwise Euclidean distances between all points\n",
    "# distance(i, j) = sqrt((x_i - x_j)^2 + (y_i - y_j)^2)\n",
    "x = points['x']\n",
    "y = points['y']\n",
    "distances = np.sqrt((x[:, None] - x)**2 + (y[:, None] - y)**2)\n",
    "\n",
    "print(\"\\nPairwise Euclidean distance matrix:\\n\", distances)\n"
   ]
  },
  {
   "cell_type": "markdown",
   "id": "4195d364-51d3-49d4-81c6-f2fabc10bcf2",
   "metadata": {},
   "source": [
    "\n",
    "### Assignment 10: Masked Arrays\n",
    "\n",
    "1. Create a masked array of shape (4, 4) with random integers and mask the elements greater than 10. Compute the sum of the unmasked elements.\n",
    "2. Create a masked array of shape (3, 3) with random integers and mask the diagonal elements. Replace the masked elements with the mean of the unmasked elements."
   ]
  },
  {
   "cell_type": "code",
   "execution_count": 101,
   "id": "02d51b6d-4c20-462a-92cc-96070b1bb551",
   "metadata": {},
   "outputs": [
    {
     "name": "stdout",
     "output_type": "stream",
     "text": [
      "Original (4x4) array:\n",
      " [[ 3 11 12 16]\n",
      " [20 14  9  6]\n",
      " [17 12 13  2]\n",
      " [19  1  4 10]]\n",
      "\n",
      "Masked array (elements > 10 are masked):\n",
      " [[3 -- -- --]\n",
      " [-- -- 9 6]\n",
      " [-- -- -- 2]\n",
      " [-- 1 4 10]]\n",
      "\n",
      "Sum of unmasked elements: 35\n"
     ]
    }
   ],
   "source": [
    "arr1 = np.random.randint(1, 21, (4, 4))\n",
    "print(\"Original (4x4) array:\\n\", arr1)\n",
    "\n",
    "# Mask elements greater than 10\n",
    "masked_arr1 = np.ma.masked_greater(arr1, 10)\n",
    "print(\"\\nMasked array (elements > 10 are masked):\\n\", masked_arr1)\n",
    "\n",
    "# Compute sum of unmasked elements\n",
    "sum_unmasked = masked_arr1.sum()\n",
    "print(\"\\nSum of unmasked elements:\", sum_unmasked)"
   ]
  },
  {
   "cell_type": "code",
   "execution_count": 103,
   "id": "15592681-c4b2-4530-bfde-5f538bed300c",
   "metadata": {},
   "outputs": [
    {
     "name": "stdout",
     "output_type": "stream",
     "text": [
      "\n",
      "Original (3x3) array:\n",
      " [[ 4  3  5]\n",
      " [ 6 12  6]\n",
      " [15  2 13]]\n",
      "\n",
      "Masked array (diagonal masked):\n",
      " [[-- 3 5]\n",
      " [6 -- 6]\n",
      " [15 2 --]]\n",
      "\n",
      "Mean of unmasked elements: 6.166666666666667\n",
      "\n",
      "Array after replacing masked elements with mean:\n",
      " [[ 6  3  5]\n",
      " [ 6  6  6]\n",
      " [15  2  6]]\n"
     ]
    }
   ],
   "source": [
    "# Create a (3, 3) array with random integers between 1 and 15\n",
    "arr2 = np.random.randint(1, 16, (3, 3))\n",
    "print(\"\\nOriginal (3x3) array:\\n\", arr2)\n",
    "\n",
    "# Mask the diagonal elements\n",
    "masked_arr2 = np.ma.masked_array(arr2, mask=np.eye(3, dtype=bool))\n",
    "print(\"\\nMasked array (diagonal masked):\\n\", masked_arr2)\n",
    "\n",
    "# Compute mean of unmasked elements\n",
    "mean_unmasked = masked_arr2.mean()\n",
    "print(\"\\nMean of unmasked elements:\", mean_unmasked)\n",
    "\n",
    "# Replace masked elements with the mean\n",
    "filled_arr2 = masked_arr2.filled(mean_unmasked)\n",
    "print(\"\\nArray after replacing masked elements with mean:\\n\", filled_arr2)\n"
   ]
  }
 ],
 "metadata": {
  "kernelspec": {
   "display_name": "Python 3 (ipykernel)",
   "language": "python",
   "name": "python3"
  },
  "language_info": {
   "codemirror_mode": {
    "name": "ipython",
    "version": 3
   },
   "file_extension": ".py",
   "mimetype": "text/x-python",
   "name": "python",
   "nbconvert_exporter": "python",
   "pygments_lexer": "ipython3",
   "version": "3.13.5"
  }
 },
 "nbformat": 4,
 "nbformat_minor": 5
}
