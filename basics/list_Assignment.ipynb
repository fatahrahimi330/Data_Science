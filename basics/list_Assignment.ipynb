{
 "cells": [
  {
   "cell_type": "markdown",
   "id": "705b2c4b",
   "metadata": {},
   "source": [
    "# Module 3: Data Structures Assignments\n",
    "## Lesson 3.1: Lists"
   ]
  },
  {
   "cell_type": "markdown",
   "id": "4857dbb5-4775-49e8-aa44-d0b2e262e2a2",
   "metadata": {},
   "source": [
    "### Assignment 1: Creating and Accessing Lists\n",
    "\n",
    "Create a list of the first 20 positive integers. Print the list."
   ]
  },
  {
   "cell_type": "code",
   "execution_count": 2,
   "id": "98679cae-8658-427e-a1bc-7b143364f1f3",
   "metadata": {},
   "outputs": [
    {
     "name": "stdout",
     "output_type": "stream",
     "text": [
      "[1, 2, 3, 4, 5, 6, 7, 8, 9, 10, 11, 12, 13, 14, 15, 16, 17, 18, 19, 20]\n"
     ]
    }
   ],
   "source": [
    "lst = [x for x in range(1, 21)]\n",
    "print(lst)"
   ]
  },
  {
   "cell_type": "markdown",
   "id": "d8b74546-7635-4300-95c0-73464006afeb",
   "metadata": {},
   "source": [
    "\n",
    "### Assignment 2: Accessing List Elements\n",
    "\n",
    "Print the first, middle, and last elements of the list created in Assignment 1.\n"
   ]
  },
  {
   "cell_type": "code",
   "execution_count": 5,
   "id": "97f8d4a6-53ea-4d62-9c4b-0273ee5401c8",
   "metadata": {},
   "outputs": [
    {
     "name": "stdout",
     "output_type": "stream",
     "text": [
      "1 10 20\n"
     ]
    }
   ],
   "source": [
    "print(lst[0], lst[9], lst[-1])"
   ]
  },
  {
   "cell_type": "markdown",
   "id": "8554923b-8eb5-44b1-a075-ca5208681c5f",
   "metadata": {},
   "source": [
    "\n",
    "### Assignment 3: List Slicing\n",
    "\n",
    "Print the first five elements, the last five elements, and the elements from index 5 to 15 of the list created in Assignment 1."
   ]
  },
  {
   "cell_type": "code",
   "execution_count": 9,
   "id": "f945ae6e-e452-42ba-9861-9a9b8dae9583",
   "metadata": {},
   "outputs": [
    {
     "name": "stdout",
     "output_type": "stream",
     "text": [
      "[1, 2, 3, 4, 5]\n",
      "[16, 17, 18, 19, 20]\n",
      "[6, 7, 8, 9, 10, 11, 12, 13, 14, 15]\n"
     ]
    }
   ],
   "source": [
    "first_five_elements = lst[:5]\n",
    "last_five_elements = lst[-5:]\n",
    "elements_from_index_5_to_15 = lst[5:15]\n",
    "print(first_five_elements )\n",
    "print(last_five_elements)\n",
    "print(elements_from_index_5_to_15)"
   ]
  },
  {
   "cell_type": "markdown",
   "id": "0829d514-e2cd-42b6-aa63-b099f12385c8",
   "metadata": {},
   "source": [
    "\n",
    "### Assignment 4: List Comprehensions\n",
    "\n",
    "Create a new list containing the squares of the first 10 positive integers using a list comprehension. Print the new list.\n"
   ]
  },
  {
   "cell_type": "code",
   "execution_count": 10,
   "id": "5445c79e-de17-4ed7-8408-8201b6e1b91f",
   "metadata": {},
   "outputs": [
    {
     "name": "stdout",
     "output_type": "stream",
     "text": [
      "[1, 4, 9, 16, 25, 36, 49, 64, 81, 100]\n"
     ]
    }
   ],
   "source": [
    "new_list = [x**2 for x in range(1, 11)]\n",
    "print(new_list)"
   ]
  },
  {
   "cell_type": "markdown",
   "id": "2e46d5ee-0c78-469d-934e-209ab6c2e03d",
   "metadata": {},
   "source": [
    "\n",
    "\n",
    "### Assignment 5: Filtering Lists\n",
    "\n",
    "Create a new list containing only the even numbers from the list created in Assignment 1 using a list comprehension. Print the new list.\n"
   ]
  },
  {
   "cell_type": "code",
   "execution_count": 11,
   "id": "71e89e93-76b6-4a9f-8e1e-88973c11375a",
   "metadata": {},
   "outputs": [
    {
     "name": "stdout",
     "output_type": "stream",
     "text": [
      "[2, 4, 6, 8, 10, 12, 14, 16, 18, 20]\n"
     ]
    }
   ],
   "source": [
    "even_list = [x for x in lst if x%2==0]\n",
    "print(even_list)"
   ]
  },
  {
   "cell_type": "markdown",
   "id": "728c8777-19b4-429b-99f0-518151337879",
   "metadata": {},
   "source": [
    "\n",
    "### Assignment 6: List Methods\n",
    "\n",
    "Create a list of random numbers and sort it in ascending and descending order. Remove the duplicates from the list and print the modified list.\n"
   ]
  },
  {
   "cell_type": "code",
   "execution_count": 23,
   "id": "c460781f-744a-4de5-abbb-1c03c16a65c3",
   "metadata": {},
   "outputs": [
    {
     "name": "stdout",
     "output_type": "stream",
     "text": [
      "[1, 3, 3, 4, 5, 6, 9, 23, 56]\n",
      "[56, 23, 9, 6, 5, 4, 3, 3, 1]\n"
     ]
    }
   ],
   "source": [
    "random_list = [1, 3, 4, 5, 6, 3, 9, 23, 56]\n",
    "random_list.sort()\n",
    "print(random_list)\n",
    "random_list.reverse()\n",
    "print(random_list)"
   ]
  },
  {
   "cell_type": "markdown",
   "id": "4c608abb-4fba-4b51-9dca-7cf739f5f861",
   "metadata": {},
   "source": [
    "\n",
    "### Assignment 7: Nested Lists\n",
    "\n",
    "Create a nested list representing a 3x3 matrix and print the matrix. Access and print the element at the second row and third column.\n"
   ]
  },
  {
   "cell_type": "code",
   "execution_count": 33,
   "id": "b2c35b43-2ad8-4981-8f14-d3fa2de8e314",
   "metadata": {},
   "outputs": [
    {
     "name": "stdout",
     "output_type": "stream",
     "text": [
      "[[1, 2, 3], [4, 5, 6], [7, 8, 9]]\n",
      "6\n"
     ]
    }
   ],
   "source": [
    "matrix = [[1,2,3],\n",
    "          [4,5,6],\n",
    "          [7,8,9]]\n",
    "print(matrix)\n",
    "print(matrix[1][2])"
   ]
  },
  {
   "cell_type": "markdown",
   "id": "befd3a77-39f7-49e2-b91c-072c889671bc",
   "metadata": {},
   "source": [
    "\n",
    "### Assignment 8: List of Dictionaries\n",
    "\n",
    "Create a list of dictionaries where each dictionary represents a student with keys 'name' and 'score'. Sort the list of dictionaries by the 'score' in descending order and print the sorted list.\n"
   ]
  },
  {
   "cell_type": "code",
   "execution_count": 124,
   "id": "a02c582b-e64a-46ac-a094-36c8f535fa44",
   "metadata": {},
   "outputs": [
    {
     "name": "stdout",
     "output_type": "stream",
     "text": [
      "{'name': 'Eva', 'score': 95}\n",
      "{'name': 'Bob', 'score': 92}\n",
      "{'name': 'David', 'score': 90}\n",
      "{'name': 'Alice', 'score': 85}\n",
      "{'name': 'Charlie', 'score': 78}\n"
     ]
    }
   ],
   "source": [
    "students = [\n",
    "    {'name': 'Alice', 'score': 85},\n",
    "    {'name': 'Bob', 'score': 92},\n",
    "    {'name': 'Charlie', 'score': 78},\n",
    "    {'name': 'David', 'score': 90},\n",
    "    {'name': 'Eva', 'score': 95}\n",
    "]\n",
    "students.sort(key=lambda x: x['score'], reverse=True)\n",
    "for i in students:\n",
    "    print(i)\n"
   ]
  },
  {
   "cell_type": "markdown",
   "id": "85ccb29b-e07b-4813-ba55-6a11d17104f8",
   "metadata": {},
   "source": [
    "\n",
    "### Assignment 9: Matrix Transposition\n",
    "\n",
    "Write a function that takes a 3x3 matrix (nested list) as input and returns its transpose. Print the original and transposed matrices.\n"
   ]
  },
  {
   "cell_type": "code",
   "execution_count": 127,
   "id": "42f08928-c405-4728-b987-b25a9a9d8cba",
   "metadata": {},
   "outputs": [
    {
     "name": "stdout",
     "output_type": "stream",
     "text": [
      "[[1, 2, 3], [4, 5, 6], [7, 8, 9]]\n",
      "[[1, 4, 7], [2, 5, 8], [3, 6, 9]]\n"
     ]
    }
   ],
   "source": [
    "def transposed(matrix):\n",
    "    t_matrix = [list(row) for row in zip(*matrix)]\n",
    "    return t_matrix\n",
    "matrix = [[1, 2, 3], \n",
    "          [4, 5, 6], \n",
    "          [7, 8, 9]]\n",
    "\n",
    "x = transposed(matrix)\n",
    "print(matrix)\n",
    "print(x)"
   ]
  },
  {
   "cell_type": "markdown",
   "id": "5eb54445-9b4d-4e56-be25-ce2acaf29fe7",
   "metadata": {},
   "source": [
    "\n",
    "### Assignment 10: Flattening a Nested List\n",
    "\n",
    "Write a function that takes a nested list and flattens it into a single list. Print the original and flattened lists.\n"
   ]
  },
  {
   "cell_type": "code",
   "execution_count": 129,
   "id": "4609b1af-0b74-4c6e-b566-c846c07ab23c",
   "metadata": {},
   "outputs": [
    {
     "name": "stdout",
     "output_type": "stream",
     "text": [
      "[[1, 2, 3], [4, 5, 6], [7, 8, 9]]\n",
      "[1, 2, 3, 4, 5, 6, 7, 8, 9]\n"
     ]
    }
   ],
   "source": [
    "def flatten(lst):\n",
    "    new_list = []\n",
    "    for i in matrix:\n",
    "        for j in i:\n",
    "            new_list.append(j)\n",
    "    return new_list\n",
    "\n",
    "lst = [[1, 2, 3], \n",
    "      [4, 5, 6], \n",
    "      [7, 8, 9]]\n",
    "\n",
    "x = flatten(lst)\n",
    "print(lst)\n",
    "print(x)"
   ]
  },
  {
   "cell_type": "markdown",
   "id": "b9c472d0-f496-4abd-90ca-658600e8baea",
   "metadata": {},
   "source": [
    "\n",
    "\n",
    "### Assignment 11: List Manipulation\n",
    "\n",
    "Create a list of the first 10 positive integers. Remove the elements at indices 2, 4, and 6, and insert the element '99' at index 5. Print the modified list."
   ]
  },
  {
   "cell_type": "code",
   "execution_count": 136,
   "id": "9aabce1c-8ea5-4deb-a6cb-87788caef402",
   "metadata": {},
   "outputs": [
    {
     "name": "stdout",
     "output_type": "stream",
     "text": [
      "[1, 2, 4, 6, 8, 99, 9, 10]\n"
     ]
    }
   ],
   "source": [
    "list_1 = [1, 2, 3, 4, 5, 6, 7, 8, 9, 10]\n",
    "list_1.remove(3)\n",
    "list_1.remove(5)\n",
    "list_1.remove(7)\n",
    "list_1.insert(5, 99)\n",
    "print(list_1)"
   ]
  },
  {
   "cell_type": "markdown",
   "id": "053ba8ee-1fef-454f-b46f-9e8f95007496",
   "metadata": {},
   "source": [
    "\n",
    "\n",
    "### Assignment 12: List Zipping\n",
    "\n",
    "Create two lists of the same length. Use the `zip` function to combine these lists into a list of tuples and print the result."
   ]
  },
  {
   "cell_type": "code",
   "execution_count": 141,
   "id": "673471ae-db47-4cde-87b5-9abbb200e106",
   "metadata": {},
   "outputs": [
    {
     "name": "stdout",
     "output_type": "stream",
     "text": [
      "((1, 6), (2, 7), (3, 8), (4, 9), (5, 10))\n"
     ]
    }
   ],
   "source": [
    "list1 = [1, 2, 3, 4, 5]\n",
    "list2 = [6, 7, 8, 9, 10]\n",
    "listC = tuple(zip(list1, list2))\n",
    "print(listC)"
   ]
  },
  {
   "cell_type": "markdown",
   "id": "959a092a-154b-480b-85c2-1e7b2f94bc82",
   "metadata": {},
   "source": [
    "\n",
    "### Assignment 13: List Reversal\n",
    "\n",
    "Write a function that takes a list and returns a new list with the elements in reverse order. Print the original and reversed lists."
   ]
  },
  {
   "cell_type": "code",
   "execution_count": 154,
   "id": "904e341d-9741-4d14-8a9a-27e8f4a3c1d7",
   "metadata": {},
   "outputs": [
    {
     "name": "stdout",
     "output_type": "stream",
     "text": [
      "[1, 2, 3, 4, 5]\n",
      "[5, 4, 3, 2, 1]\n"
     ]
    }
   ],
   "source": [
    "def reverse1(list1):\n",
    "    return list1.reverse()\n",
    "    \n",
    "list1 = [1, 2, 3, 4, 5]\n",
    "print(list1)\n",
    "reverse1(list1)\n",
    "print(list1)"
   ]
  },
  {
   "cell_type": "markdown",
   "id": "3b2966fe-926e-4da9-b20b-0e106ad846f5",
   "metadata": {},
   "source": [
    "\n",
    "### Assignment 14: List Rotation\n",
    "\n",
    "Write a function that rotates a list by n positions. Print the original and rotated lists.\n"
   ]
  },
  {
   "cell_type": "code",
   "execution_count": 184,
   "id": "aa5678bf-d44e-47f1-ab39-39a6a99f2f9b",
   "metadata": {},
   "outputs": [
    {
     "name": "stdout",
     "output_type": "stream",
     "text": [
      "Original: [1, 2, 3, 4, 5]\n",
      "Rotated: [3, 4, 5, 1, 2]\n"
     ]
    }
   ],
   "source": [
    "def rotate_list(lst, n):\n",
    "    n = n % len(lst)   \n",
    "    return lst[-n:] + lst[:-n]\n",
    "\n",
    "list1 = [1, 2, 3, 4, 5]\n",
    "n = 3\n",
    "print(\"Original:\", list1)\n",
    "rotated = rotate_list(list1, n)\n",
    "print(\"Rotated:\", rotated)\n"
   ]
  },
  {
   "cell_type": "markdown",
   "id": "0a44f095-3bef-447f-9e43-dbda4c4dad37",
   "metadata": {},
   "source": [
    "\n",
    "### Assignment 15: List Intersection\n",
    "\n",
    "Write a function that takes two lists and returns a new list containing only the elements that are present in both lists. Print the intersected list."
   ]
  },
  {
   "cell_type": "code",
   "execution_count": 171,
   "id": "3826c6f8-809c-4ade-b339-d446884afffd",
   "metadata": {},
   "outputs": [
    {
     "name": "stdout",
     "output_type": "stream",
     "text": [
      "[4, 5]\n"
     ]
    }
   ],
   "source": [
    "list1 = [1, 2, 3, 4, 5]\n",
    "list2 = [4, 5, 8, 9, 10]\n",
    "new_list = list(set(list1).intersection(set(list2)))\n",
    "print(new_list)"
   ]
  }
 ],
 "metadata": {
  "kernelspec": {
   "display_name": "Python 3 (ipykernel)",
   "language": "python",
   "name": "python3"
  },
  "language_info": {
   "codemirror_mode": {
    "name": "ipython",
    "version": 3
   },
   "file_extension": ".py",
   "mimetype": "text/x-python",
   "name": "python",
   "nbconvert_exporter": "python",
   "pygments_lexer": "ipython3",
   "version": "3.13.5"
  }
 },
 "nbformat": 4,
 "nbformat_minor": 5
}
