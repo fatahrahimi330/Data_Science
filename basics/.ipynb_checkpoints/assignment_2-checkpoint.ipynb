{
 "cells": [
  {
   "cell_type": "markdown",
   "id": "1f1b9a8d",
   "metadata": {},
   "source": [
    "# Module 2: Control Flow Assignments\n",
    "## Lesson 2.1: Conditional Statements\n",
    "\n",
    "\n",
    "\n",
    "\n",
    "\n",
    "\n",
    "\n",
    "\n",
    "\n",
    "\n",
    "\n",
    "\n",
    "\n",
    "\n",
    "\n",
    "\n"
   ]
  },
  {
   "cell_type": "markdown",
   "id": "b8db1f6d-f287-4d4a-9498-f31d50516bf1",
   "metadata": {},
   "source": [
    "\n",
    "### Assignment 1: Simple if Statement\n",
    "\n",
    "Write a program that asks the user to input a number and prints whether the number is positive.\n"
   ]
  },
  {
   "cell_type": "code",
   "execution_count": 5,
   "id": "ac99a136-5dcb-438d-8196-c33e804c92fd",
   "metadata": {},
   "outputs": [
    {
     "name": "stdin",
     "output_type": "stream",
     "text": [
      "Enter a number:  4\n"
     ]
    },
    {
     "name": "stdout",
     "output_type": "stream",
     "text": [
      "4 is a Positive Number!\n"
     ]
    }
   ],
   "source": [
    "num = int(input(\"Enter a number: \"))\n",
    "if num>0:\n",
    "    print(f\"{num} is a Positive Number!\")\n",
    "else:\n",
    "    print(f\"{num} Not a positive number!\")"
   ]
  },
  {
   "cell_type": "markdown",
   "id": "5f6ae478-cb59-4c84-b0bb-c525af938d75",
   "metadata": {},
   "source": [
    "### Assignment 2: if-else Statement\n",
    "\n",
    "Write a program that asks the user to input a number and prints whether the number is positive or negative."
   ]
  },
  {
   "cell_type": "code",
   "execution_count": 10,
   "id": "04022a12-754f-4049-a06e-320cf4532b0b",
   "metadata": {},
   "outputs": [
    {
     "name": "stdin",
     "output_type": "stream",
     "text": [
      "Enter a number:  6\n"
     ]
    },
    {
     "name": "stdout",
     "output_type": "stream",
     "text": [
      "6 is a positive number!\n"
     ]
    }
   ],
   "source": [
    "num = int(input(\"Enter a number: \"))\n",
    "if num>0:\n",
    "    print(f\"{num} is a negative number!\")\n",
    "else:\n",
    "    print(f\"{num} is a positive number!\")"
   ]
  },
  {
   "cell_type": "markdown",
   "id": "8623fa2c-8096-4ec9-ade3-89fd2972cb89",
   "metadata": {},
   "source": [
    "### Assignment 3: if-elif-else Statement\n",
    "\n",
    "Write a program that asks the user to input a number and prints whether the number is positive, negative, or zero."
   ]
  },
  {
   "cell_type": "code",
   "execution_count": 9,
   "id": "3ad0fd37-d8d5-4d66-be2e-3eab8d70121f",
   "metadata": {},
   "outputs": [
    {
     "name": "stdin",
     "output_type": "stream",
     "text": [
      "Enter a number:  0\n"
     ]
    },
    {
     "name": "stdout",
     "output_type": "stream",
     "text": [
      "0 is a zero!\n"
     ]
    }
   ],
   "source": [
    "num = int(input(\"Enter a number: \"))\n",
    "if num==0:\n",
    "    print(f\"{num} is a zero!\")\n",
    "elif num<0:\n",
    "    print(f\"{num} is a negative number!\")\n",
    "else:\n",
    "    print(f\"{num} is a positive number!\")"
   ]
  },
  {
   "cell_type": "markdown",
   "id": "9e625888-55e1-4590-a27b-950f5d2b9b8c",
   "metadata": {},
   "source": [
    "### Assignment 4: Nested if Statement\n",
    "\n",
    "Write a program that asks the user to input a number and prints whether the number is positive and even, positive and odd, or negative.\n"
   ]
  },
  {
   "cell_type": "code",
   "execution_count": 11,
   "id": "d0650bc2-c49e-47d2-98dd-9a167329496e",
   "metadata": {},
   "outputs": [
    {
     "name": "stdin",
     "output_type": "stream",
     "text": [
      "Enter a number:  6\n"
     ]
    },
    {
     "name": "stdout",
     "output_type": "stream",
     "text": [
      "6 is a positive and even number!\n"
     ]
    }
   ],
   "source": [
    "num = int(input(\"Enter a number: \"))\n",
    "if num==0:\n",
    "    print(f\"{num} is a zero!\")\n",
    "elif num>0 and num%2==0:\n",
    "    print(f\"{num} is a positive and even number!\")\n",
    "elif num>0 and num%2!=0:\n",
    "    print(f\"{num} is a positive and odd number!\")\n",
    "else:\n",
    "    print(f\"{num} is a negative number!\")"
   ]
  },
  {
   "cell_type": "markdown",
   "id": "4f2fd21a-ee27-4734-8107-e4fdce26e09c",
   "metadata": {},
   "source": [
    "## Lesson 2.2: Loops\n",
    "### Assignment 5: for Loop\n",
    "\n",
    "Write a program that prints all the numbers from 1 to 10 using a for loop.\n"
   ]
  },
  {
   "cell_type": "code",
   "execution_count": 14,
   "id": "7127719e-779f-4eab-a959-6faafc80dd74",
   "metadata": {},
   "outputs": [
    {
     "name": "stdout",
     "output_type": "stream",
     "text": [
      "1 2 3 4 5 6 7 8 9 10 "
     ]
    }
   ],
   "source": [
    "for i in range(1,11):\n",
    "    print(i, end=' ')"
   ]
  },
  {
   "cell_type": "markdown",
   "id": "d89562e1-a5f1-4ccf-8513-938de71d8462",
   "metadata": {},
   "source": [
    "### Assignment 6: while Loop\n",
    "\n",
    "Write a program that prints all the numbers from 1 to 10 using a while loop."
   ]
  },
  {
   "cell_type": "code",
   "execution_count": 15,
   "id": "242e1198-1829-46be-844a-2d34f5c077f9",
   "metadata": {},
   "outputs": [
    {
     "name": "stdout",
     "output_type": "stream",
     "text": [
      "1 2 3 4 5 6 7 8 9 10 "
     ]
    }
   ],
   "source": [
    "num = 1\n",
    "while num<11:\n",
    "    print(num, end=' ')\n",
    "    num+=1"
   ]
  },
  {
   "cell_type": "markdown",
   "id": "e51b4339-6c24-4f0c-bfd6-3a7c455fc74f",
   "metadata": {},
   "source": [
    "### Assignment 7: Nested Loops\n",
    "\n",
    "Write a program that prints a 5x5 grid of asterisks (*) using nested loops.\n"
   ]
  },
  {
   "cell_type": "code",
   "execution_count": 25,
   "id": "8be26741-87f9-40dc-9ab3-2cffbf132fa9",
   "metadata": {},
   "outputs": [
    {
     "name": "stdout",
     "output_type": "stream",
     "text": [
      "* * * * * \n",
      "* * * * * \n",
      "* * * * * \n",
      "* * * * * \n",
      "* * * * * \n"
     ]
    }
   ],
   "source": [
    "for i in range(5):\n",
    "    for j in range(5):\n",
    "        print('*', end=' ')\n",
    "    print()"
   ]
  },
  {
   "cell_type": "markdown",
   "id": "8a6c7b1d-dff4-45d1-94de-843c24f171c1",
   "metadata": {},
   "source": [
    "### Assignment 8: break Statement\n",
    "\n",
    "Write a program that asks the user to input numbers until they input 0. The program should print the sum of all the input numbers."
   ]
  },
  {
   "cell_type": "code",
   "execution_count": 33,
   "id": "e76da11f-9bf3-41a5-87ef-56ac6af4cc65",
   "metadata": {},
   "outputs": [
    {
     "name": "stdin",
     "output_type": "stream",
     "text": [
      "Enter a number:  1\n",
      "Enter a number:  2\n",
      "Enter a number:  0\n"
     ]
    },
    {
     "name": "stdout",
     "output_type": "stream",
     "text": [
      "sum_num: 3\n"
     ]
    }
   ],
   "source": [
    "sum_num = 0\n",
    "boolean = True\n",
    "while boolean:\n",
    "    num = int(input('Enter a number: '))\n",
    "    if num==0:\n",
    "        sum_num += num\n",
    "        boolean = False\n",
    "    else:\n",
    "        sum_num += num\n",
    "        \n",
    "print(f\"sum_num: {sum_num}\")"
   ]
  },
  {
   "cell_type": "markdown",
   "id": "f537193c-9ce8-4c47-83c3-a01f88c44ced",
   "metadata": {},
   "source": [
    "### Assignment 9: continue Statement\n",
    "\n",
    "Write a program that prints all the numbers from 1 to 10 except 5 using a for loop and continue statement.\n"
   ]
  },
  {
   "cell_type": "code",
   "execution_count": 34,
   "id": "dd18fe94-e20e-4b75-ad0a-69472611b0bc",
   "metadata": {},
   "outputs": [
    {
     "name": "stdout",
     "output_type": "stream",
     "text": [
      "1 2 3 4 6 7 8 9 10 "
     ]
    }
   ],
   "source": [
    "for i in range(1, 11):\n",
    "    if i==5:\n",
    "        continue\n",
    "    print(i, end=' ')"
   ]
  },
  {
   "cell_type": "markdown",
   "id": "01195c9e-cf2a-41e4-971a-5ae535fa28c8",
   "metadata": {},
   "source": [
    "\n",
    "### Assignment 10: pass Statement\n",
    "\n",
    "Write a program that defines an empty function using the pass statement.\n"
   ]
  },
  {
   "cell_type": "code",
   "execution_count": 35,
   "id": "efdf2d62-de29-47cc-b248-fbca4947ced4",
   "metadata": {},
   "outputs": [],
   "source": [
    "def empty():\n",
    "    pass\n",
    "empty()"
   ]
  },
  {
   "cell_type": "markdown",
   "id": "bbf7edf7-c23c-4aba-bdb3-0bfcb2eeb260",
   "metadata": {},
   "source": [
    "### Assignment 11: Combining Loops and Conditionals\n",
    "\n",
    "Write a program that asks the user to input a number and prints all the even numbers from 1 to that number using a for loop."
   ]
  },
  {
   "cell_type": "code",
   "execution_count": 38,
   "id": "0764592e-b86d-408a-8cc0-0ebaa87f50e2",
   "metadata": {},
   "outputs": [
    {
     "name": "stdin",
     "output_type": "stream",
     "text": [
      "Enter a number:  6\n"
     ]
    },
    {
     "name": "stdout",
     "output_type": "stream",
     "text": [
      "2 4 6 "
     ]
    }
   ],
   "source": [
    "num = int(input('Enter a number: '))\n",
    "for i in range(1, num+1):\n",
    "    if i%2==0:\n",
    "        print(i, end=' ')"
   ]
  },
  {
   "cell_type": "markdown",
   "id": "c61771a5-1f7f-4257-98f5-2a51f35aa373",
   "metadata": {},
   "source": [
    "### Assignment 12: Factorial Calculation\n",
    "\n",
    "Write a program that calculates the factorial of a number input by the user using a while loop.\n"
   ]
  },
  {
   "cell_type": "code",
   "execution_count": 52,
   "id": "12f308ee-4817-4cac-8388-cdd4c9c01a9c",
   "metadata": {},
   "outputs": [
    {
     "name": "stdin",
     "output_type": "stream",
     "text": [
      "Enter a number:  5\n"
     ]
    },
    {
     "name": "stdout",
     "output_type": "stream",
     "text": [
      "120\n"
     ]
    }
   ],
   "source": [
    "counter = int(input('Enter a number: '))\n",
    "factorial = 1\n",
    "while counter>0:\n",
    "    factorial *= counter\n",
    "    counter-=1\n",
    "print(factorial)"
   ]
  },
  {
   "cell_type": "markdown",
   "id": "8fd6c51e-5c38-4589-a418-10b54cd9bb7e",
   "metadata": {},
   "source": [
    "\n",
    "### Assignment 13: Sum of Digits\n",
    "\n",
    "Write a program that calculates the sum of the digits of a number input by the user using a while loop."
   ]
  },
  {
   "cell_type": "code",
   "execution_count": 60,
   "id": "315adced-a8a9-47c3-a9db-90c7eacd57b7",
   "metadata": {},
   "outputs": [
    {
     "name": "stdin",
     "output_type": "stream",
     "text": [
      "Enter a number:  22\n"
     ]
    },
    {
     "name": "stdout",
     "output_type": "stream",
     "text": [
      "1124000727777607680000\n"
     ]
    }
   ],
   "source": [
    "counter = int(input('Enter a number: '))\n",
    "sum_num = 0\n",
    "while counter>0:\n",
    "    factorial *= counter\n",
    "    counter-=1\n",
    "print(factorial)"
   ]
  },
  {
   "cell_type": "markdown",
   "id": "29866142-81b8-4584-b9e4-bfe20677b55e",
   "metadata": {},
   "source": [
    "\n",
    "### Assignment 14: Prime Number Check\n",
    "\n",
    "Write a program that checks if a number input by the user is a prime number using a for loop.\n"
   ]
  },
  {
   "cell_type": "markdown",
   "id": "24564937-465e-4edf-aa00-3a214dda17d1",
   "metadata": {},
   "source": [
    "### Assignment 15: Fibonacci Sequence\n",
    "\n",
    "Write a program that prints the first n Fibonacci numbers, where n is input by the user."
   ]
  }
 ],
 "metadata": {
  "kernelspec": {
   "display_name": "Python 3 (ipykernel)",
   "language": "python",
   "name": "python3"
  },
  "language_info": {
   "codemirror_mode": {
    "name": "ipython",
    "version": 3
   },
   "file_extension": ".py",
   "mimetype": "text/x-python",
   "name": "python",
   "nbconvert_exporter": "python",
   "pygments_lexer": "ipython3",
   "version": "3.13.5"
  }
 },
 "nbformat": 4,
 "nbformat_minor": 5
}
