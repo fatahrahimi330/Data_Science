{
 "cells": [
  {
   "cell_type": "markdown",
   "id": "92de7685",
   "metadata": {},
   "source": [
    "# Module 3: Data Structures Assignments\n",
    "## Lesson 3.4: Dictionaries"
   ]
  },
  {
   "cell_type": "markdown",
   "id": "8568d046-cf2c-4d4b-9814-6470051c817f",
   "metadata": {},
   "source": [
    "### Assignment 1: Creating and Accessing Dictionaries\n",
    "\n",
    "Create a dictionary with the first 10 positive integers as keys and their squares as values. Print the dictionary.\n"
   ]
  },
  {
   "cell_type": "code",
   "execution_count": 1,
   "id": "d7906060-1247-479f-a8a7-62bfc1e2fafe",
   "metadata": {},
   "outputs": [
    {
     "name": "stdout",
     "output_type": "stream",
     "text": [
      "{1: 1, 2: 4, 3: 9, 4: 16, 5: 25, 6: 36, 7: 49, 8: 64, 9: 81, 10: 100}\n"
     ]
    }
   ],
   "source": [
    "dic = {1:1, 2:4, 3:9, 4:16, 5:25, 6:36, 7:49, 8:64, 9:81, 10:100}\n",
    "print(dic)"
   ]
  },
  {
   "cell_type": "markdown",
   "id": "75926265-e490-4379-b840-d15896dfe73a",
   "metadata": {},
   "source": [
    "\n",
    "### Assignment 2: Accessing Dictionary Elements\n",
    "\n",
    "Print the value of the key 5 and the keys of the dictionary created in Assignment 1.\n"
   ]
  },
  {
   "cell_type": "code",
   "execution_count": 4,
   "id": "82c6c6c9-293e-4f26-974f-e93e113cdf02",
   "metadata": {},
   "outputs": [
    {
     "name": "stdout",
     "output_type": "stream",
     "text": [
      "25\n"
     ]
    }
   ],
   "source": [
    "print(dic[5])"
   ]
  },
  {
   "cell_type": "markdown",
   "id": "1a045dd3-48ae-40b8-8081-d92a65e627ca",
   "metadata": {},
   "source": [
    "\n",
    "### Assignment 3: Dictionary Methods\n",
    "\n",
    "Add a new key-value pair (11, 121) to the dictionary created in Assignment 1 and then remove the key-value pair with key 1. Print the modified dictionary.\n"
   ]
  },
  {
   "cell_type": "code",
   "execution_count": 6,
   "id": "49ed310f-3179-493a-aa15-3c0753f86f50",
   "metadata": {},
   "outputs": [
    {
     "name": "stdout",
     "output_type": "stream",
     "text": [
      "{2: 4, 3: 9, 4: 16, 5: 25, 6: 36, 7: 49, 8: 64, 9: 81, 10: 100, 11: 121}\n"
     ]
    }
   ],
   "source": [
    "dic[11] = 121\n",
    "dic.pop(1)\n",
    "print(dic)"
   ]
  },
  {
   "cell_type": "markdown",
   "id": "355baf06-7e17-46e6-9836-cc16ddf653ae",
   "metadata": {},
   "source": [
    "\n",
    "### Assignment 4: Iterating Over Dictionaries\n",
    "\n",
    "Iterate over the dictionary created in Assignment 1 and print each key-value pair.\n"
   ]
  },
  {
   "cell_type": "code",
   "execution_count": 11,
   "id": "9ec04bae-14aa-4aa9-b24e-54d13e1119ed",
   "metadata": {},
   "outputs": [
    {
     "name": "stdout",
     "output_type": "stream",
     "text": [
      "2 4\n",
      "3 9\n",
      "4 16\n",
      "5 25\n",
      "6 36\n",
      "7 49\n",
      "8 64\n",
      "9 81\n",
      "10 100\n",
      "11 121\n"
     ]
    }
   ],
   "source": [
    "for key, value in dic.items():\n",
    "    print(key, value)\n"
   ]
  },
  {
   "cell_type": "markdown",
   "id": "771dfa35-d441-4ad2-afa0-f997825b1597",
   "metadata": {},
   "source": [
    "\n",
    "### Assignment 5: Dictionary Comprehensions\n",
    "\n",
    "Create a new dictionary containing the cubes of the first 10 positive integers using a dictionary comprehension. Print the new dictionary.\n"
   ]
  },
  {
   "cell_type": "code",
   "execution_count": 16,
   "id": "7b48c092-5ca5-4ae3-abfc-82bd6ffdf184",
   "metadata": {},
   "outputs": [
    {
     "name": "stdout",
     "output_type": "stream",
     "text": [
      "{'6: 216', '3: 27', '1: 1', '9: 729', '7: 343', '10: 1000', '5: 125', '4: 64', '8: 512', '2: 8'}\n"
     ]
    }
   ],
   "source": [
    "dic1 = {f\"{i}: {i**3}\" for i in range(1, 11)}\n",
    "print(dic1)"
   ]
  },
  {
   "cell_type": "markdown",
   "id": "4608f99a-1f97-421c-b6b3-a1b708ae1e2f",
   "metadata": {},
   "source": [
    "\n",
    "### Assignment 6: Merging Dictionaries\n",
    "\n",
    "Create two dictionaries: one with keys as the first 5 positive integers and values as their squares, and another with keys as the next 5 positive integers and values as their squares. Merge these dictionaries into a single dictionary and print it.\n"
   ]
  },
  {
   "cell_type": "code",
   "execution_count": 23,
   "id": "a6472d52-7d47-41b0-8075-64e0a414bc60",
   "metadata": {},
   "outputs": [
    {
     "name": "stdout",
     "output_type": "stream",
     "text": [
      "{1: 1, 2: 4, 3: 9, 4: 16, 5: 25, 6: 36, 7: 49, 8: 64, 9: 81, 10: 100}\n"
     ]
    }
   ],
   "source": [
    "dic1 = {1:1, 2:4, 3:9, 4:16, 5:25}\n",
    "dic2 = {6:36, 7:49, 8:64, 9:81, 10:100}\n",
    "dic = dic1 | dic2\n",
    "print(dic)"
   ]
  },
  {
   "cell_type": "code",
   "execution_count": 24,
   "id": "d1a50986-9a34-4dda-873b-b7ef4156d236",
   "metadata": {},
   "outputs": [
    {
     "name": "stdout",
     "output_type": "stream",
     "text": [
      "{1: 1, 2: 4, 3: 9, 4: 16, 5: 25, 6: 36, 7: 49, 8: 64, 9: 81, 10: 100}\n"
     ]
    }
   ],
   "source": [
    "dic = {**dic1, **dic2}\n",
    "print(dic)"
   ]
  },
  {
   "cell_type": "markdown",
   "id": "d421d2fb-7b09-4bd6-991b-ebab55c36bf4",
   "metadata": {},
   "source": [
    "\n",
    "### Assignment 7: Nested Dictionaries\n",
    "\n",
    "Create a nested dictionary representing a student with keys 'name', 'age', 'grades', where 'grades' is another dictionary with keys 'math', 'science', and 'english'. Print the nested dictionary.\n"
   ]
  },
  {
   "cell_type": "code",
   "execution_count": 26,
   "id": "91e9225f-c658-448f-bac5-93c06b03875f",
   "metadata": {},
   "outputs": [
    {
     "name": "stdout",
     "output_type": "stream",
     "text": [
      "{'name': 'Abdul', 'age': 20, 'grades': {'math': 98, 'science': 88, 'english': 93}}\n"
     ]
    }
   ],
   "source": [
    "student = {'name':'Abdul' , 'age': 20 , 'grades':{'math': 98, 'science': 88, 'english': 93}}\n",
    "print(student)"
   ]
  },
  {
   "cell_type": "markdown",
   "id": "5a0423d3-9cf8-471c-be2a-b02aa7d1584d",
   "metadata": {},
   "source": [
    "\n",
    "### Assignment 8: Dictionary of Lists\n",
    "\n",
    "Create a dictionary where the keys are the first 5 positive integers and the values are lists containing the first 5 multiples of the key. Print the dictionary.\n"
   ]
  },
  {
   "cell_type": "code",
   "execution_count": 28,
   "id": "9342b49b-4fac-4bf9-be80-8489013e93ab",
   "metadata": {},
   "outputs": [
    {
     "name": "stdout",
     "output_type": "stream",
     "text": [
      "{1: [1, 2, 3, 4, 5], 2: [2, 4, 6, 8, 10], 3: [3, 6, 9, 12, 15], 4: [4, 8, 12, 16, 20], 5: [5, 10, 15, 20, 25]}\n"
     ]
    }
   ],
   "source": [
    "dic = {1:[1, 2, 3, 4, 5], 2:[2, 4, 6, 8, 10], 3:[3, 6, 9, 12, 15], 4:[4, 8, 12, 16, 20], 5:[5, 10, 15, 20, 25]}\n",
    "print(dic)"
   ]
  },
  {
   "cell_type": "markdown",
   "id": "270e7093-70e0-4f9b-a1dc-5d7d25b5433e",
   "metadata": {},
   "source": [
    "\n",
    "### Assignment 9: Dictionary of Tuples\n",
    "\n",
    "Create a dictionary where the keys are the first 5 positive integers and the values are tuples containing the key and its square. Print the dictionary.\n"
   ]
  },
  {
   "cell_type": "code",
   "execution_count": 29,
   "id": "ceff6582-b3a8-4904-86b8-b7502103f34d",
   "metadata": {},
   "outputs": [
    {
     "name": "stdout",
     "output_type": "stream",
     "text": [
      "{1: (1, 1), 2: (2, 4), 3: (3, 9), 4: (4, 16), 5: (5, 25)}\n"
     ]
    }
   ],
   "source": [
    "dic = {1:(1, 1), 2:(2, 4), 3:(3, 9), 4:(4, 16), 5:(5, 25)}\n",
    "print(dic)"
   ]
  },
  {
   "cell_type": "markdown",
   "id": "02b9ec6d-bb4d-417f-baf6-34409314bb09",
   "metadata": {},
   "source": [
    "\n",
    "### Assignment 10: Dictionary and List Conversion\n",
    "\n",
    "Create a dictionary with the first 5 positive integers as keys and their squares as values. Convert the dictionary to a list of tuples and print it.\n"
   ]
  },
  {
   "cell_type": "code",
   "execution_count": 34,
   "id": "30b6d81e-5993-4660-b27c-ff46333b1230",
   "metadata": {},
   "outputs": [
    {
     "name": "stdout",
     "output_type": "stream",
     "text": [
      "[(1, 1), (2, 4), (3, 9), (4, 16), (5, 25)]\n"
     ]
    }
   ],
   "source": [
    "dic = {1:1, 2:4, 3:9, 4:16, 5:25}\n",
    "lst = [(key, value) for key, value in dic.items()]\n",
    "print(lst)"
   ]
  },
  {
   "cell_type": "markdown",
   "id": "30fa9464-28dc-4e78-8a8c-3f726ca791cf",
   "metadata": {},
   "source": [
    "\n",
    "### Assignment 11: Dictionary Filtering\n",
    "\n",
    "Create a dictionary with the first 10 positive integers as keys and their squares as values. Create a new dictionary containing only the key-value pairs where the key is even. Print the new dictionary.\n"
   ]
  },
  {
   "cell_type": "code",
   "execution_count": 38,
   "id": "8b3e7b13-d3f8-49e4-ad7e-eca73f089be6",
   "metadata": {},
   "outputs": [
    {
     "name": "stdout",
     "output_type": "stream",
     "text": [
      "{(2, 4), (4, 16), (8, 64), (10, 100), (6, 36)}\n"
     ]
    }
   ],
   "source": [
    "dic = {1:1, 2:4, 3:9, 4:16, 5:25, 6:36, 7:49, 8:64, 9:81, 10:100}\n",
    "dic_new = {(key, value) for key, value in dic.items() if key%2==0}\n",
    "print(dic_new)"
   ]
  },
  {
   "cell_type": "markdown",
   "id": "04cb1ccf-bde2-4c69-8d50-c537e1a99529",
   "metadata": {},
   "source": [
    "\n",
    "### Assignment 12: Dictionary Key and Value Transformation\n",
    "\n",
    "Create a dictionary with the first 5 positive integers as keys and their squares as values. Create a new dictionary with keys and values swapped. Print the new dictionary.\n"
   ]
  },
  {
   "cell_type": "code",
   "execution_count": 41,
   "id": "ff609b50-b44d-431b-9fad-e56cd6a63aea",
   "metadata": {},
   "outputs": [
    {
     "name": "stdout",
     "output_type": "stream",
     "text": [
      "{1: 1, 4: 2, 9: 3, 16: 4, 25: 5}\n"
     ]
    }
   ],
   "source": [
    "dic = {1:1, 2:4, 3:9, 4:16, 5:25}\n",
    "new_dic = {value : key for key, value in dic.items()}\n",
    "print(new_dic)"
   ]
  },
  {
   "cell_type": "markdown",
   "id": "ca197377-34df-4261-aa4b-56c0c4396222",
   "metadata": {},
   "source": [
    "\n",
    "### Assignment 13: Default Dictionary\n",
    "\n",
    "Create a default dictionary where each key has a default value of an empty list. Add some elements to the lists and print the dictionary.\n"
   ]
  },
  {
   "cell_type": "code",
   "execution_count": 43,
   "id": "45138f11-40db-44fe-87e6-b51467f8d411",
   "metadata": {},
   "outputs": [
    {
     "name": "stdout",
     "output_type": "stream",
     "text": [
      "{'fruits': ['apple', 'banana'], 'vegetables': ['carrot', 'broccoli'], 'drinks': ['water']}\n"
     ]
    }
   ],
   "source": [
    "from collections import defaultdict\n",
    "my_dict = defaultdict(list)\n",
    "my_dict['fruits'].append('apple')\n",
    "my_dict['fruits'].append('banana')\n",
    "my_dict['vegetables'].append('carrot')\n",
    "my_dict['vegetables'].append('broccoli')\n",
    "my_dict['drinks'].append('water')\n",
    "print(dict(my_dict))"
   ]
  },
  {
   "cell_type": "markdown",
   "id": "53da30bb-1eaa-4f88-a225-1f35965e77bb",
   "metadata": {},
   "source": [
    "\n",
    "### Assignment 14: Counting with Dictionaries\n",
    "\n",
    "Write a function that takes a string and returns a dictionary with the count of each character in the string. Print the dictionary.\n"
   ]
  },
  {
   "cell_type": "code",
   "execution_count": 68,
   "id": "db61b8f8-b073-42c6-82e1-81d19cf4df2c",
   "metadata": {},
   "outputs": [
    {
     "name": "stdout",
     "output_type": "stream",
     "text": [
      "{'a': 3, 'b': 1, 'd': 1, 'u': 1, 'l': 1, 'f': 1, 't': 1, 'h': 1}\n"
     ]
    }
   ],
   "source": [
    "def char_count(text):\n",
    "    count = {}\n",
    "    for char in text.lower().replace(' ',''):\n",
    "        if char in count:\n",
    "            count[char] += 1\n",
    "        else:\n",
    "            count[char] = 1\n",
    "    return count\n",
    "\n",
    "s = \"Abdul Fatah\"\n",
    "print(char_count(s))"
   ]
  },
  {
   "cell_type": "markdown",
   "id": "01172011-d764-425c-b706-1d5f15515fdb",
   "metadata": {},
   "source": [
    "\n",
    "### Assignment 15: Dictionary and JSON\n",
    "\n",
    "Create a dictionary representing a book with keys 'title', 'author', 'year', and 'genre'. Convert the dictionary to a JSON string and print it."
   ]
  },
  {
   "cell_type": "code",
   "execution_count": 71,
   "id": "ea745cef-f574-4fae-9874-06ec7e596806",
   "metadata": {},
   "outputs": [
    {
     "name": "stdout",
     "output_type": "stream",
     "text": [
      "{\n",
      "    \"title\": \"Python\",\n",
      "    \"author\": \"Adrena\",\n",
      "    \"year\": 2025,\n",
      "    \"genre\": \"Programming\"\n",
      "}\n"
     ]
    }
   ],
   "source": [
    "import json\n",
    "dic = {\"title\": \"Python\", \"author\": \"Adrena\", \"year\": 2025, \"genre\": \"Programming\"}\n",
    "json_file = json.dumps(dic, indent=4)\n",
    "print(json_file)"
   ]
  }
 ],
 "metadata": {
  "kernelspec": {
   "display_name": "Python 3 (ipykernel)",
   "language": "python",
   "name": "python3"
  },
  "language_info": {
   "codemirror_mode": {
    "name": "ipython",
    "version": 3
   },
   "file_extension": ".py",
   "mimetype": "text/x-python",
   "name": "python",
   "nbconvert_exporter": "python",
   "pygments_lexer": "ipython3",
   "version": "3.13.5"
  }
 },
 "nbformat": 4,
 "nbformat_minor": 5
}
