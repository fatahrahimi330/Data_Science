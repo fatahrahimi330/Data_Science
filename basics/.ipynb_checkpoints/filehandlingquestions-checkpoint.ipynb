{
 "cells": [
  {
   "cell_type": "markdown",
   "id": "f5d3cd47",
   "metadata": {},
   "source": [
    "# Module: File Handling Assignments\n",
    "## Lesson: File Handling and Operations"
   ]
  },
  {
   "cell_type": "markdown",
   "id": "9b649d77-cfc7-4856-9feb-806832302668",
   "metadata": {},
   "source": [
    "### Assignment 1: Reading a File\n",
    "\n",
    "Write a function that reads the contents of a file named `sample.txt` and prints each line.\n"
   ]
  },
  {
   "cell_type": "code",
   "execution_count": 9,
   "id": "8c0f9b0b-5064-46fa-bf0a-ac95ba0733f3",
   "metadata": {},
   "outputs": [
    {
     "name": "stdout",
     "output_type": "stream",
     "text": [
      "Hello! Welcome to sample.txt\n",
      "This file is for testing purposes.\n",
      "Good Luck!\n"
     ]
    }
   ],
   "source": [
    "f = open(\"sample.txt\", \"r\")\n",
    "print(f.read())"
   ]
  },
  {
   "cell_type": "markdown",
   "id": "1dd08c5a-a53d-4be9-8e0c-b0c302d0ef6c",
   "metadata": {},
   "source": [
    "\n",
    "### Assignment 2: Writing to a File\n",
    "\n",
    "Write a function that writes a list of strings to a file named `output.txt`, with each string on a new line.\n"
   ]
  },
  {
   "cell_type": "code",
   "execution_count": 8,
   "id": "084970eb-e707-4dfc-a38c-08ee89c5c813",
   "metadata": {},
   "outputs": [
    {
     "data": {
      "text/plain": [
       "34"
      ]
     },
     "execution_count": 8,
     "metadata": {},
     "output_type": "execute_result"
    }
   ],
   "source": [
    "f = open(\"output.txt\", \"w\")\n",
    "f.write(\"Woops! I have written the content!\")"
   ]
  },
  {
   "cell_type": "markdown",
   "id": "47a5cc7b-4997-41fd-a52f-f7ece83a4289",
   "metadata": {},
   "source": [
    "\n",
    "### Assignment 3: Copying a File\n",
    "\n",
    "Write a function that copies the contents of a file named `output.txt` to a new file named `destination.txt`.\n"
   ]
  },
  {
   "cell_type": "code",
   "execution_count": 14,
   "id": "bfd2b063-2f8b-4bd8-a822-b43796ff4da8",
   "metadata": {},
   "outputs": [
    {
     "name": "stdout",
     "output_type": "stream",
     "text": [
      "Woops! I have written the content!\n"
     ]
    }
   ],
   "source": [
    "f = open(\"output.txt\", \"r\")\n",
    "n = open(\"destination.txt\", \"w\")\n",
    "n.write(f.read())\n",
    "n = open(\"destination.txt\", \"r\")\n",
    "print(n.read())"
   ]
  },
  {
   "cell_type": "markdown",
   "id": "4104d291-85ac-4e60-afdb-2306c3f4ed19",
   "metadata": {},
   "source": [
    "\n",
    "### Assignment 4: Appending to a File\n",
    "\n",
    "Write a function that appends a given string to the end of a file named `destination.txt`.\n"
   ]
  },
  {
   "cell_type": "code",
   "execution_count": 16,
   "id": "27a99e26-8ccc-40a7-adc3-8c4ff2e3e6a9",
   "metadata": {},
   "outputs": [
    {
     "data": {
      "text/plain": [
       "30"
      ]
     },
     "execution_count": 16,
     "metadata": {},
     "output_type": "execute_result"
    }
   ],
   "source": [
    "n = open(\"destination.txt\", \"a\")\n",
    "n.write(\"Now the file has more content!\")"
   ]
  },
  {
   "cell_type": "markdown",
   "id": "157abf95-cffd-45ba-9446-bdb6a29adfce",
   "metadata": {},
   "source": [
    "\n",
    "### Assignment 5: Counting Words in a File\n",
    "\n",
    "Write a function that reads the contents of a file named `destination.txt` and returns the number of words in the file.\n"
   ]
  },
  {
   "cell_type": "code",
   "execution_count": 26,
   "id": "a5d644f3-b0b9-466b-8035-db853e4fc99c",
   "metadata": {},
   "outputs": [
    {
     "name": "stdout",
     "output_type": "stream",
     "text": [
      "11\n"
     ]
    }
   ],
   "source": [
    "n = open(\"destination.txt\", \"r\")\n",
    "r = n.read()\n",
    "x = len(r.split())\n",
    "print(x)"
   ]
  },
  {
   "cell_type": "markdown",
   "id": "87246c35-c2a4-4689-a5b0-d48e55a2ff1b",
   "metadata": {},
   "source": [
    "\n",
    "### Assignment 6: Finding and Replacing Text\n",
    "\n",
    "Write a function that finds and replaces all occurrences of a given word in a file named `distination.txt` with another word.\n"
   ]
  },
  {
   "cell_type": "code",
   "execution_count": 31,
   "id": "f100602b-5533-4bfb-a578-012cf01bfdef",
   "metadata": {},
   "outputs": [
    {
     "name": "stdout",
     "output_type": "stream",
     "text": [
      "Woops! I have written the content! Hello from end of string!\n",
      "Woops! I have written the content! \n"
     ]
    }
   ],
   "source": [
    "n = open(\"destination.txt\", \"r\")\n",
    "r = n.read()\n",
    "print(r)\n",
    "rp = r.replace('Hello from end of string!', '')\n",
    "print(rp)"
   ]
  },
  {
   "cell_type": "markdown",
   "id": "853ae70a-83ff-4eac-be9a-d8e86096952d",
   "metadata": {},
   "source": [
    "\n",
    "### Assignment 7: Reading a File in Reverse\n",
    "\n",
    "Write a function that reads the contents of a file named `distination.txt` and prints each line in reverse order.\n"
   ]
  },
  {
   "cell_type": "code",
   "execution_count": 36,
   "id": "a12ec613-ef5e-4f2d-a1a1-fc562174e6aa",
   "metadata": {},
   "outputs": [
    {
     "name": "stdout",
     "output_type": "stream",
     "text": [
      "Woops! I have written the content! \n",
      "Hello from end of string!\n",
      "!gnirts fo dne morf olleH\n",
      " !tnetnoc eht nettirw evah I !spooW"
     ]
    }
   ],
   "source": [
    "n = open(\"destination.txt\", \"r\")\n",
    "r = n.read()\n",
    "print(r)\n",
    "ralph = reversed(r)\n",
    "for i in ralph:\n",
    "    print(i, end= '')"
   ]
  },
  {
   "cell_type": "markdown",
   "id": "ecb16ac7-6262-44cc-a550-71d6633343c1",
   "metadata": {},
   "source": [
    "\n",
    "### Assignment 8: Counting Lines, Words, and Characters\n",
    "\n",
    "Write a function that reads the contents of a file named `distination.txt` and returns the number of lines, words, and characters in the file.\n"
   ]
  },
  {
   "cell_type": "code",
   "execution_count": 40,
   "id": "7a5584e4-4a6c-4bb0-8392-90bbce57b5e9",
   "metadata": {},
   "outputs": [
    {
     "name": "stdout",
     "output_type": "stream",
     "text": [
      "2\n",
      "11\n",
      "61\n"
     ]
    }
   ],
   "source": [
    "n = open(\"destination.txt\", \"r\")\n",
    "r = n.read()\n",
    "print(len(r.split('\\n')))\n",
    "print(len(r.split()))\n",
    "print(len(r))"
   ]
  },
  {
   "cell_type": "markdown",
   "id": "408aadb9-5c8c-4c60-b657-b58b10d8226e",
   "metadata": {},
   "source": [
    "\n",
    "### Assignment 9: Merging Multiple Files\n",
    "\n",
    "Write a function that merges the contents of multiple files into a single file named `distination.txt`.\n"
   ]
  },
  {
   "cell_type": "code",
   "execution_count": 45,
   "id": "3eb51a83-c281-43fe-a496-fdb9c222c67e",
   "metadata": {},
   "outputs": [
    {
     "data": {
      "text/plain": [
       "108"
      ]
     },
     "execution_count": 45,
     "metadata": {},
     "output_type": "execute_result"
    }
   ],
   "source": [
    "def merge_files(file_list):\n",
    "    try:\n",
    "        with open(\"destination.txt\", \"w\") as outfile:\n",
    "            for filename in file_list:\n",
    "                with open(filename, \"r\") as infile:\n",
    "                    outfile.write(infile.read())\n",
    "                    outfile.write(\"\\n\")  # Optional: adds a newline between files\n",
    "        print(\"All files merged successfully into 'destination.txt'.\")\n",
    "    except FileNotFoundError as e:\n",
    "        print(f\"Error: {e.filename} not found.\")\n",
    "    except Exception as e:\n",
    "        print(f\"An error occurred: {e}\")\n",
    "\n",
    "# Example usage\n",
    "merge_files([\"file1.txt\", \"file2.txt\", \"file3.txt\"])\n"
   ]
  },
  {
   "cell_type": "markdown",
   "id": "5911845b-d562-40df-ab4d-87ffd1f36246",
   "metadata": {},
   "source": [
    "\n",
    "### Assignment 10: Splitting a Large File\n",
    "\n",
    "Write a function that splits a large file named `large.txt` into smaller files of 100 lines each.\n"
   ]
  },
  {
   "cell_type": "code",
   "execution_count": null,
   "id": "1022fc81-abea-4ab0-9ef7-969d8ec6bf08",
   "metadata": {},
   "outputs": [],
   "source": [
    "def func(file_path):\n",
    "    file = open(file_path, \"r\")\n",
    "    lines = file.readlines()\n",
    "    file_count = 1\n",
    "    for i in range(0, len(lines), 100):\n",
    "        chunk = lines[i:i+100]\n",
    "        filename = f\"part_{file_count}.txt\"\n",
    "        \n",
    "        part_file = open(filename, \"w\")\n",
    "        part_file.writelines(chunk)\n",
    "        \n",
    "        print(f\"{filename} created with {len(chunk)} lines.\")\n",
    "        file_count += 1\n",
    "    print(\"Done successfully.\")\n",
    "    \n",
    "func('large.txt')"
   ]
  },
  {
   "cell_type": "markdown",
   "id": "720ce933-525e-4d83-82f3-aeb4a63b1aaf",
   "metadata": {},
   "source": [
    "\n",
    "### Assignment 11: Creating a Log File\n",
    "\n",
    "Write a function that creates a log file named `activity.log` and writes log messages with timestamps.\n"
   ]
  },
  {
   "cell_type": "code",
   "execution_count": null,
   "id": "0f826c44-7c09-446a-b0ac-a061588a8909",
   "metadata": {},
   "outputs": [],
   "source": [
    "from datetime import datetime\n",
    "\n",
    "def write_log(message):\n",
    "    log_file = open(\"activity.log\", \"a\")\n",
    "    timestamp = datetime.now().strftime(\"%Y-%m-%d %H:%M:%S\")\n",
    "    log_file.write(f\"[{timestamp}] {message}\\n\")\n",
    "    print(\"Done successfully.\")\n",
    "\n",
    "# Example usage\n",
    "write_log(\"Program started.\")\n",
    "write_log(\"User logged in.\")\n",
    "write_log(\"File processed successfully.\")\n"
   ]
  },
  {
   "cell_type": "markdown",
   "id": "62dddf67-ef0f-4188-986b-f15ee387a0f3",
   "metadata": {},
   "source": [
    "\n",
    "### Assignment 12: Binary File Operations\n",
    "\n",
    "Write a function that reads a binary file named `image.bin` and writes its contents to another binary file named `copy_image.bin`.\n"
   ]
  },
  {
   "cell_type": "code",
   "execution_count": null,
   "id": "6eda50fa-a899-4fce-985c-4548fa58eb77",
   "metadata": {},
   "outputs": [],
   "source": [
    "def copy_binary_file():\n",
    "    source = open(\"image.bin\", \"rb\")   # open in read-binary mode\n",
    "    data = source.read()\n",
    "        \n",
    "    destination =  open(\"copy_image.bin\", \"wb\") # open in write-binary mode\n",
    "    destination.write(data)\n",
    "        \n",
    "    print(\"Binary file copied successfully.\")\n",
    "\n",
    "# Example usage\n",
    "copy_binary_file()\n"
   ]
  },
  {
   "cell_type": "markdown",
   "id": "b0886a46-f475-448f-bba8-8c86696d64e7",
   "metadata": {},
   "source": [
    "\n",
    "### Assignment 13: CSV File Operations\n",
    "\n",
    "Write a function that reads a CSV file named `data.csv` and prints its contents as a list of dictionaries.\n"
   ]
  },
  {
   "cell_type": "code",
   "execution_count": null,
   "id": "44ca2fdc-0b6f-4194-8b5d-c544c3bd9f7f",
   "metadata": {},
   "outputs": [],
   "source": [
    "import csv\n",
    "\n",
    "def read_csv_as_dicts():\n",
    "    csvfile = open(\"data.csv\", \"r\", newline='', encoding=\"utf-8\")\n",
    "    reader = csv.DictReader(csvfile)\n",
    "    data = [row for row in reader]\n",
    "    print(data)\n",
    "\n",
    "# Example usage\n",
    "read_csv_as_dicts()\n"
   ]
  },
  {
   "cell_type": "markdown",
   "id": "f7a6a131-c791-4ea5-a11c-dfa6422662cf",
   "metadata": {},
   "source": [
    "\n",
    "### Assignment 14: JSON File Operations\n",
    "\n",
    "Write a function that reads a JSON file named `data.json` and prints its contents as a Python dictionary."
   ]
  },
  {
   "cell_type": "code",
   "execution_count": null,
   "id": "a2191cd2-4c6b-463b-94c2-04f1f89545d5",
   "metadata": {},
   "outputs": [],
   "source": [
    "import json\n",
    "\n",
    "def read_json_file():\n",
    "    file = open(\"data.json\", \"r\", encoding=\"utf-8\")\n",
    "    data = json.load(file)\n",
    "    print(data)\n",
    "# Example usage\n",
    "read_json_file()\n"
   ]
  },
  {
   "cell_type": "markdown",
   "id": "e353903c-87b6-42b0-b107-3ed3ee4caae1",
   "metadata": {},
   "source": [
    "\n",
    "### Assignment 15: File Permission Handling\n",
    "\n",
    "Write a function that attempts to read a file named `protected.txt` and handles any permission errors gracefully by printing an error message."
   ]
  },
  {
   "cell_type": "code",
   "execution_count": null,
   "id": "7f8db84f-2fed-4ba2-b72e-75a35b36429b",
   "metadata": {},
   "outputs": [],
   "source": [
    "def read_protected_file():\n",
    "    try:\n",
    "        file = open(\"protected.txt\", \"r\", encoding=\"utf-8\")\n",
    "        content = file.read()\n",
    "        print(content)\n",
    "    except PermissionError:\n",
    "        print(\"Error: You do not have permission to read 'protected.txt'.\")\n",
    "\n",
    "# Example usage\n",
    "read_protected_file()\n"
   ]
  }
 ],
 "metadata": {
  "kernelspec": {
   "display_name": "Python 3 (ipykernel)",
   "language": "python",
   "name": "python3"
  },
  "language_info": {
   "codemirror_mode": {
    "name": "ipython",
    "version": 3
   },
   "file_extension": ".py",
   "mimetype": "text/x-python",
   "name": "python",
   "nbconvert_exporter": "python",
   "pygments_lexer": "ipython3",
   "version": "3.13.5"
  }
 },
 "nbformat": 4,
 "nbformat_minor": 5
}
