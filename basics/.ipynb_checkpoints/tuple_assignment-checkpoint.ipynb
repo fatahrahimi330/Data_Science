{
 "cells": [
  {
   "cell_type": "markdown",
   "id": "6cade624",
   "metadata": {},
   "source": [
    "# Module 3: Data Structures Assignments\n",
    "## Lesson 3.2: Tuples"
   ]
  },
  {
   "cell_type": "markdown",
   "id": "68253f28-87b9-4c6d-ba9d-7b3620d45eb5",
   "metadata": {},
   "source": [
    "### Assignment 1: Creating and Accessing Tuples\n",
    "\n",
    "Create a tuple with the first 10 positive integers. Print the tuple."
   ]
  },
  {
   "cell_type": "code",
   "execution_count": 1,
   "id": "e9c71e78-a0b4-46a3-bf99-b9f302a176ef",
   "metadata": {},
   "outputs": [
    {
     "name": "stdout",
     "output_type": "stream",
     "text": [
      "(1, 2, 3, 4, 5, 6, 7, 8, 9, 10)\n"
     ]
    }
   ],
   "source": [
    "tp = (1, 2, 3, 4, 5, 6, 7, 8, 9, 10)\n",
    "print(tp)"
   ]
  },
  {
   "cell_type": "markdown",
   "id": "d6202386-57ef-41d2-817e-4fbc8c702c46",
   "metadata": {},
   "source": [
    "\n",
    "### Assignment 2: Accessing Tuple Elements\n",
    "\n",
    "Print the first, middle, and last elements of the tuple created in Assignment 1.\n"
   ]
  },
  {
   "cell_type": "code",
   "execution_count": 3,
   "id": "1d1a5257-3f50-4d53-828b-74c3f9c95840",
   "metadata": {},
   "outputs": [
    {
     "name": "stdout",
     "output_type": "stream",
     "text": [
      "1\n",
      "5\n",
      "10\n"
     ]
    }
   ],
   "source": [
    "print(tp[0])\n",
    "print(tp[4])\n",
    "print(tp[9])"
   ]
  },
  {
   "cell_type": "markdown",
   "id": "17d918f0-9e5d-4149-b4c7-dc454a798d91",
   "metadata": {},
   "source": [
    "\n",
    "### Assignment 3: Tuple Slicing\n",
    "\n",
    "Print the first three elements, the last three elements, and the elements from index 2 to 5 of the tuple created in Assignment 1."
   ]
  },
  {
   "cell_type": "code",
   "execution_count": 4,
   "id": "f3875950-ab39-4cba-bd13-44ae44105ec7",
   "metadata": {},
   "outputs": [
    {
     "name": "stdout",
     "output_type": "stream",
     "text": [
      "(1, 2, 3)\n",
      "(8, 9, 10)\n",
      "(3, 4, 5)\n"
     ]
    }
   ],
   "source": [
    "print(tp[0:3])\n",
    "print(tp[7:])\n",
    "print(tp[2:5])"
   ]
  },
  {
   "cell_type": "markdown",
   "id": "283affdc-0933-4c88-99e7-485ee98acdea",
   "metadata": {},
   "source": [
    "\n",
    "### Assignment 4: Nested Tuples\n",
    "\n",
    "Create a nested tuple representing a 3x3 matrix and print the matrix. Access and print the element at the second row and third column.\n"
   ]
  },
  {
   "cell_type": "code",
   "execution_count": 7,
   "id": "fd57ef6a-2e73-44ac-8c7b-05a1148049e3",
   "metadata": {},
   "outputs": [
    {
     "name": "stdout",
     "output_type": "stream",
     "text": [
      "(1, 2, 3)\n",
      "(4, 5, 6)\n",
      "(7, 8, 9, 10)\n",
      "6\n"
     ]
    }
   ],
   "source": [
    "tp = ((1, 2, 3), (4, 5, 6), (7, 8, 9, 10))\n",
    "for i in tp:\n",
    "    print(i)\n",
    "print(tp[1][2])"
   ]
  },
  {
   "cell_type": "markdown",
   "id": "5dda5dd1-b4ba-4ab8-8a84-98f52af6cf87",
   "metadata": {},
   "source": [
    "\n",
    "### Assignment 5: Tuple Concatenation\n",
    "\n",
    "Concatenate two tuples: (1, 2, 3) and (4, 5, 6). Print the resulting tuple.\n"
   ]
  },
  {
   "cell_type": "code",
   "execution_count": 8,
   "id": "3f2ece06-65f4-4149-abc8-7532aabb9b6e",
   "metadata": {},
   "outputs": [
    {
     "name": "stdout",
     "output_type": "stream",
     "text": [
      "(1, 2, 3, 4, 5, 6)\n"
     ]
    }
   ],
   "source": [
    "tp1 = (1, 2, 3) \n",
    "tp2 = (4, 5, 6)\n",
    "tp = tp1 + tp2\n",
    "print(tp)"
   ]
  },
  {
   "cell_type": "markdown",
   "id": "7d45a54a-7a69-4471-bdc9-a95629980234",
   "metadata": {},
   "source": [
    "\n",
    "\n",
    "### Assignment 6: Tuple Methods\n",
    "\n",
    "Create a tuple with duplicate elements and count the occurrences of an element. Find the index of the first occurrence of an element in the tuple."
   ]
  },
  {
   "cell_type": "code",
   "execution_count": 10,
   "id": "8dc91bef-2030-4490-8a55-16226a760d9a",
   "metadata": {},
   "outputs": [
    {
     "data": {
      "text/plain": [
       "2"
      ]
     },
     "execution_count": 10,
     "metadata": {},
     "output_type": "execute_result"
    }
   ],
   "source": [
    "tp = (1, 2, 3, 4, 5, 6, 6)\n",
    "tp.count(6)"
   ]
  },
  {
   "cell_type": "markdown",
   "id": "f05bbeef-9d1c-4cb3-9e92-eb28b7ea0413",
   "metadata": {},
   "source": [
    "\n",
    "\n",
    "### Assignment 7: Unpacking Tuples\n",
    "\n",
    "Create a tuple with 5 elements and unpack it into 5 variables. Print the variables.\n"
   ]
  },
  {
   "cell_type": "code",
   "execution_count": 12,
   "id": "1f59f182-d14d-4a05-8937-88300bdbc9a9",
   "metadata": {},
   "outputs": [
    {
     "name": "stdout",
     "output_type": "stream",
     "text": [
      "1\n",
      "2\n",
      "3\n",
      "4\n",
      "5\n"
     ]
    }
   ],
   "source": [
    "tp = (1, 2, 3, 4, 5)\n",
    "a, b, c, d, e = tp\n",
    "print(a)\n",
    "print(b)\n",
    "print(c)\n",
    "print(d)\n",
    "print(e)"
   ]
  },
  {
   "cell_type": "markdown",
   "id": "545824ff-d328-4e09-8a3a-efbda57f74b6",
   "metadata": {},
   "source": [
    "\n",
    "\n",
    "### Assignment 8: Tuple Conversion\n",
    "\n",
    "Convert a list of the first 5 positive integers to a tuple. Print the tuple.\n"
   ]
  },
  {
   "cell_type": "code",
   "execution_count": 13,
   "id": "7b84ddb9-05ea-42f7-adfe-cb25b204ec30",
   "metadata": {},
   "outputs": [
    {
     "name": "stdout",
     "output_type": "stream",
     "text": [
      "(1, 2, 3, 4, 5)\n"
     ]
    }
   ],
   "source": [
    "lst = [1, 2, 3, 4, 5]\n",
    "tp = tuple(lst)\n",
    "print(tp)"
   ]
  },
  {
   "cell_type": "markdown",
   "id": "0c66ae2c-7e80-4be7-8f60-9f0ff8580ec1",
   "metadata": {},
   "source": [
    "\n",
    "### Assignment 9: Tuple of Tuples\n",
    "\n",
    "Create a tuple containing 3 tuples, each with 3 elements. Print the tuple of tuples.\n"
   ]
  },
  {
   "cell_type": "code",
   "execution_count": 15,
   "id": "05f34fe3-1cc1-48d4-b629-986b05e667a1",
   "metadata": {},
   "outputs": [
    {
     "name": "stdout",
     "output_type": "stream",
     "text": [
      "((1, 2, 3), (4, 5, 6), (7, 8, 9, 10))\n"
     ]
    }
   ],
   "source": [
    "tp = ((1, 2, 3), (4, 5, 6), (7, 8, 9, 10))\n",
    "print(tp)"
   ]
  },
  {
   "cell_type": "markdown",
   "id": "c25e68f0-576d-4275-bf5b-7e2c3b0d0d26",
   "metadata": {},
   "source": [
    "\n",
    "### Assignment 10: Tuple and List\n",
    "\n",
    "Create a tuple with the first 5 positive integers. Convert it to a list, append the number 6, and convert it back to a tuple. Print the resulting tuple.\n"
   ]
  },
  {
   "cell_type": "code",
   "execution_count": 21,
   "id": "129aeb82-3528-4c41-a10d-40ff0f1e48b5",
   "metadata": {},
   "outputs": [
    {
     "name": "stdout",
     "output_type": "stream",
     "text": [
      "(1, 2, 3, 4, 5, 6)\n"
     ]
    }
   ],
   "source": [
    "tp = (1, 2, 3, 4, 5)\n",
    "lst = list(tp)\n",
    "lst.append(6)\n",
    "tp = tuple(lst)\n",
    "print(tp)"
   ]
  },
  {
   "cell_type": "markdown",
   "id": "c65ee801-5d89-41f5-8adc-9ae98f5c20fa",
   "metadata": {},
   "source": [
    "\n",
    "### Assignment 11: Tuple and String\n",
    "\n",
    "Create a tuple with the characters of a string. Join the tuple elements into a single string. Print the string.\n"
   ]
  },
  {
   "cell_type": "code",
   "execution_count": 33,
   "id": "3aa28b64-8a9a-480a-8f33-21c706605f32",
   "metadata": {},
   "outputs": [
    {
     "name": "stdout",
     "output_type": "stream",
     "text": [
      "abdul\n"
     ]
    }
   ],
   "source": [
    "tp = ('a', 'b', 'd', 'u', 'l')\n",
    "name = \"\".join(tp)\n",
    "print(name)"
   ]
  },
  {
   "cell_type": "markdown",
   "id": "3385c0e5-5de2-4f0e-aa6c-52026c0ffb9c",
   "metadata": {},
   "source": [
    "\n",
    "### Assignment 12: Tuple and Dictionary\n",
    "\n",
    "Create a dictionary with tuple keys and integer values. Print the dictionary.\n"
   ]
  },
  {
   "cell_type": "code",
   "execution_count": 36,
   "id": "e3856024-da34-44d7-b1bc-43185e0c7c9f",
   "metadata": {},
   "outputs": [
    {
     "name": "stdout",
     "output_type": "stream",
     "text": [
      "{('a', 'b', 'c'): (1, 2, 3)}\n"
     ]
    }
   ],
   "source": [
    "dc = {('a', 'b', 'c'):(1, 2, 3)}\n",
    "print(dc)"
   ]
  },
  {
   "cell_type": "markdown",
   "id": "d01d5527-c490-4475-8d92-286023564bf5",
   "metadata": {},
   "source": [
    "\n",
    "### Assignment 13: Nested Tuple Iteration\n",
    "\n",
    "Create a nested tuple and iterate over the elements, printing each element.\n"
   ]
  },
  {
   "cell_type": "code",
   "execution_count": 39,
   "id": "d45b11f5-31a1-44a1-b83c-40b0073d2d9c",
   "metadata": {},
   "outputs": [
    {
     "name": "stdout",
     "output_type": "stream",
     "text": [
      "a b d u l f "
     ]
    }
   ],
   "source": [
    "tp = (('a', 'b'), ('d', 'u'), ('l', 'f'))\n",
    "for i in tp:\n",
    "    for j in i:\n",
    "        print(j, end= ' ')"
   ]
  },
  {
   "cell_type": "markdown",
   "id": "4bb19f0b-6924-4e90-babd-3b480495cf42",
   "metadata": {},
   "source": [
    "\n",
    "### Assignment 14: Tuple and Set\n",
    "\n",
    "Create a tuple with duplicate elements. Convert it to a set to remove duplicates and print the resulting set.\n"
   ]
  },
  {
   "cell_type": "code",
   "execution_count": 40,
   "id": "1ae81360-79a6-41f2-bafb-5e8cf7a057de",
   "metadata": {},
   "outputs": [
    {
     "name": "stdout",
     "output_type": "stream",
     "text": [
      "{'a', 'u', 'b', 'd'}\n"
     ]
    }
   ],
   "source": [
    "tp = ('a', 'b', 'd', 'u', 'u')\n",
    "st = set(tp)\n",
    "print(st)"
   ]
  },
  {
   "cell_type": "markdown",
   "id": "04094653-d00d-4fc5-86d4-843323ca3c7a",
   "metadata": {},
   "source": [
    "\n",
    "### Assignment 15: Tuple Functions\n",
    "\n",
    "Write functions that take a tuple and return the minimum, maximum, and sum of the elements. Print the results for a sample tuple."
   ]
  },
  {
   "cell_type": "code",
   "execution_count": 42,
   "id": "6d1c2b53-6d75-4731-aa26-30a33b8106ff",
   "metadata": {},
   "outputs": [
    {
     "name": "stdout",
     "output_type": "stream",
     "text": [
      "5\n",
      "1\n",
      "15\n"
     ]
    }
   ],
   "source": [
    "tp = (1, 2, 3, 4, 5)\n",
    "mx = max(tp)\n",
    "mi = min(tp)\n",
    "sm = sum(tp)\n",
    "print(mx)\n",
    "print(mi)\n",
    "print(sm)"
   ]
  }
 ],
 "metadata": {
  "kernelspec": {
   "display_name": "Python 3 (ipykernel)",
   "language": "python",
   "name": "python3"
  },
  "language_info": {
   "codemirror_mode": {
    "name": "ipython",
    "version": 3
   },
   "file_extension": ".py",
   "mimetype": "text/x-python",
   "name": "python",
   "nbconvert_exporter": "python",
   "pygments_lexer": "ipython3",
   "version": "3.13.5"
  }
 },
 "nbformat": 4,
 "nbformat_minor": 5
}
