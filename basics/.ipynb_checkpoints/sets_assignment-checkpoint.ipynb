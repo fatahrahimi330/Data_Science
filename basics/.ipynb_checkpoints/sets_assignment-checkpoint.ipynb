{
 "cells": [
  {
   "cell_type": "markdown",
   "id": "880a790d",
   "metadata": {},
   "source": [
    "# Module 3: Data Structures Assignments\n",
    "## Lesson 3.3: Sets"
   ]
  },
  {
   "cell_type": "markdown",
   "id": "10ffd209-349c-47ca-9b07-4dd7bdd73265",
   "metadata": {},
   "source": [
    "### Assignment 1: Creating and Accessing Sets\n",
    "\n",
    "Create a set with the first 10 positive integers. Print the set."
   ]
  },
  {
   "cell_type": "code",
   "execution_count": 1,
   "id": "ca63a7d4-2a01-488e-89cf-b8d5fa43fe16",
   "metadata": {},
   "outputs": [
    {
     "name": "stdout",
     "output_type": "stream",
     "text": [
      "{1, 2, 3, 4, 5, 6, 7, 8, 9, 10}\n"
     ]
    }
   ],
   "source": [
    "st = {1, 2, 3, 4, 5, 6, 7, 8, 9, 10}\n",
    "print(st)"
   ]
  },
  {
   "cell_type": "markdown",
   "id": "2edfa8c7-3eff-472c-9487-41abf3c99ba3",
   "metadata": {},
   "source": [
    "\n",
    "### Assignment 2: Adding and Removing Elements\n",
    "\n",
    "Add the number 11 to the set created in Assignment 1. Then remove the number 1 from the set. Print the modified set.\n"
   ]
  },
  {
   "cell_type": "code",
   "execution_count": 2,
   "id": "a03a90f5-400f-4586-84ee-5423acd9dccf",
   "metadata": {},
   "outputs": [
    {
     "name": "stdout",
     "output_type": "stream",
     "text": [
      "{2, 3, 4, 5, 6, 7, 8, 9, 10, 11}\n"
     ]
    }
   ],
   "source": [
    "st.add(11)\n",
    "st.remove(1)\n",
    "print(st)"
   ]
  },
  {
   "cell_type": "markdown",
   "id": "e3e96786-c59e-4984-b87a-c1505fdff352",
   "metadata": {},
   "source": [
    "\n",
    "### Assignment 3: Set Operations\n",
    "\n",
    "Create two sets: one with the first 5 positive integers and another with the first 5 even integers. Perform and print the results of union, intersection, difference, and symmetric difference operations on these sets.\n"
   ]
  },
  {
   "cell_type": "code",
   "execution_count": 5,
   "id": "b741d8b4-16af-4f62-8c1c-407977d9a6b5",
   "metadata": {},
   "outputs": [
    {
     "name": "stdout",
     "output_type": "stream",
     "text": [
      "{1, 2, 3, 4, 5, 6, 8, 10}\n",
      "{2, 4}\n",
      "{1, 3, 5}\n",
      "{1, 3, 5, 6, 8, 10}\n"
     ]
    }
   ],
   "source": [
    "st1 = {1, 2, 3, 4, 5}\n",
    "st2 = {2, 4, 6, 8, 10}\n",
    "print(st1.union(st2))\n",
    "print(st1.intersection(st2))\n",
    "print(st1.difference(st2))\n",
    "print(st1.symmetric_difference(st2))"
   ]
  },
  {
   "cell_type": "markdown",
   "id": "26df9fe1-ad42-4d40-aadb-ab4af2e2f8a6",
   "metadata": {},
   "source": [
    "\n",
    "\n",
    "### Assignment 4: Set Comprehensions\n",
    "\n",
    "Create a new set containing the squares of the first 10 positive integers using a set comprehension. Print the new set."
   ]
  },
  {
   "cell_type": "code",
   "execution_count": 8,
   "id": "a9f4150b-9b41-4f7f-8695-59e9b9972918",
   "metadata": {},
   "outputs": [
    {
     "name": "stdout",
     "output_type": "stream",
     "text": [
      "{64, 1, 4, 36, 100, 9, 16, 49, 81, 25}\n"
     ]
    }
   ],
   "source": [
    "sts = {i**2 for i in range(1, 11)}\n",
    "print(sts)"
   ]
  },
  {
   "cell_type": "markdown",
   "id": "dc427ceb-361f-4019-828b-09d7f6b326b6",
   "metadata": {},
   "source": [
    "\n",
    "### Assignment 5: Filtering Sets\n",
    "\n",
    "Create a new set containing only the even numbers from the set created in Assignment 1 using a set comprehension. Print the new set.\n"
   ]
  },
  {
   "cell_type": "code",
   "execution_count": 9,
   "id": "f4da8fab-b346-4060-92e6-c86b6c8853f9",
   "metadata": {},
   "outputs": [
    {
     "name": "stdout",
     "output_type": "stream",
     "text": [
      "{2, 4, 6, 8, 10}\n"
     ]
    }
   ],
   "source": [
    "even_set = {i for i in st if i%2==0}\n",
    "print(even_set)"
   ]
  },
  {
   "cell_type": "markdown",
   "id": "89b8cb0e-daa9-4a21-9274-de5a40483f86",
   "metadata": {},
   "source": [
    "\n",
    "\n",
    "### Assignment 6: Set Methods\n",
    "\n",
    "Create a set with duplicate elements and remove the duplicates using set methods. Print the modified set."
   ]
  },
  {
   "cell_type": "code",
   "execution_count": 12,
   "id": "58b1bd75-aa01-4a11-a500-4b165a167062",
   "metadata": {},
   "outputs": [
    {
     "name": "stdout",
     "output_type": "stream",
     "text": [
      "{2, 4, 6, 8}\n"
     ]
    }
   ],
   "source": [
    "st = {2, 4, 6, 8, 10, 10}\n",
    "st.remove(10)\n",
    "print(st)"
   ]
  },
  {
   "cell_type": "markdown",
   "id": "bebef47f-2ebf-4a08-bc77-dac0d9f33e58",
   "metadata": {},
   "source": [
    "\n",
    "\n",
    "### Assignment 7: Subsets and Supersets\n",
    "\n",
    "Create two sets: one with the first 5 positive integers and another with the first 3 positive integers. Check if the second set is a subset of the first set and if the first set is a superset of the second set. Print the results.\n"
   ]
  },
  {
   "cell_type": "code",
   "execution_count": 15,
   "id": "acb493b0-3190-434e-9ad2-26e0e3fa067c",
   "metadata": {},
   "outputs": [
    {
     "name": "stdout",
     "output_type": "stream",
     "text": [
      "True\n",
      "True\n"
     ]
    }
   ],
   "source": [
    "st1 = {1, 2, 3, 4, 5}\n",
    "st2 = {1, 2, 3}\n",
    "print(st2.issubset(st1))\n",
    "print(st1.issuperset(st2))"
   ]
  },
  {
   "cell_type": "markdown",
   "id": "11cac7c3-eac1-463e-bd56-f7caf2d082ad",
   "metadata": {},
   "source": [
    "\n",
    "### Assignment 8: Frozenset\n",
    "\n",
    "Create a frozenset with the first 5 positive integers. Print the frozenset.\n"
   ]
  },
  {
   "cell_type": "code",
   "execution_count": 19,
   "id": "b163fcd2-921e-4b8e-a610-59ec758c0f2d",
   "metadata": {},
   "outputs": [
    {
     "name": "stdout",
     "output_type": "stream",
     "text": [
      "frozenset({1, 2, 3, 4, 5})\n"
     ]
    }
   ],
   "source": [
    "st1 = frozenset({1, 2, 3, 4, 5})\n",
    "print(st1)"
   ]
  },
  {
   "cell_type": "markdown",
   "id": "6e3309a0-eba3-4d40-93f3-9a18c1894ab9",
   "metadata": {},
   "source": [
    "\n",
    "### Assignment 9: Set and List Conversion\n",
    "\n",
    "Create a set with the first 5 positive integers. Convert it to a list, append the number 6, and convert it back to a set. Print the resulting set.\n"
   ]
  },
  {
   "cell_type": "code",
   "execution_count": 21,
   "id": "4f4fc11a-51f3-4934-b6a0-ee8d8c68330d",
   "metadata": {},
   "outputs": [
    {
     "name": "stdout",
     "output_type": "stream",
     "text": [
      "{1, 2, 3, 4, 5, 6}\n"
     ]
    }
   ],
   "source": [
    "st = {1, 2, 3, 4, 5}\n",
    "lst = list(st)\n",
    "lst.append(6)\n",
    "st = set(lst)\n",
    "print(st)"
   ]
  },
  {
   "cell_type": "markdown",
   "id": "70f2cc1a-ea11-4eef-814e-d9f6450edade",
   "metadata": {},
   "source": [
    "\n",
    "### Assignment 10: Set and Dictionary\n",
    "\n",
    "Create a dictionary with set keys and integer values. Print the dictionary.\n"
   ]
  },
  {
   "cell_type": "code",
   "execution_count": 22,
   "id": "13566642-c023-4cc1-8c29-b2f95d032143",
   "metadata": {},
   "outputs": [
    {
     "name": "stdout",
     "output_type": "stream",
     "text": [
      "{'a': 1, 'b': 2, 'c': 3}\n"
     ]
    }
   ],
   "source": [
    "dic = {'a': 1, 'b': 2, 'c': 3}\n",
    "print(dic)"
   ]
  },
  {
   "cell_type": "markdown",
   "id": "c69fd4c7-6dc5-48b5-8dee-1f500235396e",
   "metadata": {},
   "source": [
    "\n",
    "### Assignment 11: Iterating Over Sets\n",
    "\n",
    "Create a set and iterate over the elements, printing each element.\n"
   ]
  },
  {
   "cell_type": "code",
   "execution_count": 24,
   "id": "07db088c-939f-455d-a05d-e3d1d030706f",
   "metadata": {},
   "outputs": [
    {
     "name": "stdout",
     "output_type": "stream",
     "text": [
      "1 2 3 4 5 "
     ]
    }
   ],
   "source": [
    "st = {1, 2, 3, 4, 5}\n",
    "for i in st:\n",
    "    print(i, end=' ')"
   ]
  },
  {
   "cell_type": "markdown",
   "id": "9b342cfb-bcee-47b4-a578-19b4a20e1b73",
   "metadata": {},
   "source": [
    "\n",
    "### Assignment 12: Removing Elements from Sets\n",
    "\n",
    "Create a set and remove elements from it until it is empty. Print the set after each removal.\n"
   ]
  },
  {
   "cell_type": "code",
   "execution_count": 25,
   "id": "16a68065-9f47-4bfc-9556-44174697a9e9",
   "metadata": {},
   "outputs": [
    {
     "name": "stdout",
     "output_type": "stream",
     "text": [
      "set()\n"
     ]
    }
   ],
   "source": [
    "st = {1, 2, 3, 4, 5}\n",
    "st.clear()\n",
    "print(st)"
   ]
  },
  {
   "cell_type": "markdown",
   "id": "150f482d-451d-4d55-a531-eafad85b0856",
   "metadata": {},
   "source": [
    "\n",
    "### Assignment 13: Set Symmetric Difference Update\n",
    "\n",
    "Create two sets and update the first set with the symmetric difference of the two sets. Print the modified first set.\n"
   ]
  },
  {
   "cell_type": "code",
   "execution_count": 26,
   "id": "f5dc5754-6b2c-40de-8e45-3e9a78ce2ef7",
   "metadata": {},
   "outputs": [
    {
     "name": "stdout",
     "output_type": "stream",
     "text": [
      "{1, 2, 3, 4, 5, 6, 8, 10}\n"
     ]
    }
   ],
   "source": [
    "st1 = {1, 2, 3, 4, 5}\n",
    "st2 = {2, 4, 6, 8, 10}\n",
    "st1.update(st1.symmetric_difference(st2))\n",
    "print(st1)"
   ]
  },
  {
   "cell_type": "markdown",
   "id": "5badda18-164c-4eee-97e1-4c5104871afe",
   "metadata": {},
   "source": [
    "\n",
    "### Assignment 14: Set Membership Testing\n",
    "\n",
    "Create a set and test if certain elements are present in the set. Print the results.\n"
   ]
  },
  {
   "cell_type": "code",
   "execution_count": 28,
   "id": "cfdf0e56-46a9-4b07-b466-37fc51ae7c4f",
   "metadata": {},
   "outputs": [
    {
     "name": "stdout",
     "output_type": "stream",
     "text": [
      "No\n"
     ]
    }
   ],
   "source": [
    "st1 = {1, 2, 3, 4, 5}\n",
    "n = 6\n",
    "if n in st1:\n",
    "    print('Yes')\n",
    "else:\n",
    "    print('No')"
   ]
  },
  {
   "cell_type": "markdown",
   "id": "16cef4c4-2a35-478b-adf3-c569d6ee2c66",
   "metadata": {},
   "source": [
    "\n",
    "### Assignment 15: Set of Tuples\n",
    "\n",
    "Create a set containing tuples, where each tuple contains two elements. Print the set."
   ]
  },
  {
   "cell_type": "code",
   "execution_count": 29,
   "id": "c8ba7d9f-d908-4d82-8564-7fe823b6815f",
   "metadata": {},
   "outputs": [
    {
     "name": "stdout",
     "output_type": "stream",
     "text": [
      "{(1, 2), (8, 10), (3, 4), (5, 6)}\n"
     ]
    }
   ],
   "source": [
    "st = {(1, 2), (3, 4), (5, 6), (8, 10)}\n",
    "print(st)"
   ]
  }
 ],
 "metadata": {
  "kernelspec": {
   "display_name": "Python 3 (ipykernel)",
   "language": "python",
   "name": "python3"
  },
  "language_info": {
   "codemirror_mode": {
    "name": "ipython",
    "version": 3
   },
   "file_extension": ".py",
   "mimetype": "text/x-python",
   "name": "python",
   "nbconvert_exporter": "python",
   "pygments_lexer": "ipython3",
   "version": "3.13.5"
  }
 },
 "nbformat": 4,
 "nbformat_minor": 5
}
