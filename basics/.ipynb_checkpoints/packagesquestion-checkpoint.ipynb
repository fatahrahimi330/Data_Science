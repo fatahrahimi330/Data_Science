{
 "cells": [
  {
   "cell_type": "markdown",
   "id": "e37b10b4",
   "metadata": {},
   "source": [
    "# Module 5: Modules and Packages Assignments\n",
    "## Lesson 5.1: Importing Modules"
   ]
  },
  {
   "cell_type": "markdown",
   "id": "8c0b9d01-018b-40ea-b1b1-c84a6920cbc8",
   "metadata": {},
   "source": [
    "### Assignment 1: Importing and Using Modules\n",
    "\n",
    "Import the `math` module and use it to calculate the square root of 25 and the sine of 90 degrees."
   ]
  },
  {
   "cell_type": "code",
   "execution_count": 1,
   "id": "cd9386c9-0898-41ef-94d4-3f636cb58f84",
   "metadata": {},
   "outputs": [
    {
     "name": "stdout",
     "output_type": "stream",
     "text": [
      "5.0\n",
      "0.8939966636005579\n"
     ]
    }
   ],
   "source": [
    "import math\n",
    "x = math.sqrt(25)\n",
    "print(x)\n",
    "y = math.sin(90)\n",
    "print(y)"
   ]
  },
  {
   "cell_type": "markdown",
   "id": "0281d0ba-a37c-49f8-bfe5-6c7eeef0ca41",
   "metadata": {},
   "source": [
    "\n",
    "### Assignment 2: Aliasing Modules\n",
    "\n",
    "Import the `datetime` module with an alias and use it to print the current date and time.\n"
   ]
  },
  {
   "cell_type": "code",
   "execution_count": 5,
   "id": "853e0f38-7ac8-4e55-a992-187dccf954c1",
   "metadata": {},
   "outputs": [
    {
     "name": "stdout",
     "output_type": "stream",
     "text": [
      "2025-10-06 11:23:24.612543\n"
     ]
    }
   ],
   "source": [
    "import datetime as dt\n",
    "now = dt.datetime.now()\n",
    "print(now)"
   ]
  },
  {
   "cell_type": "markdown",
   "id": "eebfb936-45b9-4398-a585-f0791c108a5c",
   "metadata": {},
   "source": [
    "\n",
    "### Assignment 3: Importing Specific Functions\n",
    "\n",
    "Import the `randint` function from the `random` module and use it to generate a random integer between 1 and 100.\n"
   ]
  },
  {
   "cell_type": "code",
   "execution_count": 8,
   "id": "9c83a364-b4b0-4dfe-b6c0-65b4b7d6eefb",
   "metadata": {},
   "outputs": [
    {
     "name": "stdout",
     "output_type": "stream",
     "text": [
      "66\n"
     ]
    }
   ],
   "source": [
    "import random\n",
    "ran = random.randint(1, 100)\n",
    "print(ran)"
   ]
  },
  {
   "cell_type": "markdown",
   "id": "afc62911-84ec-4e7d-8d1e-cfe1a11916e0",
   "metadata": {},
   "source": [
    "\n",
    "### Assignment 4: Importing Multiple Functions\n",
    "\n",
    "Import the `sqrt` and `pow` functions from the `math` module and use them to calculate the square root of 16 and 2 raised to the power of 3.\n"
   ]
  },
  {
   "cell_type": "code",
   "execution_count": 10,
   "id": "52d783de-ae8d-4ba3-b891-a74838db76da",
   "metadata": {},
   "outputs": [
    {
     "name": "stdout",
     "output_type": "stream",
     "text": [
      "4.0\n",
      "8.0\n"
     ]
    }
   ],
   "source": [
    "from math import sqrt, pow\n",
    "print(sqrt(16))\n",
    "print(pow(2, 3))"
   ]
  },
  {
   "cell_type": "markdown",
   "id": "381cf71f-0753-40d0-9fd1-bb3b46fd105f",
   "metadata": {},
   "source": [
    "\n",
    "### Assignment 5: Handling Import Errors\n",
    "\n",
    "Write code that attempts to import a non-existent module and gracefully handles the import error by printing an error message.\n"
   ]
  },
  {
   "cell_type": "code",
   "execution_count": 12,
   "id": "2a6203be-342e-4749-9466-5eb2d39a2638",
   "metadata": {},
   "outputs": [
    {
     "name": "stdout",
     "output_type": "stream",
     "text": [
      "No module named 'ce'\n"
     ]
    }
   ],
   "source": [
    "try:\n",
    "    import ce\n",
    "except ModuleNotFoundError as err:\n",
    "    print(err)"
   ]
  },
  {
   "cell_type": "markdown",
   "id": "40f85df5-670a-46fa-9a19-96ed92c02bfa",
   "metadata": {},
   "source": [
    "\n",
    "## Lesson 5.2: Standard Library Overview\n",
    "### Assignment 6: Working with the `os` Module\n",
    "\n",
    "Use the `os` module to create a new directory, list the contents of the current directory, and remove the newly created directory.\n"
   ]
  },
  {
   "cell_type": "code",
   "execution_count": 22,
   "id": "69b66ce7-ed58-4483-b9eb-81529969a0b6",
   "metadata": {},
   "outputs": [],
   "source": [
    "import os\n",
    "os.mkdir('C:/Users/DELL/Desktop/OOp')\n",
    "print (os.listdir())\n",
    "os.removedirs('C:/Users/DELL/Desktop/OOp')"
   ]
  },
  {
   "cell_type": "markdown",
   "id": "ae021ae2-ce27-4656-a6a0-2a4913fe176f",
   "metadata": {},
   "source": [
    "\n",
    "### Assignment 7: Working with the `sys` Module\n",
    "\n",
    "Use the `sys` module to print the Python version currently in use and the command-line arguments passed to the script.\n"
   ]
  },
  {
   "cell_type": "code",
   "execution_count": 28,
   "id": "c6985c41-5867-4dc4-be05-b1f68dbead4e",
   "metadata": {},
   "outputs": [
    {
     "name": "stdout",
     "output_type": "stream",
     "text": [
      "Python version:\n",
      "3.13.5 | packaged by Anaconda, Inc. | (main, Jun 12 2025, 16:37:03) [MSC v.1929 64 bit (AMD64)]\n",
      "Command-line arguments:\n",
      "C:\\Users\\DELL\\AppData\\Roaming\\Python\\Python313\\site-packages\\ipykernel_launcher.py\n",
      "-f\n",
      "C:\\Users\\DELL\\AppData\\Roaming\\jupyter\\runtime\\kernel-6cfd9763-f5db-4bda-8211-9a7645bc3289.json\n"
     ]
    }
   ],
   "source": [
    "import sys\n",
    "print(\"Python version:\")\n",
    "print(sys.version)\n",
    "\n",
    "print(\"Command-line arguments:\")\n",
    "for arg in sys.argv:\n",
    "    print(arg)"
   ]
  },
  {
   "cell_type": "markdown",
   "id": "53eed55c-8b1b-40e4-9ea5-5e0c133a9ecc",
   "metadata": {},
   "source": [
    "\n",
    "### Assignment 8: Working with the `math` Module\n",
    "\n",
    "Use the `math` module to calculate the greatest common divisor (GCD) of two numbers and the factorial of a number.\n"
   ]
  },
  {
   "cell_type": "code",
   "execution_count": 30,
   "id": "beabe662-fb74-480e-a0a9-f8bc3da635b9",
   "metadata": {},
   "outputs": [
    {
     "name": "stdout",
     "output_type": "stream",
     "text": [
      "1\n",
      "120\n"
     ]
    }
   ],
   "source": [
    "import math\n",
    "print(math.gcd(5, 8))\n",
    "print(math.factorial(5))"
   ]
  },
  {
   "cell_type": "markdown",
   "id": "06fe48cd-8d1e-424b-b717-6d54b0c17832",
   "metadata": {},
   "source": [
    "\n",
    "### Assignment 9: Working with the `datetime` Module\n",
    "\n",
    "Use the `datetime` module to print the current date, calculate the date 100 days from today, and determine the day of the week for a given date.\n"
   ]
  },
  {
   "cell_type": "code",
   "execution_count": 47,
   "id": "a81ce359-3831-4c66-b8f7-0245ef4ef1db",
   "metadata": {},
   "outputs": [
    {
     "name": "stdout",
     "output_type": "stream",
     "text": [
      "Today's date: 2025-10-06\n",
      "Date after 100 days: 2026-01-14\n",
      "The day of the week on 2025-12-31 is Wednesday\n"
     ]
    }
   ],
   "source": [
    "import datetime as dt\n",
    "\n",
    "today = dt.date.today()\n",
    "print(\"Today's date:\", today)\n",
    "\n",
    "future_date = today + dt.timedelta(days=100)\n",
    "print(\"Date after 100 days:\", future_date)\n",
    "\n",
    "given_date = dt.date(2025, 12, 31)\n",
    "day_of_week = given_date.strftime(\"%A\")\n",
    "print(\"The day of the week on\", given_date, \"is\", day_of_week)"
   ]
  },
  {
   "cell_type": "markdown",
   "id": "475c30da-c826-40aa-998d-28578935c6a1",
   "metadata": {},
   "source": [
    "\n",
    "### Assignment 10: Working with the `random` Module\n",
    "\n",
    "Use the `random` module to generate a list of 5 random numbers between 1 and 50 and shuffle the elements of a list.\n"
   ]
  },
  {
   "cell_type": "code",
   "execution_count": 62,
   "id": "8876777a-75b0-4d50-8b51-3c5d1520dd06",
   "metadata": {},
   "outputs": [
    {
     "name": "stdout",
     "output_type": "stream",
     "text": [
      "[17, 48, 36, 33, 25]\n"
     ]
    }
   ],
   "source": [
    "import random\n",
    "lst = [random.randint(1, 50) for i in range(5)]\n",
    "random.shuffle(lst)\n",
    "print(lst)"
   ]
  },
  {
   "cell_type": "markdown",
   "id": "073700ed-469b-4c7d-8a68-97cfe6cb7b8a",
   "metadata": {},
   "source": [
    "\n",
    "## Lesson 5.3: Creating and Using Packages\n",
    "### Assignment 11: Creating a Simple Package\n",
    "\n",
    "Create a package named `mypackage` with two modules: `module1` and `module2`. `module1` should contain a function that adds two numbers, and `module2` should contain a function that multiplies two numbers. Write code to use these functions.\n"
   ]
  },
  {
   "cell_type": "code",
   "execution_count": 72,
   "id": "0a6963d4-0a9f-4229-abf0-c3ed38a57879",
   "metadata": {},
   "outputs": [
    {
     "name": "stdout",
     "output_type": "stream",
     "text": [
      "5\n",
      "6\n"
     ]
    }
   ],
   "source": [
    "from mypackage import module1, module2\n",
    "add = module1.add(2, 3)\n",
    "print(add)\n",
    "multiply = module2.multiplies(2, 3)\n",
    "print(multiply)"
   ]
  },
  {
   "cell_type": "markdown",
   "id": "4f73a7a9-4303-44ed-a362-0022767051f2",
   "metadata": {},
   "source": [
    "\n",
    "### Assignment 12: Using `__init__.py`\n",
    "\n",
    "Modify the `mypackage` package to include an `__init__.py` file that imports the functions from `module1` and `module2`. Write code to use these functions.\n"
   ]
  },
  {
   "cell_type": "code",
   "execution_count": 74,
   "id": "c3c6f692-f108-439f-9ba7-8a5a4b7cdd9a",
   "metadata": {},
   "outputs": [
    {
     "name": "stdout",
     "output_type": "stream",
     "text": [
      "5\n",
      "6\n"
     ]
    }
   ],
   "source": [
    "from mypackage import module1, module2\n",
    "add = module1.add(2, 3)\n",
    "print(add)\n",
    "multiply = module2.multiplies(2, 3)\n",
    "print(multiply)"
   ]
  },
  {
   "cell_type": "markdown",
   "id": "8e23b5d0-a9ea-4ced-8285-6937e5bf4bbc",
   "metadata": {},
   "source": [
    "\n",
    "### Assignment 13: Importing from a Package\n",
    "\n",
    "Write code to import and use the functions from `mypackage` without explicitly importing `module1` and `module2`.\n"
   ]
  },
  {
   "cell_type": "code",
   "execution_count": 90,
   "id": "e824b883-29da-44fc-9374-2c0489c94474",
   "metadata": {},
   "outputs": [],
   "source": [
    "from mypackage import add, multiplies\n",
    "\n",
    "print(add(2, 3))\n",
    "print(multiplies(2, 3))\n"
   ]
  },
  {
   "cell_type": "markdown",
   "id": "85df6a46-16b5-4fda-8a50-3435c60c6f1b",
   "metadata": {},
   "source": [
    "\n",
    "### Assignment 14: Relative Imports\n",
    "\n",
    "Create a subpackage named `subpackage` within `mypackage` and move `module2` into `subpackage`. Modify the import statements in `__init__.py` to use relative imports. Write code to use the functions from both modules.\n"
   ]
  },
  {
   "cell_type": "code",
   "execution_count": 93,
   "id": "5a9350f7-df64-493f-9198-f8a3132c3777",
   "metadata": {},
   "outputs": [],
   "source": [
    "from mypackage import add, multiplies\n",
    "\n",
    "print(add(2, 3))\n",
    "print(multiplies(2, 3))"
   ]
  },
  {
   "cell_type": "markdown",
   "id": "7ed9891d-64e1-4a1f-8ca9-0466a93215a1",
   "metadata": {},
   "source": [
    "\n",
    "### Assignment 15: Handling Package Import Errors\n",
    "\n",
    "Write code that attempts to import a non-existent function from `mypackage` and gracefully handles the import error by printing an error message."
   ]
  },
  {
   "cell_type": "code",
   "execution_count": 97,
   "id": "52b8a9a4-37c2-4447-9a01-c818b9dc0300",
   "metadata": {},
   "outputs": [
    {
     "name": "stdout",
     "output_type": "stream",
     "text": [
      "cannot import name 'add' from 'mypackage' (unknown location)\n"
     ]
    }
   ],
   "source": [
    "try:\n",
    "    from mypackage import add\n",
    "    print(add(2, 3))\n",
    "except ImportError as err:\n",
    "    print(err)\n"
   ]
  }
 ],
 "metadata": {
  "kernelspec": {
   "display_name": "Python 3 (ipykernel)",
   "language": "python",
   "name": "python3"
  },
  "language_info": {
   "codemirror_mode": {
    "name": "ipython",
    "version": 3
   },
   "file_extension": ".py",
   "mimetype": "text/x-python",
   "name": "python",
   "nbconvert_exporter": "python",
   "pygments_lexer": "ipython3",
   "version": "3.13.5"
  }
 },
 "nbformat": 4,
 "nbformat_minor": 5
}
