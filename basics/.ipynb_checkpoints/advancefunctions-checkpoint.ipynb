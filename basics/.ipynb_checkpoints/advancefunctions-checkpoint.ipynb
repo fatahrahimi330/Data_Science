{
 "cells": [
  {
   "cell_type": "markdown",
   "id": "3e0e6ebc",
   "metadata": {},
   "source": [
    "# Module 4: Advanced Functions Assignments\n",
    "## Lesson 4.1: Defining Functions"
   ]
  },
  {
   "cell_type": "markdown",
   "id": "c5d8fee4-e800-43f6-8e1b-0f3065d40320",
   "metadata": {},
   "source": [
    "### Assignment 1: Fibonacci Sequence with Memoization\n",
    "\n",
    "Define a recursive function to calculate the nth Fibonacci number using memoization. Test the function with different inputs."
   ]
  },
  {
   "cell_type": "code",
   "execution_count": 10,
   "id": "ef40f017-cde9-4339-af8a-569dd2ceb7ad",
   "metadata": {},
   "outputs": [
    {
     "name": "stdout",
     "output_type": "stream",
     "text": [
      "Fibonacci(5) = 5\n",
      "Fibonacci(10) = 55\n",
      "Fibonacci(20) = 6765\n",
      "Fibonacci(30) = 832040\n"
     ]
    }
   ],
   "source": [
    "def nth_Fibonacci(num, memo={}):\n",
    "    if num in memo:\n",
    "        return memo[num]\n",
    "    if num <= 1:\n",
    "        return num\n",
    "\n",
    "    memo[num] = nth_Fibonacci(num - 1, memo) + nth_Fibonacci(num - 2, memo)\n",
    "    return memo[num]\n",
    "\n",
    "for n in [5, 10, 20, 30]:\n",
    "    print(f\"Fibonacci({n}) = {nth_Fibonacci(n)}\")\n"
   ]
  },
  {
   "cell_type": "markdown",
   "id": "4bcf8fe6-4ace-414d-80d7-ab8f3098fff8",
   "metadata": {},
   "source": [
    "\n",
    "### Assignment 2: Function with Nested Default Arguments\n",
    "\n",
    "Define a function that takes two arguments, a and b, where b is a dictionary with a default value of an empty dictionary. The function should add a new key-value pair to the dictionary and return it. Test the function with different inputs.\n"
   ]
  },
  {
   "cell_type": "code",
   "execution_count": 17,
   "id": "ae582d84-e150-4667-95f6-24c209ac4b5d",
   "metadata": {},
   "outputs": [
    {
     "name": "stdout",
     "output_type": "stream",
     "text": [
      "{'name': 'ab', 'age': 23, 'istudent': 'yes'}\n"
     ]
    }
   ],
   "source": [
    "def dic(a, b={}):\n",
    "    b= {i: j for i ,j in zip(key, value)}\n",
    "    return b\n",
    "key = ['name', 'age', 'istudent']\n",
    "value = ['ab', 23, 'yes']\n",
    "x = dic(key, value)\n",
    "print(x)"
   ]
  },
  {
   "cell_type": "markdown",
   "id": "6d0e2d05-b525-4193-ab7e-0fd6285ec705",
   "metadata": {},
   "source": [
    "\n",
    "### Assignment 3: Function with Variable Keyword Arguments\n",
    "\n",
    "Define a function that takes a variable number of keyword arguments and returns a dictionary containing only those key-value pairs where the value is an integer. Test the function with different inputs.\n"
   ]
  },
  {
   "cell_type": "code",
   "execution_count": 50,
   "id": "0eaa6052-0749-4ecc-b284-6fe904c02b6d",
   "metadata": {},
   "outputs": [
    {
     "name": "stdout",
     "output_type": "stream",
     "text": [
      "{'age': 25, 'grade': 98, 'score': 100}\n"
     ]
    }
   ],
   "source": [
    "def func(**kwargs):\n",
    "    result = {}\n",
    "    for key, value in kwargs.items():\n",
    "        if isinstance(value, int):   \n",
    "            result[key] = value\n",
    "    return result\n",
    "\n",
    "x = func(name=\"Alice\", age=25, grade=98, height=5.7, score=100)\n",
    "print(x)\n"
   ]
  },
  {
   "cell_type": "markdown",
   "id": "8d6260c8-243d-4c07-8d03-616130063697",
   "metadata": {},
   "source": [
    "\n",
    "### Assignment 4: Function with Callback\n",
    "\n",
    "Define a function that takes another function as a callback and a list of integers. The function should apply the callback to each integer in the list and return a new list with the results. Test with different callback functions.\n"
   ]
  },
  {
   "cell_type": "code",
   "execution_count": 59,
   "id": "906b6ebe-9037-47d4-85d5-29d44329600c",
   "metadata": {},
   "outputs": [
    {
     "name": "stdout",
     "output_type": "stream",
     "text": [
      "[1, 4, 9, 16, 25]\n"
     ]
    }
   ],
   "source": [
    "def function(func, lst):\n",
    "    new_list = []\n",
    "    for i in lst:\n",
    "        new_list.append(func(i))\n",
    "    return new_list\n",
    "    \n",
    "def callback(x):\n",
    "    return x**2\n",
    "    \n",
    "lst = [1, 2, 3, 4 ,5]\n",
    "\n",
    "y = function(callback, lst)\n",
    "print(y)"
   ]
  },
  {
   "cell_type": "markdown",
   "id": "6e9afa13-0033-4ffd-8c49-d41b265fed3d",
   "metadata": {},
   "source": [
    "\n",
    "\n",
    "### Assignment 5: Function that Returns a Function\n",
    "\n",
    "Define a function that returns another function. The returned function should take an integer and return its square. Test the returned function with different inputs.\n"
   ]
  },
  {
   "cell_type": "code",
   "execution_count": 58,
   "id": "59d64d8d-dbc7-4d91-989c-6eb3295ed27d",
   "metadata": {},
   "outputs": [
    {
     "name": "stdout",
     "output_type": "stream",
     "text": [
      "36\n"
     ]
    }
   ],
   "source": [
    "def function(func):\n",
    "    def square(num):\n",
    "        return num**2\n",
    "    return square(func)\n",
    "    \n",
    "x = function(6)\n",
    "print(x)"
   ]
  },
  {
   "cell_type": "markdown",
   "id": "0c0af506-bd00-4a78-bf0b-23d1da993dd3",
   "metadata": {},
   "source": [
    "\n",
    "### Assignment 6: Function with Decorators\n",
    "\n",
    "Define a function that calculates the time taken to execute another function. Apply this decorator to a function that performs a complex calculation. Test the decorated function with different inputs.\n"
   ]
  },
  {
   "cell_type": "code",
   "execution_count": 66,
   "id": "6f53b3db-9cfe-4a50-a8c6-e686434a6882",
   "metadata": {},
   "outputs": [
    {
     "name": "stdout",
     "output_type": "stream",
     "text": [
      "Time taken: 0.00000030 seconds\n"
     ]
    },
    {
     "data": {
      "text/plain": [
       "[1, 4, 9, 16, 25]"
      ]
     },
     "execution_count": 66,
     "metadata": {},
     "output_type": "execute_result"
    }
   ],
   "source": [
    "import time\n",
    "\n",
    "def time_it(func):\n",
    "    start = time.perf_counter()\n",
    "    result = func\n",
    "    end = time.perf_counter()\n",
    "    print(f\"Time taken: {end - start:.8f} seconds\")\n",
    "    return result\n",
    "time_it(function(callback, lst))"
   ]
  },
  {
   "cell_type": "markdown",
   "id": "8c350005-3bf9-4151-ab6b-5dfc57bf12da",
   "metadata": {},
   "source": [
    "\n",
    "### Assignment 7: Higher-Order Function for Filtering and Mapping\n",
    "\n",
    "Define a higher-order function that takes two functions, a filter function and a map function, along with a list of integers. The higher-order function should first filter the integers using the filter function and then apply the map function to the filtered integers. Test with different filter and map functions.\n"
   ]
  },
  {
   "cell_type": "code",
   "execution_count": 80,
   "id": "a3d4791a-1370-4fae-9eff-2059a86cc6ca",
   "metadata": {},
   "outputs": [
    {
     "name": "stdout",
     "output_type": "stream",
     "text": [
      "[24, 32]\n"
     ]
    }
   ],
   "source": [
    "def higher_order(filter_func, map_func, lst):\n",
    "    filtered = filter_func(lambda x: x > 18, lst)\n",
    "    mapped = map_func(lambda x: x, filtered)\n",
    "    return list(mapped)\n",
    "\n",
    "ages = [5, 12, 17, 18, 24, 32]\n",
    "\n",
    "result = higher_order(filter, map, ages)\n",
    "print(result)\n"
   ]
  },
  {
   "cell_type": "markdown",
   "id": "714d98bb-85cb-4ea1-86b3-f4caeec5fc8e",
   "metadata": {},
   "source": [
    "\n",
    "### Assignment 8: Function Composition\n",
    "\n",
    "Define a function that composes two functions, f and g, such that the result is f(g(x)). Test with different functions f and g.\n"
   ]
  },
  {
   "cell_type": "code",
   "execution_count": 84,
   "id": "3338fd10-8091-4d90-9a25-a88aaf01b233",
   "metadata": {},
   "outputs": [
    {
     "name": "stdout",
     "output_type": "stream",
     "text": [
      "10\n"
     ]
    }
   ],
   "source": [
    "def compose(f, g):\n",
    "    def composed(x):\n",
    "        return f(g(x))\n",
    "    return composed\n",
    "    \n",
    "def f(x):\n",
    "    return 2 * x\n",
    "\n",
    "def g(x):\n",
    "    return 2 * x + 1\n",
    "\n",
    "composed_func = compose(f, g)\n",
    "\n",
    "x = 2\n",
    "y = composed_func(x)\n",
    "print(y)\n"
   ]
  },
  {
   "cell_type": "markdown",
   "id": "199ae8f8-2b5f-4deb-8124-962593be8e0c",
   "metadata": {},
   "source": [
    "\n",
    "### Assignment 9: Partial Function Application\n",
    "\n",
    "Use the functools.partial function to create a new function that multiplies its input by 2. Test the new function with different inputs.\n"
   ]
  },
  {
   "cell_type": "code",
   "execution_count": 86,
   "id": "aa45fa64-5c57-4280-8d15-ac267e0b83d7",
   "metadata": {},
   "outputs": [
    {
     "name": "stdout",
     "output_type": "stream",
     "text": [
      "32\n",
      "1024\n",
      "128\n"
     ]
    }
   ],
   "source": [
    "from functools import partial\n",
    "\n",
    "def multiply(x, y):\n",
    "    return x ** y\n",
    "    \n",
    "double = partial(multiply, 2)\n",
    "\n",
    "print(double(5)) \n",
    "print(double(10))  \n",
    "print(double(7))   \n"
   ]
  },
  {
   "cell_type": "markdown",
   "id": "807b8d4c-a04e-4fc6-97d3-8dd0a588c48f",
   "metadata": {},
   "source": [
    "\n",
    "### Assignment 10: Function with Error Handling\n",
    "\n",
    "Define a function that takes a list of integers and returns their average. The function should handle any errors that occur (e.g., empty list) and return None in such cases. Test with different inputs.\n"
   ]
  },
  {
   "cell_type": "code",
   "execution_count": 89,
   "id": "896f3b5b-8135-48a6-98dc-8f63cf63609f",
   "metadata": {},
   "outputs": [
    {
     "name": "stdout",
     "output_type": "stream",
     "text": [
      "3.0\n"
     ]
    }
   ],
   "source": [
    "def average(lst):\n",
    "    try:\n",
    "        result = sum(lst)/len(lst)\n",
    "        return result\n",
    "    except:\n",
    "        return None\n",
    "lst = [1,2,3,4,5]\n",
    "x = average(lst)\n",
    "print(x)"
   ]
  },
  {
   "cell_type": "markdown",
   "id": "a38bf57b-a4ad-4ad7-9d43-7819e607800e",
   "metadata": {},
   "source": [
    "\n",
    "### Assignment 11: Function with Generators\n",
    "\n",
    "Define a function that generates an infinite sequence of Fibonacci numbers. Test by printing the first 10 numbers in the sequence.\n"
   ]
  },
  {
   "cell_type": "code",
   "execution_count": 95,
   "id": "5322086d-2330-44ac-9257-d0b092252a0d",
   "metadata": {},
   "outputs": [
    {
     "name": "stdout",
     "output_type": "stream",
     "text": [
      "0 1 1 2 3 5 8 13 21 34 "
     ]
    }
   ],
   "source": [
    "def fibonacci():\n",
    "    a, b = 0, 1\n",
    "    while True:    \n",
    "        yield a    \n",
    "        a, b = b, a + b\n",
    "\n",
    "fib_gen = fibonacci()\n",
    "\n",
    "for i in range(10):\n",
    "    print(next(fib_gen), end=' ')\n"
   ]
  },
  {
   "cell_type": "markdown",
   "id": "541ebc3a-d136-4f50-b471-3d2885a23b88",
   "metadata": {},
   "source": [
    "\n",
    "### Assignment 12: Currying\n",
    "\n",
    "Define a curried function that takes three arguments, one at a time, and returns their product. Test the function by providing arguments one at a time.\n"
   ]
  },
  {
   "cell_type": "code",
   "execution_count": 99,
   "id": "7a7cfcc4-f9bc-40d1-bea8-22f965dfe945",
   "metadata": {},
   "outputs": [
    {
     "name": "stdout",
     "output_type": "stream",
     "text": [
      "24\n"
     ]
    }
   ],
   "source": [
    "def multiply(x):\n",
    "    def inner1(y):\n",
    "        def inner2(z):\n",
    "            return x * y * z\n",
    "        return inner2\n",
    "    return inner1\n",
    "    \n",
    "result = multiply(2)(3)(4)\n",
    "print(result)\n"
   ]
  },
  {
   "cell_type": "code",
   "execution_count": 100,
   "id": "868d97bf-d0e0-435e-800e-bca02ec19720",
   "metadata": {},
   "outputs": [
    {
     "name": "stdout",
     "output_type": "stream",
     "text": [
      "24\n"
     ]
    }
   ],
   "source": [
    "multiply = lambda x: lambda y: lambda z: x * y * z\n",
    "print(multiply(2)(3)(4))  "
   ]
  },
  {
   "cell_type": "markdown",
   "id": "e0fe9ab7-e535-49a3-bcb0-85010c905aa7",
   "metadata": {},
   "source": [
    "\n",
    "### Assignment 13: Function with Context Manager\n",
    "\n",
    "Define a function that uses a context manager to write a list of integers to a file. The function should handle any errors that occur during file operations. Test with different lists.\n"
   ]
  },
  {
   "cell_type": "code",
   "execution_count": 101,
   "id": "4cac8c13-d580-40d1-99c4-d9d3e6034a34",
   "metadata": {},
   "outputs": [
    {
     "name": "stdout",
     "output_type": "stream",
     "text": [
      "Successfully wrote 5 integers to 'numbers.txt'.\n",
      "Successfully wrote 0 integers to 'empty.txt'.\n",
      "Successfully wrote 3 integers to 'bad_data.txt'.\n"
     ]
    }
   ],
   "source": [
    "def write_integers_to_file(filename, numbers):\n",
    "    try:\n",
    "        with open(filename, 'w') as f:\n",
    "            for num in numbers:\n",
    "                f.write(str(num) + '\\n')\n",
    "        print(f\"Successfully wrote {len(numbers)} integers to '{filename}'.\")\n",
    "    \n",
    "    except (IOError, TypeError) as e:\n",
    "        print(f\"Error occurred while writing to file: {e}\")\n",
    "\n",
    "write_integers_to_file('numbers.txt', [1, 2, 3, 4, 5])\n",
    "\n",
    "write_integers_to_file('empty.txt', [])\n",
    "\n",
    "write_integers_to_file('bad_data.txt', [1, 'two', 3])\n",
    "\n"
   ]
  },
  {
   "cell_type": "markdown",
   "id": "03160082-7a7b-4d07-a3ac-821006e654d8",
   "metadata": {},
   "source": [
    "\n",
    "### Assignment 14: Function with Multiple Return Types\n",
    "\n",
    "Define a function that takes a list of mixed data types (integers, strings, and floats) and returns three lists: one containing all the integers, one containing all the strings, and one containing all the floats. Test with different inputs.\n"
   ]
  },
  {
   "cell_type": "code",
   "execution_count": 105,
   "id": "ff3a3d7c-444d-45aa-82d5-63a175bed5cc",
   "metadata": {},
   "outputs": [
    {
     "name": "stdout",
     "output_type": "stream",
     "text": [
      "[1, 2]\n",
      "[3.14, 22.5]\n",
      "['a', 'b']\n"
     ]
    }
   ],
   "source": [
    "def mixed(lst):\n",
    "    integer = []\n",
    "    float1 = []\n",
    "    string = []\n",
    "    for i in lst:\n",
    "        if type(i) == int:\n",
    "            integer.append(i)\n",
    "        elif type(i) == float:\n",
    "            float1.append(i)\n",
    "        else:\n",
    "            string.append(i)\n",
    "    return integer, float1, string\n",
    "        \n",
    "lst = [1, 2, 'a', 'b', 3.14, 22.5]\n",
    "x = mixed(lst)\n",
    "for i in x:\n",
    "    print(i)"
   ]
  },
  {
   "cell_type": "markdown",
   "id": "9e53f569-ddcf-4d00-b489-1539f9f2ac60",
   "metadata": {},
   "source": [
    "\n",
    "### Assignment 15: Function with State\n",
    "\n",
    "Define a function that maintains state between calls using a mutable default argument. The function should keep track of how many times it has been called. Test by calling the function multiple times."
   ]
  },
  {
   "cell_type": "code",
   "execution_count": 107,
   "id": "1a378ff0-684c-4b77-9f3b-2384a89c65c7",
   "metadata": {},
   "outputs": [
    {
     "name": "stdout",
     "output_type": "stream",
     "text": [
      "This function has been called 1 times.\n",
      "This function has been called 2 times.\n",
      "This function has been called 3 times.\n"
     ]
    }
   ],
   "source": [
    "def call_counter_safe():\n",
    "    if not hasattr(call_counter_safe, 'count'):\n",
    "        call_counter_safe.count = 0\n",
    "    call_counter_safe.count += 1\n",
    "    print(f\"This function has been called {call_counter_safe.count} times.\")\n",
    "call_counter_safe()\n",
    "call_counter_safe()\n",
    "call_counter_safe()"
   ]
  }
 ],
 "metadata": {
  "kernelspec": {
   "display_name": "Python 3 (ipykernel)",
   "language": "python",
   "name": "python3"
  },
  "language_info": {
   "codemirror_mode": {
    "name": "ipython",
    "version": 3
   },
   "file_extension": ".py",
   "mimetype": "text/x-python",
   "name": "python",
   "nbconvert_exporter": "python",
   "pygments_lexer": "ipython3",
   "version": "3.13.5"
  }
 },
 "nbformat": 4,
 "nbformat_minor": 5
}
