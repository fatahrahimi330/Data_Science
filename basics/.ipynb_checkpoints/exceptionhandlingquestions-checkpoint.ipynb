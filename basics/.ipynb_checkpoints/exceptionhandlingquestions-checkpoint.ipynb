{
 "cells": [
  {
   "cell_type": "markdown",
   "id": "37a318b7",
   "metadata": {},
   "source": [
    "# Module: Exception Handling Assignments\n",
    "## Lesson: Exception Handling with try, except, and finally"
   ]
  },
  {
   "cell_type": "markdown",
   "id": "cf7cb9df-5149-48e1-ad4f-b2b3b0b1c5d8",
   "metadata": {},
   "source": [
    "### Assignment 1: Handling Division by Zero\n",
    "\n",
    "Write a function that takes two integers as input and returns their division. Use try, except, and finally blocks to handle division by zero and print an appropriate message.\n"
   ]
  },
  {
   "cell_type": "code",
   "execution_count": 2,
   "id": "76a238b6-b325-41a1-844d-723d86956c7e",
   "metadata": {},
   "outputs": [
    {
     "name": "stdout",
     "output_type": "stream",
     "text": [
      "Division operation attempted.\n",
      "5.0\n",
      "Error: Division by zero is not allowed.\n",
      "Division operation attempted.\n",
      "None\n"
     ]
    }
   ],
   "source": [
    "def safe_division(a, b):\n",
    "    try:\n",
    "        result = a / b\n",
    "    except ZeroDivisionError:\n",
    "        print(\"Error: Division by zero is not allowed.\")\n",
    "        result = None\n",
    "    finally:\n",
    "        print(\"Division operation attempted.\")\n",
    "    return result\n",
    "\n",
    "# Example usage:\n",
    "print(safe_division(10, 2))   # Should print 5.0\n",
    "print(safe_division(10, 0))   # Should handle the error"
   ]
  },
  {
   "cell_type": "markdown",
   "id": "91b3ff1f-a028-41ec-96bc-771498797302",
   "metadata": {},
   "source": [
    "\n",
    "### Assignment 2: File Reading with Exception Handling\n",
    "\n",
    "Write a function that reads the contents of a file named `data.txt`. Use try, except, and finally blocks to handle file not found errors and ensure the file is properly closed.\n"
   ]
  },
  {
   "cell_type": "code",
   "execution_count": 3,
   "id": "166db7ab-76f1-4b0f-a700-c3188b9008e1",
   "metadata": {},
   "outputs": [
    {
     "name": "stdout",
     "output_type": "stream",
     "text": [
      "Error: The file 'data.txt' was not found.\n",
      "No file to close.\n"
     ]
    }
   ],
   "source": [
    "def read_file():\n",
    "    try:\n",
    "        file = open(\"data.txt\", \"r\")\n",
    "        content = file.read()\n",
    "        print(\"File contents:\\n\", content)\n",
    "    except FileNotFoundError:\n",
    "        print(\"Error: The file 'data.txt' was not found.\")\n",
    "    finally:\n",
    "        try:\n",
    "            file.close()\n",
    "            print(\"File closed successfully.\")\n",
    "        except NameError:\n",
    "            # This happens if 'file' was never opened\n",
    "            print(\"No file to close.\")\n",
    "\n",
    "# Example usage:\n",
    "read_file()"
   ]
  },
  {
   "cell_type": "markdown",
   "id": "d52b3b90-040b-47c1-9e18-11788552cf89",
   "metadata": {},
   "source": [
    "\n",
    "### Assignment 3: Handling Multiple Exceptions\n",
    "\n",
    "Write a function that takes a list of integers and returns their sum. Use try, except, and finally blocks to handle TypeError if a non-integer value is encountered and print an appropriate message.\n"
   ]
  },
  {
   "cell_type": "code",
   "execution_count": 4,
   "id": "2ad6d0b2-c046-45d1-be82-950780b4a4e7",
   "metadata": {},
   "outputs": [
    {
     "name": "stdout",
     "output_type": "stream",
     "text": [
      "Sum operation attempted.\n",
      "10\n",
      "Error: All elements in the list must be integers.\n",
      "Sum operation attempted.\n",
      "None\n"
     ]
    }
   ],
   "source": [
    "def safe_sum(numbers):\n",
    "    total = 0\n",
    "    try:\n",
    "        for num in numbers:\n",
    "            total += num\n",
    "    except TypeError:\n",
    "        print(\"Error: All elements in the list must be integers.\")\n",
    "        total = None\n",
    "    finally:\n",
    "        print(\"Sum operation attempted.\")\n",
    "    return total\n",
    "\n",
    "# Example usage:\n",
    "print(safe_sum([1, 2, 3, 4]))    \n",
    "print(safe_sum([1, 'a', 3]))     \n"
   ]
  },
  {
   "cell_type": "markdown",
   "id": "91035392-8286-4b63-a39b-8f6ad0c6a121",
   "metadata": {},
   "source": [
    "\n",
    "### Assignment 4: Exception Handling in User Input\n",
    "\n",
    "Write a function that prompts the user to enter an integer. Use try, except, and finally blocks to handle ValueError if the user enters a non-integer value and print an appropriate message.\n"
   ]
  },
  {
   "cell_type": "code",
   "execution_count": 6,
   "id": "44f19d75-d176-44b4-b4b6-1c816134bbfb",
   "metadata": {},
   "outputs": [
    {
     "name": "stdin",
     "output_type": "stream",
     "text": [
      "Enter an integer:  f\n"
     ]
    },
    {
     "name": "stdout",
     "output_type": "stream",
     "text": [
      "Error: That is not a valid integer.\n",
      "Input operation completed.\n"
     ]
    }
   ],
   "source": [
    "def get_integer():\n",
    "    try:\n",
    "        num = int(input(\"Enter an integer: \"))\n",
    "        print(f\"You entered: {num}\")\n",
    "    except ValueError:\n",
    "        print(\"Error: That is not a valid integer.\")\n",
    "        num = None\n",
    "    finally:\n",
    "        print(\"Input operation completed.\")\n",
    "    return num\n",
    "\n",
    "# Example usage:\n",
    "get_integer()\n"
   ]
  },
  {
   "cell_type": "markdown",
   "id": "fd4cb50f-6893-4aa7-a844-b04ceb36d6f1",
   "metadata": {},
   "source": [
    "\n",
    "### Assignment 5: Exception Handling in Dictionary Access\n",
    "\n",
    "Write a function that takes a dictionary and a key as input and returns the value associated with the key. Use try, except, and finally blocks to handle KeyError if the key is not found in the dictionary and print an appropriate message.\n"
   ]
  },
  {
   "cell_type": "code",
   "execution_count": 8,
   "id": "88cbec48-bbca-4a83-9a0d-a849885532cf",
   "metadata": {},
   "outputs": [
    {
     "name": "stdout",
     "output_type": "stream",
     "text": [
      "Value found: 2\n",
      "Dictionary lookup attempted.\n",
      "2\n",
      "Error: The key 'x' was not found in the dictionary.\n",
      "Dictionary lookup attempted.\n",
      "None\n"
     ]
    }
   ],
   "source": [
    "def get_value_from_dict(dictionary, key):\n",
    "    try:\n",
    "        value = dictionary[key]\n",
    "        print(f\"Value found: {value}\")\n",
    "    except KeyError:\n",
    "        print(f\"Error: The key '{key}' was not found in the dictionary.\")\n",
    "        value = None\n",
    "    finally:\n",
    "        print(\"Dictionary lookup attempted.\")\n",
    "    return value\n",
    "\n",
    "# Example usage:\n",
    "my_dict = {'a': 1, 'b': 2, 'c': 3}\n",
    "print(get_value_from_dict(my_dict, 'b'))  # Should return 2\n",
    "print(get_value_from_dict(my_dict, 'x'))  # KeyError handled\n"
   ]
  },
  {
   "cell_type": "markdown",
   "id": "92ccb54e-fa1d-404f-a12d-2a09e83f272d",
   "metadata": {},
   "source": [
    "\n",
    "### Assignment 6: Nested Exception Handling\n",
    "\n",
    "Write a function that performs nested exception handling. It should first attempt to convert a string to an integer, and then attempt to divide by that integer. Use nested try, except, and finally blocks to handle ValueError and ZeroDivisionError and print appropriate messages.\n"
   ]
  },
  {
   "cell_type": "code",
   "execution_count": 9,
   "id": "a84df3cf-6b3b-4872-b97e-dfba3dc79ad8",
   "metadata": {},
   "outputs": [
    {
     "name": "stdout",
     "output_type": "stream",
     "text": [
      "Division operation attempted.\n",
      "Conversion operation attempted.\n",
      "10.0\n",
      "Error: Division by zero is not allowed.\n",
      "Division operation attempted.\n",
      "Conversion operation attempted.\n",
      "None\n",
      "Error: Input is not a valid integer.\n",
      "Conversion operation attempted.\n",
      "None\n"
     ]
    }
   ],
   "source": [
    "def nested_exception_handling(input_str):\n",
    "    try:\n",
    "        # Outer try: attempt to convert string to integer\n",
    "        number = int(input_str)\n",
    "        try:\n",
    "            # Inner try: attempt division\n",
    "            result = 100 / number\n",
    "        except ZeroDivisionError:\n",
    "            print(\"Error: Division by zero is not allowed.\")\n",
    "            result = None\n",
    "        finally:\n",
    "            print(\"Division operation attempted.\")\n",
    "    except ValueError:\n",
    "        print(\"Error: Input is not a valid integer.\")\n",
    "        result = None\n",
    "    finally:\n",
    "        print(\"Conversion operation attempted.\")\n",
    "    \n",
    "    return result\n",
    "\n",
    "# Example usage:\n",
    "print(nested_exception_handling(\"10\"))  # Works, returns 10.0\n",
    "print(nested_exception_handling(\"0\"))   # Division by zero handled\n",
    "print(nested_exception_handling(\"abc\")) # ValueError handled\n"
   ]
  },
  {
   "cell_type": "markdown",
   "id": "ffd0a2c0-29f4-47e6-ac45-481d21902231",
   "metadata": {},
   "source": [
    "\n",
    "### Assignment 7: Exception Handling in List Operations\n",
    "\n",
    "Write a function that takes a list and an index as input and returns the element at the given index. Use try, except, and finally blocks to handle IndexError if the index is out of range and print an appropriate message.\n"
   ]
  },
  {
   "cell_type": "code",
   "execution_count": 10,
   "id": "0ceadab1-45be-46cc-a1c1-70abc161db7d",
   "metadata": {},
   "outputs": [
    {
     "name": "stdout",
     "output_type": "stream",
     "text": [
      "Element at index 2: 30\n",
      "List access attempted.\n",
      "30\n",
      "Error: Index 5 is out of range.\n",
      "List access attempted.\n",
      "None\n"
     ]
    }
   ],
   "source": [
    "def get_element_at_index(lst, index):\n",
    "    try:\n",
    "        element = lst[index]\n",
    "        print(f\"Element at index {index}: {element}\")\n",
    "    except IndexError:\n",
    "        print(f\"Error: Index {index} is out of range.\")\n",
    "        element = None\n",
    "    finally:\n",
    "        print(\"List access attempted.\")\n",
    "    return element\n",
    "\n",
    "# Example usage:\n",
    "my_list = [10, 20, 30, 40]\n",
    "print(get_element_at_index(my_list, 2)) \n",
    "print(get_element_at_index(my_list, 5)) \n"
   ]
  },
  {
   "cell_type": "markdown",
   "id": "8c4b1f1c-73e9-434c-998d-e56d262724cd",
   "metadata": {},
   "source": [
    "\n",
    "### Assignment 8: Exception Handling in Network Operations\n",
    "\n",
    "Write a function that attempts to open a URL and read its contents. Use try, except, and finally blocks to handle network-related errors and print an appropriate message.\n"
   ]
  },
  {
   "cell_type": "code",
   "execution_count": 17,
   "id": "339bbccc-d5be-4054-bef3-e60829bde955",
   "metadata": {},
   "outputs": [
    {
     "name": "stdout",
     "output_type": "stream",
     "text": [
      "Error: Failed to open URL. Reason: no host given\n",
      "URL access attempted.\n"
     ]
    }
   ],
   "source": [
    "import urllib.request\n",
    "import urllib.error\n",
    "\n",
    "def read_url(url):\n",
    "    try:\n",
    "        response = urllib.request.urlopen(url)\n",
    "        content = response.read().decode('utf-8')\n",
    "        print(\"URL content successfully read.\")\n",
    "    except urllib.error.URLError as e:\n",
    "        print(f\"Error: Failed to open URL. Reason: {e.reason}\")\n",
    "        content = None\n",
    "    except Exception as e:\n",
    "        print(f\"An unexpected error occurred: {e}\")\n",
    "        content = None\n",
    "    finally:\n",
    "        print(\"URL access attempted.\")\n",
    "    return content\n",
    "\n",
    "# Example usage:\n",
    "url = \"https:///www.example.com\"\n",
    "content = read_url(url)\n"
   ]
  },
  {
   "cell_type": "markdown",
   "id": "f0a78af7-6a3e-44d5-86d9-50bfb372f9ab",
   "metadata": {},
   "source": [
    "\n",
    "### Assignment 9: Exception Handling in JSON Parsing\n",
    "\n",
    "Write a function that attempts to parse a JSON string. Use try, except, and finally blocks to handle JSONDecodeError if the string is not a valid JSON and print an appropriate message.\n"
   ]
  },
  {
   "cell_type": "code",
   "execution_count": 19,
   "id": "57279f3d-82dd-4e34-9217-f467e8c35fa6",
   "metadata": {},
   "outputs": [
    {
     "name": "stdout",
     "output_type": "stream",
     "text": [
      "JSON parsed successfully.\n",
      "JSON parsing attempted.\n",
      "{'name': 'Alice', 'age': 25}\n",
      "Error: Invalid JSON string.\n",
      "JSON parsing attempted.\n",
      "None\n"
     ]
    }
   ],
   "source": [
    "import json\n",
    "\n",
    "def parse_json(json_string):\n",
    "    try:\n",
    "        data = json.loads(json_string)\n",
    "        print(\"JSON parsed successfully.\")\n",
    "    except json.JSONDecodeError:\n",
    "        print(\"Error: Invalid JSON string.\")\n",
    "        data = None\n",
    "    finally:\n",
    "        print(\"JSON parsing attempted.\")\n",
    "    return data\n",
    "\n",
    "# Example usage:\n",
    "valid_json = '{\"name\": \"Alice\", \"age\": 25}'\n",
    "invalid_json = '{\"name\": \"Alice\", \"age\": 25'  # Missing closing brace\n",
    "\n",
    "print(parse_json(valid_json))    #  Returns the dictionary\n",
    "print(parse_json(invalid_json))  # Handles JSONDecodeError\n"
   ]
  },
  {
   "cell_type": "markdown",
   "id": "c4f77278-617f-4009-a285-a128c5724737",
   "metadata": {},
   "source": [
    "\n",
    "### Assignment 10: Custom Exception Handling\n",
    "\n",
    "Define a custom exception named `NegativeNumberError`. Write a function that raises this exception if a negative number is encountered in a list. Use try, except, and finally blocks to handle the custom exception and print an appropriate message.\n"
   ]
  },
  {
   "cell_type": "code",
   "execution_count": 20,
   "id": "e305e25a-2bd2-4421-9751-b64927b45dbf",
   "metadata": {},
   "outputs": [
    {
     "name": "stdout",
     "output_type": "stream",
     "text": [
      "No negative numbers found.\n",
      "Negative number check completed.\n",
      "Error: Negative number encountered: -3\n",
      "Negative number check completed.\n"
     ]
    }
   ],
   "source": [
    "# Define the custom exception\n",
    "class NegativeNumberError(Exception):\n",
    "    def __init__(self, number):\n",
    "        super().__init__(f\"Negative number encountered: {number}\")\n",
    "        self.number = number\n",
    "\n",
    "# Function to check for negative numbers\n",
    "def check_for_negatives(numbers):\n",
    "    try:\n",
    "        for num in numbers:\n",
    "            if num < 0:\n",
    "                raise NegativeNumberError(num)\n",
    "        print(\"No negative numbers found.\")\n",
    "    except NegativeNumberError as e:\n",
    "        print(f\"Error: {e}\")\n",
    "    finally:\n",
    "        print(\"Negative number check completed.\")\n",
    "\n",
    "# Example usage:\n",
    "nums1 = [10, 5, 0, 7]\n",
    "nums2 = [4, -3, 8, 2]\n",
    "\n",
    "check_for_negatives(nums1)  # No negatives\n",
    "check_for_negatives(nums2)  # Handles NegativeNumberError\n"
   ]
  },
  {
   "cell_type": "markdown",
   "id": "83ecc3e0-73fa-45a8-9821-ae65ef9b2da4",
   "metadata": {},
   "source": [
    "\n",
    "### Assignment 11: Exception Handling in Function Calls\n",
    "\n",
    "Write a function that calls another function which may raise an exception. Use try, except, and finally blocks to handle the exception and print an appropriate message.\n"
   ]
  },
  {
   "cell_type": "code",
   "execution_count": 21,
   "id": "da1bb214-ff97-4cf7-9e22-b2ab0519e123",
   "metadata": {},
   "outputs": [
    {
     "name": "stdout",
     "output_type": "stream",
     "text": [
      "Result: 2.0\n",
      "Attempt to call risky_function completed.\n",
      "Error: x cannot be zero!\n",
      "Attempt to call risky_function completed.\n"
     ]
    }
   ],
   "source": [
    "# Function that may raise an exception\n",
    "def risky_function(x):\n",
    "    if x == 0:\n",
    "        raise ValueError(\"x cannot be zero!\")\n",
    "    return 10 / x\n",
    "\n",
    "# Function that calls risky_function and handles exceptions\n",
    "def handle_risky_call(x):\n",
    "    try:\n",
    "        result = risky_function(x)\n",
    "        print(f\"Result: {result}\")\n",
    "    except ValueError as e:\n",
    "        print(f\"Error: {e}\")\n",
    "        result = None\n",
    "    finally:\n",
    "        print(\"Attempt to call risky_function completed.\")\n",
    "    return result\n",
    "\n",
    "# Example usage:\n",
    "handle_risky_call(5)   # Works fine, prints result\n",
    "handle_risky_call(0)   # Handles ValueError\n"
   ]
  },
  {
   "cell_type": "markdown",
   "id": "93c0450e-b731-4cf7-af0b-0a74f1043c2d",
   "metadata": {},
   "source": [
    "\n",
    "### Assignment 12: Exception Handling in Class Methods\n",
    "\n",
    "Define a class with a method that performs a division operation. Use try, except, and finally blocks within the method to handle division by zero and print an appropriate message.\n"
   ]
  },
  {
   "cell_type": "code",
   "execution_count": 22,
   "id": "5cec9577-7584-4e58-b4b6-e1cdbef3bb09",
   "metadata": {},
   "outputs": [
    {
     "name": "stdout",
     "output_type": "stream",
     "text": [
      "Division operation attempted.\n",
      "5.0\n",
      "Error: Division by zero is not allowed.\n",
      "Division operation attempted.\n",
      "None\n"
     ]
    }
   ],
   "source": [
    "class Divider:\n",
    "    def divide(self, a, b):\n",
    "        try:\n",
    "            result = a / b\n",
    "        except ZeroDivisionError:\n",
    "            print(\"Error: Division by zero is not allowed.\")\n",
    "            result = None\n",
    "        finally:\n",
    "            print(\"Division operation attempted.\")\n",
    "        return result\n",
    "\n",
    "# Example usage:\n",
    "divider = Divider()\n",
    "print(divider.divide(10, 2))  # Returns 5.0\n",
    "print(divider.divide(10, 0))  # Handles division by zero\n"
   ]
  },
  {
   "cell_type": "markdown",
   "id": "2c68662f-708f-4100-b812-b173e6758f7f",
   "metadata": {},
   "source": [
    "\n",
    "### Assignment 13: Exception Handling in Data Conversion\n",
    "\n",
    "Write a function that takes a list of strings and converts them to integers. Use try, except, and finally blocks to handle ValueError if a string cannot be converted and print an appropriate message.\n"
   ]
  },
  {
   "cell_type": "code",
   "execution_count": 23,
   "id": "da461024-8d27-4526-bd63-27371c716e58",
   "metadata": {},
   "outputs": [
    {
     "name": "stdout",
     "output_type": "stream",
     "text": [
      "Attempted to convert '10'\n",
      "Attempted to convert '20'\n",
      "Error: 'abc' cannot be converted to an integer.\n",
      "Attempted to convert 'abc'\n",
      "Attempted to convert '30'\n",
      "Error: '4.5' cannot be converted to an integer.\n",
      "Attempted to convert '4.5'\n",
      "Converted list: [10, 20, 30]\n"
     ]
    }
   ],
   "source": [
    "def convert_to_integers(str_list):\n",
    "    int_list = []\n",
    "    for s in str_list:\n",
    "        try:\n",
    "            num = int(s)\n",
    "            int_list.append(num)\n",
    "        except ValueError:\n",
    "            print(f\"Error: '{s}' cannot be converted to an integer.\")\n",
    "        finally:\n",
    "            print(f\"Attempted to convert '{s}'\")\n",
    "    return int_list\n",
    "\n",
    "# Example usage:\n",
    "strings = [\"10\", \"20\", \"abc\", \"30\", \"4.5\"]\n",
    "converted = convert_to_integers(strings)\n",
    "print(\"Converted list:\", converted)\n"
   ]
  },
  {
   "cell_type": "markdown",
   "id": "34b14b3c-2012-47ff-aa0d-f0440c6d472f",
   "metadata": {},
   "source": [
    "\n",
    "### Assignment 14: Exception Handling in List Comprehensions\n",
    "\n",
    "Write a function that uses a list comprehension to convert a list of strings to integers. Use try, except, and finally blocks within the list comprehension to handle ValueError and print an appropriate message.\n"
   ]
  },
  {
   "cell_type": "code",
   "execution_count": 24,
   "id": "fca25648-e420-4d36-80ee-b2858503defc",
   "metadata": {},
   "outputs": [
    {
     "name": "stdout",
     "output_type": "stream",
     "text": [
      "Attempted to convert '10'\n",
      "Attempted to convert '20'\n",
      "Error: 'abc' cannot be converted to an integer.\n",
      "Attempted to convert 'abc'\n",
      "Attempted to convert '30'\n",
      "Error: '4.5' cannot be converted to an integer.\n",
      "Attempted to convert '4.5'\n",
      "Converted list: [10, 20, 30]\n"
     ]
    }
   ],
   "source": [
    "def safe_convert(s):\n",
    "    try:\n",
    "        return int(s)\n",
    "    except ValueError:\n",
    "        print(f\"Error: '{s}' cannot be converted to an integer.\")\n",
    "        return None\n",
    "    finally:\n",
    "        print(f\"Attempted to convert '{s}'\")\n",
    "\n",
    "def convert_list(strings):\n",
    "    # Use list comprehension with the helper function\n",
    "    return [num for num in (safe_convert(s) for s in strings) if num is not None]\n",
    "\n",
    "# Example usage:\n",
    "strings = [\"10\", \"20\", \"abc\", \"30\", \"4.5\"]\n",
    "converted = convert_list(strings)\n",
    "print(\"Converted list:\", converted)\n"
   ]
  },
  {
   "cell_type": "markdown",
   "id": "aeaf258a-d9be-4282-9c83-3666decb2a33",
   "metadata": {},
   "source": [
    "\n",
    "### Assignment 15: Exception Handling in File Writing\n",
    "\n",
    "Write a function that attempts to write a list of strings to a file. Use try, except, and finally blocks to handle IOError and ensure the file is properly closed."
   ]
  },
  {
   "cell_type": "code",
   "execution_count": 25,
   "id": "3f31724e-e49e-4cbb-b527-8bdf4f9dacc1",
   "metadata": {},
   "outputs": [
    {
     "name": "stdout",
     "output_type": "stream",
     "text": [
      "Data successfully written to 'output.txt'.\n",
      "File 'output.txt' closed.\n"
     ]
    }
   ],
   "source": [
    "def write_to_file(filename, string_list):\n",
    "    try:\n",
    "        file = open(filename, \"w\")\n",
    "        for line in string_list:\n",
    "            file.write(line + \"\\n\")\n",
    "        print(f\"Data successfully written to '{filename}'.\")\n",
    "    except IOError as e:\n",
    "        print(f\"Error: Unable to write to file '{filename}'. Reason: {e}\")\n",
    "    finally:\n",
    "        try:\n",
    "            file.close()\n",
    "            print(f\"File '{filename}' closed.\")\n",
    "        except NameError:\n",
    "            # Happens if file was never opened\n",
    "            print(\"No file to close.\")\n",
    "\n",
    "# Example usage:\n",
    "lines = [\"Hello, world!\", \"Python is fun.\", \"Exception handling is important.\"]\n",
    "write_to_file(\"output.txt\", lines)\n"
   ]
  }
 ],
 "metadata": {
  "kernelspec": {
   "display_name": "Python 3 (ipykernel)",
   "language": "python",
   "name": "python3"
  },
  "language_info": {
   "codemirror_mode": {
    "name": "ipython",
    "version": 3
   },
   "file_extension": ".py",
   "mimetype": "text/x-python",
   "name": "python",
   "nbconvert_exporter": "python",
   "pygments_lexer": "ipython3",
   "version": "3.13.5"
  }
 },
 "nbformat": 4,
 "nbformat_minor": 5
}
