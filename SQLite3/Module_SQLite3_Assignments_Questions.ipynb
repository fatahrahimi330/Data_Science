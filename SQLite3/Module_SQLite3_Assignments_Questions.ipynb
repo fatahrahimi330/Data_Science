{
 "cells": [
  {
   "cell_type": "markdown",
   "id": "964cf61d",
   "metadata": {},
   "source": [
    "# Module: SQLite3 Assignments\n",
    "## Lesson: SQLite3"
   ]
  },
  {
   "cell_type": "code",
   "execution_count": 2,
   "id": "12de31ef-aa52-4cf4-93a5-b13e8a7a9575",
   "metadata": {},
   "outputs": [],
   "source": [
    "import sqlite3"
   ]
  },
  {
   "cell_type": "markdown",
   "id": "29086594-8fb6-442f-becf-3e0c90104e8a",
   "metadata": {},
   "source": [
    "### Assignment 1: Creating and Connecting to a Database\n",
    "\n",
    "1. Write a Python function to create a new SQLite3 database named `test.db`.\n",
    "2. Write a Python function to create a table named `employees` with columns `id` (integer), `name` (text), `age` (integer), and `department` (text) in the `test.db` database.\n"
   ]
  },
  {
   "cell_type": "code",
   "execution_count": 3,
   "id": "03ba04f1-792f-47e1-b1ff-3f102b9da09f",
   "metadata": {},
   "outputs": [],
   "source": [
    "conn = sqlite3.connect('test.db')\n",
    "cursor = conn.cursor()"
   ]
  },
  {
   "cell_type": "code",
   "execution_count": 89,
   "id": "caace8ff-742f-44aa-9592-99457a39f1f8",
   "metadata": {},
   "outputs": [],
   "source": [
    "cursor.execute(\"\"\"\n",
    "CREATE TABLE employees (\n",
    "    id INTEGER PRIMARY KEY,\n",
    "    name TEXT NOT NULL,\n",
    "    age INTEGER,\n",
    "    department TEXT,\n",
    "    department_id INTEGER,\n",
    "    FOREIGN KEY (department_id) REFERENCES departments(id)\n",
    ")\n",
    "\"\"\")\n",
    "conn.commit()"
   ]
  },
  {
   "cell_type": "markdown",
   "id": "40dcf8b7-2d0b-45b5-b577-9c065d266d85",
   "metadata": {},
   "source": [
    "\n",
    "### Assignment 2: Inserting Data\n",
    "\n",
    "1. Write a Python function to insert a new employee into the `employees` table.\n",
    "2. Insert at least 5 different employees into the `employees` table.\n"
   ]
  },
  {
   "cell_type": "code",
   "execution_count": 92,
   "id": "85502283-3ef0-45c9-8ae4-0644a54a1a49",
   "metadata": {},
   "outputs": [],
   "source": [
    "cursor.executemany(\n",
    "    \"INSERT INTO employees (id, name, age, department, department_id) VALUES (?, ?, ?, ?, ?)\",\n",
    "    [\n",
    "        (1, 'Bilal', 26, 'Machine Learning', 1),\n",
    "        (2, 'Nadia', 32, 'Software Engineering', 2),\n",
    "        (3, 'Fatima', 35, 'Human Resources', 3)\n",
    "    ]\n",
    ")\n",
    "conn.commit()"
   ]
  },
  {
   "cell_type": "markdown",
   "id": "5c231f48-c9cd-4024-9287-876cb7406a7c",
   "metadata": {},
   "source": [
    "### Assignment 3: Querying Data\n",
    "\n",
    "1. Write a Python function to fetch and display all records from the `employees` table.\n",
    "2. Write a Python function to fetch and display all employees from a specific department.\n"
   ]
  },
  {
   "cell_type": "code",
   "execution_count": 44,
   "id": "4241a651-bbd7-4472-a37b-2f44d94db94e",
   "metadata": {},
   "outputs": [
    {
     "data": {
      "text/plain": [
       "[(1, 'Abdul', 23, 'Data Science'),\n",
       " (2, 'Sara', 27, 'Software Engineering'),\n",
       " (3, 'Omar', 25, 'Marketing'),\n",
       " (4, 'Layla', 30, 'Human Resources'),\n",
       " (5, 'Ahmad', 28, 'Finance')]"
      ]
     },
     "execution_count": 44,
     "metadata": {},
     "output_type": "execute_result"
    }
   ],
   "source": [
    "cursor.execute('SELECT * FROM employees')\n",
    "result = cursor.fetchall()\n",
    "result"
   ]
  },
  {
   "cell_type": "code",
   "execution_count": 45,
   "id": "00c6d251-84f8-4d13-84e8-59f5295ba224",
   "metadata": {},
   "outputs": [
    {
     "data": {
      "text/plain": [
       "[(1, 'Abdul', 23, 'Data Science')]"
      ]
     },
     "execution_count": 45,
     "metadata": {},
     "output_type": "execute_result"
    }
   ],
   "source": [
    "cursor.execute(\"SELECT * FROM employees WHERE department = ?\", ('Data Science',))\n",
    "result = cursor.fetchall()\n",
    "result"
   ]
  },
  {
   "cell_type": "markdown",
   "id": "687bbcad-116f-42c7-971f-65f88d82bce5",
   "metadata": {},
   "source": [
    "\n",
    "### Assignment 4: Updating Data\n",
    "\n",
    "1. Write a Python function to update the department of an employee based on their `id`.\n",
    "2. Update the department of at least 2 employees and display the updated records.\n"
   ]
  },
  {
   "cell_type": "code",
   "execution_count": 46,
   "id": "982f5a74-d401-4564-bb68-cac37f3dd563",
   "metadata": {},
   "outputs": [],
   "source": [
    "updates = [\n",
    "    ('Machine Learning', 1),\n",
    "    ('Sales', 3)\n",
    "]\n",
    "\n",
    "cursor.executemany(\"UPDATE employees SET department = ? WHERE id = ?\", updates)\n",
    "conn.commit()"
   ]
  },
  {
   "cell_type": "code",
   "execution_count": 47,
   "id": "9fef4524-a60a-44f3-9c08-71efba1d733e",
   "metadata": {},
   "outputs": [
    {
     "data": {
      "text/plain": [
       "[(1, 'Abdul', 23, 'Machine Learning'),\n",
       " (2, 'Sara', 27, 'Software Engineering'),\n",
       " (3, 'Omar', 25, 'Sales'),\n",
       " (4, 'Layla', 30, 'Human Resources'),\n",
       " (5, 'Ahmad', 28, 'Finance')]"
      ]
     },
     "execution_count": 47,
     "metadata": {},
     "output_type": "execute_result"
    }
   ],
   "source": [
    "cursor.execute(\"SELECT * FROM employees\")\n",
    "result = cursor.fetchall()\n",
    "result"
   ]
  },
  {
   "cell_type": "markdown",
   "id": "5d6045a8-5d2e-4c4b-ac21-cb35b1bd308a",
   "metadata": {},
   "source": [
    "\n",
    "### Assignment 5: Deleting Data\n",
    "\n",
    "1. Write a Python function to delete an employee from the `employees` table based on their `id`.\n",
    "2. Delete at least 1 employee and display the remaining records.\n"
   ]
  },
  {
   "cell_type": "code",
   "execution_count": 48,
   "id": "979997cb-b0e2-4743-918f-c18a050888e4",
   "metadata": {},
   "outputs": [],
   "source": [
    "cursor.execute(\"DELETE FROM employees WHERE id = ?\", (1,))\n",
    "conn.commit()"
   ]
  },
  {
   "cell_type": "code",
   "execution_count": 6,
   "id": "c02c499d-d518-4cc8-93ad-dd87fdc91a2e",
   "metadata": {},
   "outputs": [
    {
     "data": {
      "text/plain": [
       "[(1, 'Bilal', 26, 'Machine Learning', 1),\n",
       " (2, 'Nadia', 32, 'Software Engineering', 2),\n",
       " (3, 'Fatima', 35, 'Human Resources', 3)]"
      ]
     },
     "execution_count": 6,
     "metadata": {},
     "output_type": "execute_result"
    }
   ],
   "source": [
    "cursor.execute(\"SELECT * FROM employees\")\n",
    "result = cursor.fetchall()\n",
    "result"
   ]
  },
  {
   "cell_type": "markdown",
   "id": "d86908c9-71f4-47c0-8888-a7eb791e43f1",
   "metadata": {},
   "source": [
    "\n",
    "### Assignment 6: Advanced Queries\n",
    "\n",
    "1. Write a Python function to fetch and display employees older than a certain age.\n",
    "2. Write a Python function to fetch and display employees whose names start with a specific letter."
   ]
  },
  {
   "cell_type": "code",
   "execution_count": 50,
   "id": "73c6773c-d25e-4641-882d-4d97e5134e08",
   "metadata": {},
   "outputs": [
    {
     "data": {
      "text/plain": [
       "[(4, 'Layla', 30, 'Human Resources'), (5, 'Ahmad', 28, 'Finance')]"
      ]
     },
     "execution_count": 50,
     "metadata": {},
     "output_type": "execute_result"
    }
   ],
   "source": [
    "cursor.execute(\"SELECT * FROM employees WHERE age > ?\", (27,))\n",
    "results = cursor.fetchall()\n",
    "results"
   ]
  },
  {
   "cell_type": "code",
   "execution_count": 11,
   "id": "9405850a-ba17-4543-89ab-2c693b216318",
   "metadata": {},
   "outputs": [
    {
     "data": {
      "text/plain": [
       "[(1, 'Bilal', 26, 'Machine Learning', 1),\n",
       " (2, 'Nadia', 32, 'Software Engineering', 2),\n",
       " (3, 'Fatima', 35, 'Human Resources', 3)]"
      ]
     },
     "execution_count": 11,
     "metadata": {},
     "output_type": "execute_result"
    }
   ],
   "source": [
    "cursor.execute(\"SELECT * FROM employees WHERE name LIKE ?\", (f\"%{'a'}%\",))\n",
    "results = cursor.fetchall()\n",
    "results"
   ]
  },
  {
   "cell_type": "markdown",
   "id": "e5f711d5-a991-4f7c-89c6-4663e96ca2a9",
   "metadata": {},
   "source": [
    "\n",
    "### Assignment 7: Handling Transactions\n",
    "\n",
    "1. Write a Python function to insert multiple employees into the `employees` table in a single transaction. Ensure that if any insertion fails, none of the insertions are committed.\n",
    "2. Write a Python function to update the age of multiple employees in a single transaction. Ensure that if any update fails, none of the updates are committed.\n"
   ]
  },
  {
   "cell_type": "code",
   "execution_count": 52,
   "id": "19d36d9f-ecaf-4740-b985-20a4848b875d",
   "metadata": {},
   "outputs": [],
   "source": [
    "data = [\n",
    "    (6, 'Bilal', 26, 'Machine Learning'),\n",
    "    (7, 'Nadia', 32, 'Software Engineering'),\n",
    "    (8, 'Yusuf', 29, 'Sales'),\n",
    "    (9, 'Fatima', 35, 'Human Resources'),\n",
    "    (10, 'Hassan', 24, 'Cybersecurity')\n",
    "]\n",
    "cursor.executemany(\"INSERT INTO employees VALUES (?, ?, ?, ?)\", data)\n",
    "conn.commit()"
   ]
  },
  {
   "cell_type": "code",
   "execution_count": 58,
   "id": "a2d91e00-5a7c-4e77-b822-59a630a15c09",
   "metadata": {},
   "outputs": [],
   "source": [
    "updates = [\n",
    "    (80, 6),\n",
    "    (70, 7)\n",
    "]\n",
    "cursor.executemany(\"UPDATE employees SET age = ? WHERE id = ?\", updates)\n",
    "conn.commit()"
   ]
  },
  {
   "cell_type": "code",
   "execution_count": 59,
   "id": "386542b8-f8a6-4474-a85c-33966ecd66d9",
   "metadata": {},
   "outputs": [
    {
     "data": {
      "text/plain": [
       "[(2, 'Sara', 27, 'Software Engineering'),\n",
       " (3, 'Omar', 25, 'Sales'),\n",
       " (4, 'Layla', 30, 'Human Resources'),\n",
       " (5, 'Ahmad', 28, 'Finance'),\n",
       " (6, 'Bilal', 80, 'Machine Learning'),\n",
       " (7, 'Nadia', 70, 'Software Engineering'),\n",
       " (8, 'Yusuf', 29, 'Sales'),\n",
       " (9, 'Fatima', 35, 'Human Resources'),\n",
       " (10, 'Hassan', 24, 'Cybersecurity')]"
      ]
     },
     "execution_count": 59,
     "metadata": {},
     "output_type": "execute_result"
    }
   ],
   "source": [
    "cursor.execute('SELECT * FROM employees')\n",
    "result = cursor.fetchall()\n",
    "result"
   ]
  },
  {
   "cell_type": "markdown",
   "id": "0bd088b2-beb5-479f-bbee-b16712d6524f",
   "metadata": {},
   "source": [
    "\n",
    "### Assignment 8: Creating Relationships\n",
    "\n",
    "1. Create a new table named `departments` with columns `id` (integer) and `name` (text).\n",
    "2. Modify the `employees` table to include a foreign key referencing the `id` column in the `departments` table.\n",
    "3. Write a Python function to insert data into both the `departments` and `employees` tables, ensuring referential integrity.\n"
   ]
  },
  {
   "cell_type": "code",
   "execution_count": 90,
   "id": "fe1a9c45-d33a-4ec6-b055-ed2771d2289a",
   "metadata": {},
   "outputs": [],
   "source": [
    "cursor.execute(\"\"\"\n",
    "CREATE TABLE IF NOT EXISTS departments (\n",
    "    id INTEGER PRIMARY KEY,\n",
    "    name TEXT NOT NULL\n",
    ")\n",
    "\"\"\")\n",
    "conn.commit()"
   ]
  },
  {
   "cell_type": "code",
   "execution_count": 91,
   "id": "150d9cae-7e5a-488b-8830-29cafb9f1a3f",
   "metadata": {},
   "outputs": [],
   "source": [
    "cursor.executemany(\n",
    "    \"INSERT INTO departments (id, name) VALUES (?, ?)\",\n",
    "    [\n",
    "        (1, 'Machine Learning'),\n",
    "        (2, 'Software Engineering'),\n",
    "        (3, 'Human Resources')\n",
    "    ]\n",
    ")\n",
    "conn.commit()"
   ]
  },
  {
   "cell_type": "code",
   "execution_count": 94,
   "id": "6c2921ac-bbf1-4a3e-9c7d-875f270fdd6f",
   "metadata": {},
   "outputs": [
    {
     "data": {
      "text/plain": [
       "[(1, 'Bilal', 26, 'Machine Learning'),\n",
       " (2, 'Nadia', 32, 'Software Engineering'),\n",
       " (3, 'Fatima', 35, 'Human Resources')]"
      ]
     },
     "execution_count": 94,
     "metadata": {},
     "output_type": "execute_result"
    }
   ],
   "source": [
    "cursor.execute(\"\"\"\n",
    "SELECT e.id, e.name, e.age, d.name AS department\n",
    "FROM employees e\n",
    "JOIN departments d ON e.department_id = d.id\n",
    "\"\"\")\n",
    "\n",
    "result = cursor.fetchall()\n",
    "result"
   ]
  },
  {
   "cell_type": "markdown",
   "id": "acb0225c-c1d8-4b08-bd06-71218dafe8c0",
   "metadata": {},
   "source": [
    "\n",
    "### Assignment 9: Indexing and Optimization\n",
    "\n",
    "1. Create an index on the `name` column of the `employees` table.\n",
    "2. Write a Python function to fetch and display all employees whose names start with a specific letter. Compare the performance with and without the index.\n"
   ]
  },
  {
   "cell_type": "code",
   "execution_count": 96,
   "id": "8043d094-b6fe-479c-b655-3cb65a29a3d5",
   "metadata": {},
   "outputs": [],
   "source": [
    "cursor.execute(\"CREATE INDEX IF NOT EXISTS idx_employee_name ON employees(name)\")\n",
    "conn.commit()"
   ]
  },
  {
   "cell_type": "code",
   "execution_count": 97,
   "id": "39d01d4a-dec0-4e1a-a351-60c9d9c9f3c6",
   "metadata": {},
   "outputs": [
    {
     "data": {
      "text/plain": [
       "[(2, 'Nadia', 32, 'Software Engineering', 2)]"
      ]
     },
     "execution_count": 97,
     "metadata": {},
     "output_type": "execute_result"
    }
   ],
   "source": [
    "cursor.execute(\"SELECT * FROM employees WHERE name LIKE ?\", (f\"{'N'}%\",))\n",
    "results = cursor.fetchall()\n",
    "results"
   ]
  },
  {
   "cell_type": "markdown",
   "id": "45ac0a8d-7662-486b-91b5-aadbd63a3a5a",
   "metadata": {},
   "source": [
    "\n",
    "### Assignment 10: Backing Up and Restoring Data\n",
    "\n",
    "1. Write a Python function to back up the `test.db` database to a file named `backup.db`.\n",
    "2. Write a Python function to restore the `test.db` database from the `backup.db` file."
   ]
  },
  {
   "cell_type": "code",
   "execution_count": 99,
   "id": "8da9b7bd-6df4-4a4e-b22b-bb2b48b13281",
   "metadata": {},
   "outputs": [],
   "source": [
    "source_conn = sqlite3.connect('test.db')\n",
    "backup_conn = sqlite3.connect('backup.db')\n",
    "source_conn.backup(backup_conn)"
   ]
  },
  {
   "cell_type": "code",
   "execution_count": 100,
   "id": "398871c0-7a3c-493a-869b-78f37b5da970",
   "metadata": {},
   "outputs": [],
   "source": [
    "backup_conn = sqlite3.connect('backup.db')\n",
    "target_conn = sqlite3.connect('test.db')\n",
    "backup_conn.backup(target_conn)"
   ]
  },
  {
   "cell_type": "code",
   "execution_count": null,
   "id": "df9b7ab9-871d-4c04-b1a0-7f4b9a19745e",
   "metadata": {},
   "outputs": [],
   "source": [
    "cursor.execute(\"DELETE FROM department\")\n",
    "conn.commit()"
   ]
  },
  {
   "cell_type": "code",
   "execution_count": 88,
   "id": "4a75eb9d-0d0c-4d14-a907-1353fd6e31ba",
   "metadata": {},
   "outputs": [],
   "source": [
    "cursor.execute(\"DROP TABLE IF EXISTS departments\")\n",
    "conn.commit()"
   ]
  }
 ],
 "metadata": {
  "kernelspec": {
   "display_name": "Python 3 (ipykernel)",
   "language": "python",
   "name": "python3"
  },
  "language_info": {
   "codemirror_mode": {
    "name": "ipython",
    "version": 3
   },
   "file_extension": ".py",
   "mimetype": "text/x-python",
   "name": "python",
   "nbconvert_exporter": "python",
   "pygments_lexer": "ipython3",
   "version": "3.13.5"
  }
 },
 "nbformat": 4,
 "nbformat_minor": 5
}
