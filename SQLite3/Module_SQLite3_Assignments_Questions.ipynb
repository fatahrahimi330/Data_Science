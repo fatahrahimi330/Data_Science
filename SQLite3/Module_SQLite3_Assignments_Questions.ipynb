{
 "cells": [
  {
   "cell_type": "markdown",
   "id": "964cf61d",
   "metadata": {},
   "source": [
    "# Module: SQLite3 Assignments\n",
    "## Lesson: SQLite3"
   ]
  },
  {
   "cell_type": "code",
   "execution_count": 3,
   "id": "12de31ef-aa52-4cf4-93a5-b13e8a7a9575",
   "metadata": {},
   "outputs": [],
   "source": [
    "import sqlite3"
   ]
  },
  {
   "cell_type": "markdown",
   "id": "29086594-8fb6-442f-becf-3e0c90104e8a",
   "metadata": {},
   "source": [
    "### Assignment 1: Creating and Connecting to a Database\n",
    "\n",
    "1. Write a Python function to create a new SQLite3 database named `test.db`.\n",
    "2. Write a Python function to create a table named `employees` with columns `id` (integer), `name` (text), `age` (integer), and `department` (text) in the `test.db` database.\n"
   ]
  },
  {
   "cell_type": "markdown",
   "id": "40dcf8b7-2d0b-45b5-b577-9c065d266d85",
   "metadata": {},
   "source": [
    "\n",
    "### Assignment 2: Inserting Data\n",
    "\n",
    "1. Write a Python function to insert a new employee into the `employees` table.\n",
    "2. Insert at least 5 different employees into the `employees` table.\n"
   ]
  },
  {
   "cell_type": "markdown",
   "id": "5c231f48-c9cd-4024-9287-876cb7406a7c",
   "metadata": {},
   "source": [
    "### Assignment 3: Querying Data\n",
    "\n",
    "1. Write a Python function to fetch and display all records from the `employees` table.\n",
    "2. Write a Python function to fetch and display all employees from a specific department.\n"
   ]
  },
  {
   "cell_type": "markdown",
   "id": "687bbcad-116f-42c7-971f-65f88d82bce5",
   "metadata": {},
   "source": [
    "\n",
    "### Assignment 4: Updating Data\n",
    "\n",
    "1. Write a Python function to update the department of an employee based on their `id`.\n",
    "2. Update the department of at least 2 employees and display the updated records.\n"
   ]
  },
  {
   "cell_type": "markdown",
   "id": "5d6045a8-5d2e-4c4b-ac21-cb35b1bd308a",
   "metadata": {},
   "source": [
    "\n",
    "### Assignment 5: Deleting Data\n",
    "\n",
    "1. Write a Python function to delete an employee from the `employees` table based on their `id`.\n",
    "2. Delete at least 1 employee and display the remaining records.\n"
   ]
  },
  {
   "cell_type": "markdown",
   "id": "d86908c9-71f4-47c0-8888-a7eb791e43f1",
   "metadata": {},
   "source": [
    "\n",
    "### Assignment 6: Advanced Queries\n",
    "\n",
    "1. Write a Python function to fetch and display employees older than a certain age.\n",
    "2. Write a Python function to fetch and display employees whose names start with a specific letter."
   ]
  },
  {
   "cell_type": "markdown",
   "id": "e5f711d5-a991-4f7c-89c6-4663e96ca2a9",
   "metadata": {},
   "source": [
    "\n",
    "### Assignment 7: Handling Transactions\n",
    "\n",
    "1. Write a Python function to insert multiple employees into the `employees` table in a single transaction. Ensure that if any insertion fails, none of the insertions are committed.\n",
    "2. Write a Python function to update the age of multiple employees in a single transaction. Ensure that if any update fails, none of the updates are committed.\n"
   ]
  },
  {
   "cell_type": "markdown",
   "id": "0bd088b2-beb5-479f-bbee-b16712d6524f",
   "metadata": {},
   "source": [
    "\n",
    "### Assignment 8: Creating Relationships\n",
    "\n",
    "1. Create a new table named `departments` with columns `id` (integer) and `name` (text).\n",
    "2. Modify the `employees` table to include a foreign key referencing the `id` column in the `departments` table.\n",
    "3. Write a Python function to insert data into both the `departments` and `employees` tables, ensuring referential integrity.\n"
   ]
  },
  {
   "cell_type": "markdown",
   "id": "acb0225c-c1d8-4b08-bd06-71218dafe8c0",
   "metadata": {},
   "source": [
    "\n",
    "### Assignment 9: Indexing and Optimization\n",
    "\n",
    "1. Create an index on the `name` column of the `employees` table.\n",
    "2. Write a Python function to fetch and display all employees whose names start with a specific letter. Compare the performance with and without the index.\n"
   ]
  },
  {
   "cell_type": "markdown",
   "id": "45ac0a8d-7662-486b-91b5-aadbd63a3a5a",
   "metadata": {},
   "source": [
    "\n",
    "### Assignment 10: Backing Up and Restoring Data\n",
    "\n",
    "1. Write a Python function to back up the `test.db` database to a file named `backup.db`.\n",
    "2. Write a Python function to restore the `test.db` database from the `backup.db` file."
   ]
  }
 ],
 "metadata": {
  "kernelspec": {
   "display_name": "Python 3 (ipykernel)",
   "language": "python",
   "name": "python3"
  },
  "language_info": {
   "codemirror_mode": {
    "name": "ipython",
    "version": 3
   },
   "file_extension": ".py",
   "mimetype": "text/x-python",
   "name": "python",
   "nbconvert_exporter": "python",
   "pygments_lexer": "ipython3",
   "version": "3.13.5"
  }
 },
 "nbformat": 4,
 "nbformat_minor": 5
}
