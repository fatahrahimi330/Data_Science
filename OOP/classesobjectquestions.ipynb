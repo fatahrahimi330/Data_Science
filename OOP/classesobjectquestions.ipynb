{
 "cells": [
  {
   "cell_type": "markdown",
   "id": "ec1f4b26",
   "metadata": {},
   "source": [
    "# Module: Classes and Objects Assignments\n",
    "## Lesson: Creating and Working with Classes and Objects"
   ]
  },
  {
   "cell_type": "markdown",
   "id": "7045a062-6ecb-4625-aef6-84b7556773a7",
   "metadata": {},
   "source": [
    "### Assignment 1: Basic Class and Object Creation\n",
    "\n",
    "Create a class named `Car` with attributes `make`, `model`, and `year`. Create an object of the class and print its attributes."
   ]
  },
  {
   "cell_type": "code",
   "execution_count": 9,
   "id": "5adc1137-8f6c-42a0-a787-79ef08d7d3a5",
   "metadata": {},
   "outputs": [
    {
     "name": "stdout",
     "output_type": "stream",
     "text": [
      "Tesla\n",
      "Model S\n",
      "2025\n"
     ]
    }
   ],
   "source": [
    "class Car:\n",
    "        make = \"Tesla\"\n",
    "        model = \"Model S\"\n",
    "        year = 2025\n",
    "      \n",
    "tesla = Car()\n",
    "print(tesla.make)\n",
    "print(tesla.model)\n",
    "print(tesla.year)"
   ]
  },
  {
   "cell_type": "markdown",
   "id": "0ba775a0-1e00-4eb6-ba19-f84145c4042b",
   "metadata": {},
   "source": [
    "\n",
    "### Assignment 2: Methods in Class\n",
    "\n",
    "Add a method named `start_engine` to the `Car` class that prints a message when the engine starts. Create an object of the class and call the method.\n"
   ]
  },
  {
   "cell_type": "code",
   "execution_count": 16,
   "id": "ebe4fce4-b0d8-4462-998e-c5ca210ab6f7",
   "metadata": {},
   "outputs": [
    {
     "name": "stdout",
     "output_type": "stream",
     "text": [
      "the engine has been started!\n"
     ]
    }
   ],
   "source": [
    "class Car:\n",
    "    make = \"Tesla\"\n",
    "    model = \"Model S\"\n",
    "    year = 2025\n",
    "\n",
    "    def start_engine(self):\n",
    "        print(\"the engine has been started!\")\n",
    "        \n",
    "tesla = Car()\n",
    "tesla.start_engine()"
   ]
  },
  {
   "cell_type": "markdown",
   "id": "fd197008-0f85-4b37-aff2-644750c99b06",
   "metadata": {},
   "source": [
    "\n",
    "### Assignment 3: Class with Constructor\n",
    "\n",
    "Create a class named `Student` with attributes `name` and `age`. Use a constructor to initialize these attributes. Create an object of the class and print its attributes.\n"
   ]
  },
  {
   "cell_type": "code",
   "execution_count": 8,
   "id": "72b5db20-c4a4-4358-bd61-c72286d4ba61",
   "metadata": {},
   "outputs": [
    {
     "name": "stdout",
     "output_type": "stream",
     "text": [
      "Abdul\n",
      "21\n"
     ]
    }
   ],
   "source": [
    "class Student:\n",
    "    def __init__(self, name, age):\n",
    "        self.name = name\n",
    "        self.age = age\n",
    "\n",
    "student = Student(\"Abdul\", \"21\")\n",
    "print(student.name)\n",
    "print(student.age)"
   ]
  },
  {
   "cell_type": "markdown",
   "id": "4bcbee8f-93a9-4846-8dd2-3ad940ec0dbf",
   "metadata": {},
   "source": [
    "\n",
    "### Assignment 4: Class with Private Attributes\n",
    "\n",
    "Create a class named `BankAccount` with private attributes `account_number` and `balance`. Add methods to deposit and withdraw money, and to check the balance. Create an object of the class and perform some operations.\n"
   ]
  },
  {
   "cell_type": "code",
   "execution_count": 24,
   "id": "a186cb53-f157-477c-9a87-518c4257caee",
   "metadata": {},
   "outputs": [
    {
     "name": "stdout",
     "output_type": "stream",
     "text": [
      "200\n",
      "300\n",
      "400\n"
     ]
    }
   ],
   "source": [
    "class BankAccount:\n",
    "    def __init__(self, account_number, balance):\n",
    "        self.account_number = account_number\n",
    "        self.balance = balance\n",
    "\n",
    "    def deposit(self, amount):\n",
    "        self.balance += amount\n",
    "        return amount\n",
    "\n",
    "    def withdraw(self, amount):\n",
    "        if amount<= self.balance:\n",
    "            self.balance -= amount\n",
    "            return amount\n",
    "        else:\n",
    "            return None\n",
    "\n",
    "    def total_balance(self):\n",
    "        return self.balance\n",
    "\n",
    "account = BankAccount(20251007, 500)\n",
    "print(account.deposit(200))\n",
    "print(account.withdraw(300))\n",
    "print(account.total_balance())"
   ]
  },
  {
   "cell_type": "markdown",
   "id": "4c2038e7-08b5-4626-ad1b-277106bdaa1a",
   "metadata": {},
   "source": [
    "\n",
    "### Assignment 5: Class Inheritance\n",
    "\n",
    "Create a base class named `Person` with attributes `name` and `age`. Create a derived class named `Employee` that inherits from `Person` and adds an attribute `employee_id`. Create an object of the derived class and print its attributes.\n"
   ]
  },
  {
   "cell_type": "code",
   "execution_count": 28,
   "id": "f7acacb0-cd84-45c3-8aa9-7f158b5257e7",
   "metadata": {},
   "outputs": [
    {
     "name": "stdout",
     "output_type": "stream",
     "text": [
      "Abdul\n",
      "21\n",
      "2024123\n"
     ]
    }
   ],
   "source": [
    "class Person:\n",
    "    def __init__(self, name, age):\n",
    "        self.name = name\n",
    "        self.age = age\n",
    "class Employee(Person):\n",
    "    def __init__(self, name, age , employee_id):\n",
    "        super().__init__(name, age)\n",
    "        self.employee_id = employee_id\n",
    "\n",
    "employee = Employee('Abdul', 21, 2024123)\n",
    "print(employee.name)\n",
    "print(employee.age)\n",
    "print(employee.employee_id)"
   ]
  },
  {
   "cell_type": "markdown",
   "id": "7d71a6b9-2d44-4691-9147-d1988c7e1c92",
   "metadata": {},
   "source": [
    "\n",
    "### Assignment 6: Method Overriding\n",
    "\n",
    "In the `Employee` class, override the `__str__` method to return a string representation of the object. Create an object of the class and print it.\n"
   ]
  },
  {
   "cell_type": "code",
   "execution_count": 29,
   "id": "3c909327-8d84-4920-add6-f2cdcf918fc6",
   "metadata": {},
   "outputs": [
    {
     "name": "stdout",
     "output_type": "stream",
     "text": [
      "This is Employee calss\n"
     ]
    }
   ],
   "source": [
    "class Person:\n",
    "    def __init__(self, name, age):\n",
    "        self.name = name\n",
    "        self.age = age\n",
    "class Employee(Person):\n",
    "    def __init__(self, name, age , employee_id):\n",
    "        super().__init__(name, age)\n",
    "        self.employee_id = employee_id\n",
    "        \n",
    "    def __str__(self):\n",
    "        return \"This is Employee calss\"\n",
    "\n",
    "employee = Employee('Abdul', 21, 2024123)\n",
    "print(employee.__str__())"
   ]
  },
  {
   "cell_type": "markdown",
   "id": "b55d0c07-f8a5-482d-84d7-c864c6294e0c",
   "metadata": {},
   "source": [
    "\n",
    "### Assignment 7: Class Composition\n",
    "\n",
    "Create a class named `Address` with attributes `street`, `city`, and `zipcode`. Create a class named `Person` that has an `Address` object as an attribute. Create an object of the `Person` class and print its address.\n"
   ]
  },
  {
   "cell_type": "code",
   "execution_count": 33,
   "id": "d248f5d2-5b05-45cc-98a0-5990c4ba5c73",
   "metadata": {},
   "outputs": [
    {
     "name": "stdout",
     "output_type": "stream",
     "text": [
      "Kabunbay Batur\n",
      "Astana\n",
      "01000\n"
     ]
    }
   ],
   "source": [
    "class Address:\n",
    "    def __init__(self, street, city, zipcode):\n",
    "        self.street = street\n",
    "        self.city = city\n",
    "        self.zipcode = zipcode\n",
    "\n",
    "class Person:\n",
    "    def __init__(self, street, city, zipcode):\n",
    "        self.address = Address(street, city, zipcode)\n",
    "\n",
    "person = Person('Kabunbay Batur', 'Astana', '01000')\n",
    "\n",
    "print(person.address.street)\n",
    "print(person.address.city)\n",
    "print(person.address.zipcode)\n"
   ]
  },
  {
   "cell_type": "markdown",
   "id": "d88aaa27-70ef-421a-a7e6-37834f547093",
   "metadata": {},
   "source": [
    "\n",
    "### Assignment 8: Class with Class Variables\n",
    "\n",
    "Create a class named `Counter` with a class variable `count`. Each time an object is created, increment the count. Add a method to get the current count. Create multiple objects and print the count.\n"
   ]
  },
  {
   "cell_type": "code",
   "execution_count": 37,
   "id": "4255ff41-7562-4caf-8a0a-a95c9f8fd187",
   "metadata": {},
   "outputs": [
    {
     "name": "stdout",
     "output_type": "stream",
     "text": [
      "Current count: 3\n"
     ]
    }
   ],
   "source": [
    "class Counter:\n",
    "    count = 0\n",
    "\n",
    "    def __init__(self):\n",
    "        Counter.count += 1\n",
    "\n",
    "    @classmethod\n",
    "    def get_count(cls):\n",
    "        return cls.count\n",
    "\n",
    "obj1 = Counter()\n",
    "obj2 = Counter()\n",
    "obj3 = Counter()\n",
    "\n",
    "print(\"Current count:\", Counter.get_count())\n"
   ]
  },
  {
   "cell_type": "markdown",
   "id": "bf074beb-23c5-4b1e-911e-064adff9486b",
   "metadata": {},
   "source": [
    "\n",
    "\n",
    "### Assignment 9: Static Methods\n",
    "\n",
    "Create a class named `MathOperations` with a static method to calculate the square root of a number. Call the static method without creating an object.\n"
   ]
  },
  {
   "cell_type": "code",
   "execution_count": 43,
   "id": "1596eaf9-cc6d-4f91-bd58-46de6c52cf92",
   "metadata": {},
   "outputs": [
    {
     "name": "stdout",
     "output_type": "stream",
     "text": [
      "2.0\n"
     ]
    }
   ],
   "source": [
    "import math\n",
    "class MathOperations:\n",
    "    @staticmethod\n",
    "    def sqroot(x):\n",
    "        return math.sqrt(x)\n",
    "        \n",
    "print(MathOperations.sqroot(4))"
   ]
  },
  {
   "cell_type": "markdown",
   "id": "874fbb6c-59d7-4387-adda-bb9770ffe31f",
   "metadata": {},
   "source": [
    "\n",
    "### Assignment 10: Class with Properties\n",
    "\n",
    "Create a class named `Rectangle` with private attributes `length` and `width`. Use properties to get and set these attributes. Create an object of the class and test the properties.\n"
   ]
  },
  {
   "cell_type": "code",
   "execution_count": 68,
   "id": "2d19abca-026b-4407-838e-85aad5f60812",
   "metadata": {},
   "outputs": [
    {
     "name": "stdout",
     "output_type": "stream",
     "text": [
      "10\n",
      "5\n",
      "15\n",
      "3\n"
     ]
    }
   ],
   "source": [
    "class Rectangle:\n",
    "    def __init__(self, length, width):\n",
    "        self.__length = length\n",
    "        self.__width = width\n",
    "        \n",
    "    @property\n",
    "    def length(self):\n",
    "        return self.__length\n",
    "\n",
    "    @length.setter\n",
    "    def length(self, length):\n",
    "        if length > 0:\n",
    "            self.__length =length\n",
    "        else:\n",
    "            print('zero and nigative are not valid!')\n",
    "        \n",
    "    @property\n",
    "    def width(self):\n",
    "        return self.__width\n",
    "                  \n",
    "    @width.setter\n",
    "    def width(self, width):\n",
    "        if width > 0:\n",
    "            self.__width =width\n",
    "        else:\n",
    "             print('zero and nigative are not valid!')\n",
    "\n",
    "rectangle = Rectangle(10, 5)\n",
    "print(rectangle.length)\n",
    "print(rectangle.width)\n",
    "\n",
    "rectangle.length = 15\n",
    "rectangle.width = 3 \n",
    "\n",
    "print(rectangle.length)\n",
    "print(rectangle.width)"
   ]
  },
  {
   "cell_type": "markdown",
   "id": "39aa873e-d996-4fcc-9f2e-f6b8645a5e40",
   "metadata": {},
   "source": [
    "\n",
    "### Assignment 11: Abstract Base Class\n",
    "\n",
    "Create an abstract base class named `Shape` with an abstract method `area`. Create derived classes `Circle` and `Square` that implement the `area` method. Create objects of the derived classes and call the `area` method.\n"
   ]
  },
  {
   "cell_type": "code",
   "execution_count": 71,
   "id": "e2a83fd0-faa1-4020-83fb-49f089dd8b4a",
   "metadata": {},
   "outputs": [
    {
     "name": "stdout",
     "output_type": "stream",
     "text": [
      "78.53975\n",
      "16\n"
     ]
    }
   ],
   "source": [
    "from abc import ABC, abstractmethod\n",
    "\n",
    "class Shape(ABC):\n",
    "    @abstractmethod\n",
    "    def area(self):\n",
    "        pass\n",
    "\n",
    "class Circle(Shape):\n",
    "    def __init__(self, radius):\n",
    "        self.radius = radius\n",
    "\n",
    "    def area(self):\n",
    "        return 3.14159 * self.radius ** 2\n",
    "\n",
    "class Square(Shape):\n",
    "    def __init__(self, side):\n",
    "        self.side = side\n",
    "\n",
    "    def area(self):\n",
    "        return self.side ** 2\n",
    "\n",
    "circle = Circle(5)\n",
    "square = Square(4)\n",
    "\n",
    "print(circle.area())\n",
    "print(square.area())\n"
   ]
  },
  {
   "cell_type": "markdown",
   "id": "9bba489a-7f42-4eef-8fe6-b6a72cab26d6",
   "metadata": {},
   "source": [
    "\n",
    "### Assignment 12: Operator Overloading\n",
    "\n",
    "Create a class named `Vector` with attributes `x` and `y`. Overload the `+` operator to add two `Vector` objects. Create objects of the class and test the operator overloading.\n"
   ]
  },
  {
   "cell_type": "code",
   "execution_count": null,
   "id": "f2f723c4-d54f-40c4-b8ae-878355ccb391",
   "metadata": {},
   "outputs": [],
   "source": []
  },
  {
   "cell_type": "markdown",
   "id": "3088bce3-7de5-41ad-b4ab-ff374b1a319f",
   "metadata": {},
   "source": [
    "\n",
    "### Assignment 13: Class with Custom Exception\n",
    "\n",
    "Create a custom exception named `InsufficientBalanceError`. In the `BankAccount` class, raise this exception when a withdrawal amount is greater than the balance. Handle the exception and print an appropriate message.\n"
   ]
  },
  {
   "cell_type": "code",
   "execution_count": 82,
   "id": "bbbac51f-3d6f-4c07-b316-ab38a8e36091",
   "metadata": {},
   "outputs": [],
   "source": [
    "class InsufficientBalanceError(Exception):\n",
    "    def __init__(self, message=\"Insufficient balance in your account\"):\n",
    "        self.message = message\n",
    "        super().__init__(self.message)\n"
   ]
  },
  {
   "cell_type": "code",
   "execution_count": 83,
   "id": "341f8cdb-253e-43d2-ae06-f089a2375a26",
   "metadata": {},
   "outputs": [
    {
     "name": "stdout",
     "output_type": "stream",
     "text": [
      "Error: You tried to withdraw more than your balance!\n"
     ]
    }
   ],
   "source": [
    "class BankAccount:\n",
    "    def __init__(self, account_number, balance):\n",
    "        self.account_number = account_number\n",
    "        self.balance = balance\n",
    "\n",
    "    def deposit(self, amount):\n",
    "        self.balance += amount\n",
    "        print(f\"Deposit successful! Your balance: {self.balance}\")\n",
    "\n",
    "    def withdraw(self, amount):\n",
    "        if amount<= self.balance:\n",
    "            self.balance -= amount\n",
    "            print(f\"Withdrawal successful! Remaining balance: {self.balance}\")\n",
    "        else:\n",
    "            raise InsufficientBalanceError(\"You tried to withdraw more than your balance!\")\n",
    "\n",
    "    def total_balance(self):\n",
    "        print(f\"your is balance: {self.balance}\")\n",
    "\n",
    "try:\n",
    "    account = BankAccount(1000, 500)\n",
    "    account.withdraw(1500)\n",
    "except InsufficientBalanceError as e:\n",
    "    print(\"Error:\", e)"
   ]
  },
  {
   "cell_type": "markdown",
   "id": "924fa921-1849-4fa0-adcc-d666accc3fd0",
   "metadata": {},
   "source": [
    "\n",
    "### Assignment 14: Class with Context Manager\n",
    "\n",
    "Create a class named `FileManager` that implements the context manager protocol to open and close a file. Use this class to read the contents of a file.\n"
   ]
  },
  {
   "cell_type": "code",
   "execution_count": 90,
   "id": "4f70aae2-1b19-4f4a-aec8-bc415e33e2e3",
   "metadata": {},
   "outputs": [],
   "source": [
    "class FileManager:\n",
    "    def __init__(self, filename, mode):\n",
    "        self.filename = filename\n",
    "        self.mode = mode\n",
    "        self.file = None\n",
    "\n",
    "    def __enter__(self):\n",
    "        print(\"Opening file...\")\n",
    "        self.file = open(self.filename, self.mode)\n",
    "        return self.file \n",
    "\n",
    "    def __exit__(self, exc_type, exc_value, traceback):\n",
    "        print(\"Closing file...\")\n",
    "        if self.file:\n",
    "            self.file.close()\n",
    "\n",
    "\n",
    "with FileManager('example.txt', 'r') as f:\n",
    "    contents = f.read()\n",
    "    print(contents)\n"
   ]
  },
  {
   "cell_type": "markdown",
   "id": "d00023ae-47e6-41d1-8816-03ba061c209c",
   "metadata": {},
   "source": [
    "\n",
    "### Assignment 15: Chaining Methods\n",
    "\n",
    "Create a class named `Calculator` with methods to add, subtract, multiply, and divide. Each method should return the object itself to allow method chaining. Create an object and chain multiple method calls."
   ]
  },
  {
   "cell_type": "code",
   "execution_count": 91,
   "id": "0bfa4826-2bb8-4bf5-963a-be84df3c5124",
   "metadata": {},
   "outputs": [
    {
     "name": "stdout",
     "output_type": "stream",
     "text": [
      "Final result: 5.0\n"
     ]
    }
   ],
   "source": [
    "class Calculator:\n",
    "    def __init__(self, value=0):\n",
    "        self.value = value\n",
    "\n",
    "    def add(self, number):\n",
    "        self.value += number\n",
    "        return self   # return the object itself\n",
    "\n",
    "    def subtract(self, number):\n",
    "        self.value -= number\n",
    "        return self\n",
    "\n",
    "    def multiply(self, number):\n",
    "        self.value *= number\n",
    "        return self\n",
    "\n",
    "    def divide(self, number):\n",
    "        if number != 0:\n",
    "            self.value /= number\n",
    "        else:\n",
    "            print(\"Error: Cannot divide by zero!\")\n",
    "        return self\n",
    "\n",
    "    def result(self):\n",
    "        return self.value\n",
    "\n",
    "calc = Calculator()\n",
    "\n",
    "# Chaining multiple method calls\n",
    "result = calc.add(10).subtract(3).multiply(5).divide(7).result()\n",
    "\n",
    "print(\"Final result:\", result)\n"
   ]
  }
 ],
 "metadata": {
  "kernelspec": {
   "display_name": "Python 3 (ipykernel)",
   "language": "python",
   "name": "python3"
  },
  "language_info": {
   "codemirror_mode": {
    "name": "ipython",
    "version": 3
   },
   "file_extension": ".py",
   "mimetype": "text/x-python",
   "name": "python",
   "nbconvert_exporter": "python",
   "pygments_lexer": "ipython3",
   "version": "3.13.5"
  }
 },
 "nbformat": 4,
 "nbformat_minor": 5
}
