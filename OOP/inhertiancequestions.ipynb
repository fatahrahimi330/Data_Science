{
 "cells": [
  {
   "cell_type": "markdown",
   "id": "accee8e4",
   "metadata": {},
   "source": [
    "# Module: Inheritance Assignments\n",
    "## Lesson: Single and Multiple Inheritance"
   ]
  },
  {
   "cell_type": "markdown",
   "id": "cfb26bbe-1f10-4909-b67b-2dbc8f93e039",
   "metadata": {},
   "source": [
    "### Assignment 1: Single Inheritance Basic\n",
    "\n",
    "Create a base class named `Animal` with attributes `name` and `species`. Create a derived class named `Dog` that inherits from `Animal` and adds an attribute `breed`. Create an object of the `Dog` class and print its attributes.\n"
   ]
  },
  {
   "cell_type": "code",
   "execution_count": 2,
   "id": "59f2cc01-3f73-449f-a153-65c022b3d497",
   "metadata": {},
   "outputs": [
    {
     "name": "stdout",
     "output_type": "stream",
     "text": [
      "Buddy\n",
      "Canine\n",
      "Golden Retriever\n"
     ]
    }
   ],
   "source": [
    "class Animal:\n",
    "    def __init__(self, name, species):\n",
    "        self.name = name\n",
    "        self.species = species\n",
    "\n",
    "class Dog(Animal):\n",
    "    def __init__(self,name, species, breed):\n",
    "        super().__init__(name, species)\n",
    "        self.breed = breed\n",
    "\n",
    "dog = Dog('Buddy', 'Canine', 'Golden Retriever')\n",
    "print(dog.name)\n",
    "print(dog.species)\n",
    "print(dog.breed)"
   ]
  },
  {
   "cell_type": "markdown",
   "id": "c9bf109c-0ee5-430e-bb21-f7b8febc1337",
   "metadata": {},
   "source": [
    "\n",
    "### Assignment 2: Method Overriding in Single Inheritance\n",
    "\n",
    "In the `Dog` class, override the `__str__` method to return a string representation of the object. Create an object of the class and print it.\n"
   ]
  },
  {
   "cell_type": "code",
   "execution_count": 3,
   "id": "f3ed1496-41a1-4d3c-9679-2cc8d118cbc3",
   "metadata": {},
   "outputs": [
    {
     "name": "stdout",
     "output_type": "stream",
     "text": [
      "The dog name is Buddy.\n"
     ]
    }
   ],
   "source": [
    "class Dog(Animal):\n",
    "    def __init__(self,name, species, breed):\n",
    "        super().__init__(name, species)\n",
    "        self.breed = breed\n",
    "\n",
    "    def __str__(self):\n",
    "        print(f'The dog name is {self.name}.')\n",
    "\n",
    "dog = Dog('Buddy', 'Canine', 'Golden Retriever')\n",
    "dog.__str__()"
   ]
  },
  {
   "cell_type": "markdown",
   "id": "681c5b7a-b895-4e87-9312-6a2e40553254",
   "metadata": {},
   "source": [
    "\n",
    "### Assignment 3: Single Inheritance with Additional Methods\n",
    "\n",
    "In the `Dog` class, add a method named `bark` that prints a barking sound. Create an object of the class and call the method.\n"
   ]
  },
  {
   "cell_type": "code",
   "execution_count": 4,
   "id": "c5e70066-69de-4576-9acc-4576efe443d0",
   "metadata": {},
   "outputs": [
    {
     "name": "stdout",
     "output_type": "stream",
     "text": [
      "Buddy is barking!\n"
     ]
    }
   ],
   "source": [
    "class Dog(Animal):\n",
    "    def __init__(self,name, species, breed):\n",
    "        super().__init__(name, species)\n",
    "        self.breed = breed\n",
    "\n",
    "    def __str__(self):\n",
    "        print(f'The dog name is {self.name}.')\n",
    "\n",
    "    def bark(self):\n",
    "        print(f'{self.name} is barking!')\n",
    "\n",
    "dog = Dog('Buddy', 'Canine', 'Golden Retriever')\n",
    "dog.bark()"
   ]
  },
  {
   "cell_type": "markdown",
   "id": "f93a9758-900f-431a-8c50-ffc74f8fc52a",
   "metadata": {},
   "source": [
    "\n",
    "### Assignment 4: Multiple Inheritance Basic\n",
    "\n",
    "Create a base class named `Walker` with a method `walk` that prints a walking message. Create another base class named `Runner` with a method `run` that prints a running message. Create a derived class named `Athlete` that inherits from both `Walker` and `Runner`. Create an object of the `Athlete` class and call both methods.\n"
   ]
  },
  {
   "cell_type": "code",
   "execution_count": 11,
   "id": "102d49cf-8de9-4d92-ac39-1e827ba7000a",
   "metadata": {},
   "outputs": [
    {
     "name": "stdout",
     "output_type": "stream",
     "text": [
      "running!\n",
      "walking!\n"
     ]
    }
   ],
   "source": [
    "class Walker:\n",
    "    def walk(self):\n",
    "        print('walking!')\n",
    "\n",
    "class Runner:\n",
    "    def run(self):\n",
    "        print('running!')\n",
    "\n",
    "class Athlete(Walker, Runner):\n",
    "   pass\n",
    "    \n",
    "athlete = Athlete()\n",
    "athlete.run()\n",
    "athlete.walk()"
   ]
  },
  {
   "cell_type": "markdown",
   "id": "447b60a6-0e7d-4f9f-b708-10e84685c69e",
   "metadata": {},
   "source": [
    "\n",
    "### Assignment 5: Method Resolution Order (MRO) in Multiple Inheritance\n",
    "\n",
    "In the `Athlete` class, override the `walk` method to print a different message. Create an object of the class and call the `walk` method. Use the `super()` function to call the `walk` method of the `Walker` class.\n"
   ]
  },
  {
   "cell_type": "code",
   "execution_count": 17,
   "id": "7bf65e4e-e02e-4629-a544-5336eb1e98cd",
   "metadata": {},
   "outputs": [
    {
     "name": "stdout",
     "output_type": "stream",
     "text": [
      "running!\n",
      "walking from Athlete class!\n",
      "walking from Walker Class!\n"
     ]
    }
   ],
   "source": [
    "class Walker:\n",
    "    def walk(self):\n",
    "        print('walking from Walker Class!')\n",
    "\n",
    "class Runner:\n",
    "    def run(self):\n",
    "        print('running!')\n",
    "\n",
    "class Athlete(Walker, Runner):\n",
    "   def walk(self):\n",
    "       print('walking from Athlete class!')\n",
    "       \n",
    "       super().walk()\n",
    "       \n",
    "    \n",
    "athlete = Athlete()\n",
    "athlete.run()\n",
    "athlete.walk()"
   ]
  },
  {
   "cell_type": "markdown",
   "id": "e72cf444-b27d-40ca-b9a7-0df9090661fc",
   "metadata": {},
   "source": [
    "\n",
    "### Assignment 6: Multiple Inheritance with Additional Attributes\n",
    "\n",
    "In the `Athlete` class, add an attribute `training_hours` and a method `train` that prints the training hours. Create an object of the class and call the method.\n"
   ]
  },
  {
   "cell_type": "code",
   "execution_count": 27,
   "id": "153621b3-ed14-4132-ab0f-b2a09835d693",
   "metadata": {},
   "outputs": [
    {
     "name": "stdout",
     "output_type": "stream",
     "text": [
      "The athlete trains for 17 hours a day.\n"
     ]
    }
   ],
   "source": [
    "class Walker:\n",
    "    def walk(self):\n",
    "        print('walking!')\n",
    "\n",
    "class Runner:\n",
    "    def run(self):\n",
    "        print('running!')\n",
    "\n",
    "class Athlete(Walker, Runner):\n",
    "    \n",
    "    def __init__(self, training_hours):\n",
    "        self.training_hours = training_hours\n",
    "        \n",
    "    def train(self):\n",
    "       print(f\"The athlete trains for {self.training_hours} hours a day.\")\n",
    "       \n",
    "    \n",
    "athlete = Athlete(17)\n",
    "athlete.train()"
   ]
  },
  {
   "cell_type": "markdown",
   "id": "36c2541e-39e9-42e6-b84b-7916a889b0fd",
   "metadata": {},
   "source": [
    "\n",
    "### Assignment 9: Using `super()` in Multiple Inheritance\n",
    "\n",
    "Create a class named `Person` with an attribute `name`. Create a class named `Employee` with an attribute `employee_id`. Create a derived class `Manager` that inherits from both `Person` and `Employee`. Use the `super()` function to initialize the attributes. Create an object of the `Manager` class and print its attributes.\n"
   ]
  },
  {
   "cell_type": "code",
   "execution_count": 45,
   "id": "b2a91483-32d9-41ad-804d-888eb6cfea2b",
   "metadata": {},
   "outputs": [
    {
     "name": "stdout",
     "output_type": "stream",
     "text": [
      "Ab\n",
      "2024\n"
     ]
    }
   ],
   "source": [
    "class Person:\n",
    "    def __init__(self, name):\n",
    "        self.name = name\n",
    "\n",
    "class Employee:\n",
    "    def __init__(self, employee_id):\n",
    "        self.employee_id = employee_id\n",
    "\n",
    "class Manager(Person, Employee):\n",
    "    def __init__(self, name, employee_id):\n",
    "        Person.__init__(self, name)\n",
    "        Employee.__init__(self, employee_id)\n",
    "\n",
    "manager = Manager('Ab', 2024)\n",
    "\n",
    "print(manager.name)       \n",
    "print(manager.employee_id)\n"
   ]
  },
  {
   "cell_type": "markdown",
   "id": "d969e905-95fb-4607-b8d0-b8b9f0a31751",
   "metadata": {},
   "source": [
    "\n",
    "### Assignment 7: Diamond Problem in Multiple Inheritance\n",
    "\n",
    "Create a class named `A` with a method `show` that prints a message. Create two derived classes `B` and `C` that inherit from `A` and override the `show` method. Create a class `D` that inherits from both `B` and `C`. Create an object of the `D` class and call the `show` method. Observe the method resolution order.\n"
   ]
  },
  {
   "cell_type": "code",
   "execution_count": 46,
   "id": "45c497f6-f6f4-4023-8d10-901735e199ca",
   "metadata": {},
   "outputs": [
    {
     "name": "stdout",
     "output_type": "stream",
     "text": [
      "Message from class B\n",
      "[<class '__main__.D'>, <class '__main__.B'>, <class '__main__.C'>, <class '__main__.A'>, <class 'object'>]\n"
     ]
    }
   ],
   "source": [
    "class A:\n",
    "    def show(self):\n",
    "        print(\"Message from class A\")\n",
    "\n",
    "class B(A):\n",
    "    def show(self):\n",
    "        print(\"Message from class B\")\n",
    "\n",
    "class C(A):\n",
    "    def show(self):\n",
    "        print(\"Message from class C\")\n",
    "\n",
    "class D(B, C):\n",
    "    pass\n",
    "\n",
    "# Create an object of D\n",
    "d = D()\n",
    "\n",
    "# Call the show method\n",
    "d.show()\n",
    "\n",
    "# Check the Method Resolution Order (MRO)\n",
    "print(D.mro())\n"
   ]
  },
  {
   "cell_type": "markdown",
   "id": "6b305fac-ad95-4904-a77f-ffc96253da6f",
   "metadata": {},
   "source": [
    "\n",
    "### Assignment 8: Using `super()` in Single Inheritance\n",
    "\n",
    "Create a base class named `Shape` with an attribute `color`. Create a derived class named `Circle` that inherits from `Shape` and adds an attribute `radius`. Use the `super()` function to initialize the attributes. Create an object of the `Circle` class and print its attributes.\n"
   ]
  },
  {
   "cell_type": "code",
   "execution_count": 47,
   "id": "706e01ba-7380-4e58-b2b3-fdf853b1900e",
   "metadata": {},
   "outputs": [
    {
     "name": "stdout",
     "output_type": "stream",
     "text": [
      "Color: Red\n",
      "Radius: 5\n"
     ]
    }
   ],
   "source": [
    "class Shape:\n",
    "    def __init__(self, color):\n",
    "        self.color = color\n",
    "\n",
    "class Circle(Shape):\n",
    "    def __init__(self, color, radius):\n",
    "        super().__init__(color)  # Initialize color from Shape\n",
    "        self.radius = radius     # Initialize radius specific to Circle\n",
    "\n",
    "# Create an object of Circle\n",
    "circle = Circle('Red', 5)\n",
    "\n",
    "# Print the attributes\n",
    "print(f\"Color: {circle.color}\")\n",
    "print(f\"Radius: {circle.radius}\")\n"
   ]
  },
  {
   "cell_type": "markdown",
   "id": "bcd12b92-5390-441d-a517-4fce6fa2c0b1",
   "metadata": {},
   "source": [
    "\n",
    "### Assignment 10: Method Overriding and `super()`\n",
    "\n",
    "Create a class named `Vehicle` with a method `start` that prints a starting message. Create a derived class `Car` that overrides the `start` method to print a different message. Use the `super()` function to call the `start` method of the `Vehicle` class. Create an object of the `Car` class and call the `start` method.\n"
   ]
  },
  {
   "cell_type": "code",
   "execution_count": 48,
   "id": "804c1dbc-99d9-4ac0-a3c3-3971cab38e37",
   "metadata": {},
   "outputs": [
    {
     "name": "stdout",
     "output_type": "stream",
     "text": [
      "The car is starting with a roar!\n",
      "The vehicle is starting.\n"
     ]
    }
   ],
   "source": [
    "class Vehicle:\n",
    "    def start(self):\n",
    "        print(\"The vehicle is starting.\")\n",
    "\n",
    "class Car(Vehicle):\n",
    "    def start(self):\n",
    "        print(\"The car is starting with a roar!\")\n",
    "        # Call the start method of the Vehicle class\n",
    "        super().start()\n",
    "\n",
    "# Create an object of Car\n",
    "car = Car()\n",
    "\n",
    "# Call the start method\n",
    "car.start()\n"
   ]
  },
  {
   "cell_type": "markdown",
   "id": "5309b429-dd35-4873-89e9-e67d00bf1e4d",
   "metadata": {},
   "source": [
    "\n",
    "### Assignment 11: Multiple Inheritance with Different Methods\n",
    "\n",
    "Create a class named `Flyer` with a method `fly` that prints a flying message. Create a class named `Swimmer` with a method `swim` that prints a swimming message. Create a derived class `Superhero` that inherits from both `Flyer` and `Swimmer`. Create an object of the `Superhero` class and call both methods.\n"
   ]
  },
  {
   "cell_type": "code",
   "execution_count": 49,
   "id": "1b780e1e-1daa-4594-b55b-794ae9c144a8",
   "metadata": {},
   "outputs": [
    {
     "name": "stdout",
     "output_type": "stream",
     "text": [
      "The superhero is flying high in the sky!\n",
      "The superhero is swimming swiftly in the water!\n"
     ]
    }
   ],
   "source": [
    "class Flyer:\n",
    "    def fly(self):\n",
    "        print(\"The superhero is flying high in the sky!\")\n",
    "\n",
    "class Swimmer:\n",
    "    def swim(self):\n",
    "        print(\"The superhero is swimming swiftly in the water!\")\n",
    "\n",
    "class Superhero(Flyer, Swimmer):\n",
    "    pass\n",
    "\n",
    "# Create an object of Superhero\n",
    "hero = Superhero()\n",
    "\n",
    "# Call both methods\n",
    "hero.fly()\n",
    "hero.swim()\n"
   ]
  },
  {
   "cell_type": "markdown",
   "id": "f32f8f62-7928-4b9d-b7d1-7a7110887096",
   "metadata": {},
   "source": [
    "\n",
    "### Assignment 12: Complex Multiple Inheritance\n",
    "\n",
    "Create a class named `Base1` with an attribute `a`. Create a class named `Base2` with an attribute `b`. Create a class named `Derived` that inherits from both `Base1` and `Base2` and adds an attribute `c`. Initialize all attributes using the `super()` function. Create an object of the `Derived` class and print its attributes.\n"
   ]
  },
  {
   "cell_type": "code",
   "execution_count": 59,
   "id": "f46f5857-ce2a-498d-894b-9000b1cfb000",
   "metadata": {},
   "outputs": [
    {
     "name": "stdout",
     "output_type": "stream",
     "text": [
      "a: 10\n",
      "b: 20\n",
      "c: 30\n"
     ]
    }
   ],
   "source": [
    "class Base1:\n",
    "    def __init__(self, a, **kwargs):\n",
    "        self.a = a\n",
    "        super().__init__(**kwargs)\n",
    "\n",
    "class Base2:\n",
    "    def __init__(self, b, **kwargs):\n",
    "        self.b = b\n",
    "        super().__init__(**kwargs)\n",
    "\n",
    "class Derived(Base1, Base2):\n",
    "    def __init__(self, a, b, c):\n",
    "        super().__init__(a=a, b=b)  # Calls Base1, which will call Base2\n",
    "        self.c = c\n",
    "\n",
    "# Create an object of Derived\n",
    "obj = Derived(a=10, b=20, c=30)\n",
    "\n",
    "# Print the attributes\n",
    "print(f\"a: {obj.a}\")\n",
    "print(f\"b: {obj.b}\")\n",
    "print(f\"c: {obj.c}\")\n"
   ]
  },
  {
   "cell_type": "markdown",
   "id": "2abad869-b118-40a4-b4ca-329d52594b28",
   "metadata": {},
   "source": [
    "\n",
    "### Assignment 13: Checking Instance Types with Inheritance\n",
    "\n",
    "Create a base class named `Animal` and a derived class named `Cat`. Create objects of both classes and use the `isinstance` function to check the instance types.\n"
   ]
  },
  {
   "cell_type": "code",
   "execution_count": 60,
   "id": "67243178-57ef-4a17-a4c6-af378cb1d35a",
   "metadata": {},
   "outputs": [
    {
     "name": "stdout",
     "output_type": "stream",
     "text": [
      "True\n",
      "False\n",
      "True\n",
      "True\n"
     ]
    }
   ],
   "source": [
    "class Animal:\n",
    "    def __init__(self, name):\n",
    "        self.name = name\n",
    "\n",
    "class Cat(Animal):\n",
    "    def __init__(self, name, breed):\n",
    "        super().__init__(name)\n",
    "        self.breed = breed\n",
    "\n",
    "# Create objects\n",
    "animal = Animal(\"Generic Animal\")\n",
    "cat = Cat(\"Whiskers\", \"Siamese\")\n",
    "\n",
    "# Use isinstance to check instance types\n",
    "print(isinstance(animal, Animal))  # True\n",
    "print(isinstance(animal, Cat))     # False\n",
    "\n",
    "print(isinstance(cat, Cat))        # True\n",
    "print(isinstance(cat, Animal))     # True, because Cat is derived from Animal\n"
   ]
  },
  {
   "cell_type": "markdown",
   "id": "6f78a7f4-ba12-40c0-ad3e-725ca0401c88",
   "metadata": {},
   "source": [
    "\n",
    "### Assignment 14: Polymorphism with Inheritance\n",
    "\n",
    "Create a base class named `Bird` with a method `speak`. Create two derived classes `Parrot` and `Penguin` that override the `speak` method. Create a list of `Bird` objects and call the `speak` method on each object to demonstrate polymorphism.\n"
   ]
  },
  {
   "cell_type": "code",
   "execution_count": 61,
   "id": "a4fd0566-4b0c-42fe-95ee-225e1fa4d5cd",
   "metadata": {},
   "outputs": [
    {
     "name": "stdout",
     "output_type": "stream",
     "text": [
      "Some generic bird sound\n",
      "Parrot says: Hello!\n",
      "Penguin says: Squawk!\n"
     ]
    }
   ],
   "source": [
    "class Bird:\n",
    "    def speak(self):\n",
    "        print(\"Some generic bird sound\")\n",
    "\n",
    "class Parrot(Bird):\n",
    "    def speak(self):\n",
    "        print(\"Parrot says: Hello!\")\n",
    "\n",
    "class Penguin(Bird):\n",
    "    def speak(self):\n",
    "        print(\"Penguin says: Squawk!\")\n",
    "\n",
    "# Create a list of Bird objects (base and derived)\n",
    "birds = [Bird(), Parrot(), Penguin()]\n",
    "\n",
    "# Call speak method on each object\n",
    "for bird in birds:\n",
    "    bird.speak()\n"
   ]
  },
  {
   "cell_type": "markdown",
   "id": "23594c4f-39dd-40be-b280-a91a6a256da5",
   "metadata": {},
   "source": [
    "\n",
    "### Assignment 15: Combining Single and Multiple Inheritance\n",
    "\n",
    "Create a base class named `Device` with an attribute `brand`. Create a derived class `Phone` that inherits from `Device` and adds an attribute `model`. Create another base class `Camera` with an attribute `resolution`. Create a derived class `Smartphone` that inherits from both `Phone` and `Camera`. Create an object of the `Smartphone` class and print its attributes."
   ]
  },
  {
   "cell_type": "code",
   "execution_count": 65,
   "id": "c32463df-d6f0-4804-abed-e03637c4a3a8",
   "metadata": {},
   "outputs": [
    {
     "name": "stdout",
     "output_type": "stream",
     "text": [
      "Brand: Apple\n",
      "Model: iPhone 15\n",
      "Camera Resolution: 48MP\n"
     ]
    }
   ],
   "source": [
    "class Device:\n",
    "    def __init__(self, brand):\n",
    "        self.brand = brand\n",
    "    \n",
    "class Phone(Device):\n",
    "    def __init__(self, brand,  model):\n",
    "        super().__init__(brand)\n",
    "        self.model = model\n",
    "        \n",
    "\n",
    "class Camera:\n",
    "    def __init__(self, resolution):\n",
    "        self.resolution = resolution\n",
    "\n",
    "class Smartphone(Phone, Camera):\n",
    "    def __init__(self, brand, model, resolution):\n",
    "        Phone.__init__(self, brand, model)\n",
    "        Camera.__init__(self, resolution)\n",
    "\n",
    "\n",
    "smartphone = Smartphone(\"Apple\", \"iPhone 15\",\"48MP\")\n",
    "\n",
    "# Print attributes\n",
    "print(f\"Brand: {smartphone.brand}\")\n",
    "print(f\"Model: {smartphone.model}\")\n",
    "print(f\"Camera Resolution: {smartphone.resolution}\")\n"
   ]
  }
 ],
 "metadata": {
  "kernelspec": {
   "display_name": "Python 3 (ipykernel)",
   "language": "python",
   "name": "python3"
  },
  "language_info": {
   "codemirror_mode": {
    "name": "ipython",
    "version": 3
   },
   "file_extension": ".py",
   "mimetype": "text/x-python",
   "name": "python",
   "nbconvert_exporter": "python",
   "pygments_lexer": "ipython3",
   "version": "3.13.5"
  }
 },
 "nbformat": 4,
 "nbformat_minor": 5
}
