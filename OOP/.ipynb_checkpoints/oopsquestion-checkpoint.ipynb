{
 "cells": [
  {
   "cell_type": "markdown",
   "id": "4c4835f0",
   "metadata": {},
   "source": [
    "# Module: OOP Assignments\n",
    "## Lesson: Polymorphism, Abstraction, and Encapsulation"
   ]
  },
  {
   "cell_type": "markdown",
   "id": "eb34e659-5090-485b-bd5e-8afb33182e42",
   "metadata": {},
   "source": [
    "### Assignment 1: Polymorphism with Methods\n",
    "\n",
    "Create a base class named `Shape` with a method `area`. Create two derived classes `Circle` and `Square` that override the `area` method. Create a list of `Shape` objects and call the `area` method on each object to demonstrate polymorphism.\n"
   ]
  },
  {
   "cell_type": "code",
   "execution_count": 1,
   "id": "85cbe3d9-9dcb-443e-90dc-180554ecb2db",
   "metadata": {},
   "outputs": [
    {
     "name": "stdout",
     "output_type": "stream",
     "text": [
      "Area of the circle: 78.54\n",
      "Area of the square: 16\n",
      "Calculating area of a generic shape\n"
     ]
    }
   ],
   "source": [
    "import math\n",
    "\n",
    "class Shape:\n",
    "    def area(self):\n",
    "        print(\"Calculating area of a generic shape\")\n",
    "\n",
    "class Circle(Shape):\n",
    "    def __init__(self, radius):\n",
    "        self.radius = radius\n",
    "\n",
    "    def area(self):\n",
    "        print(f\"Area of the circle: {math.pi * self.radius ** 2:.2f}\")\n",
    "\n",
    "class Square(Shape):\n",
    "    def __init__(self, side):\n",
    "        self.side = side\n",
    "\n",
    "    def area(self):\n",
    "        print(f\"Area of the square: {self.side ** 2}\")\n",
    "\n",
    "# Create a list of Shape objects\n",
    "shapes = [Circle(5), Square(4), Shape()]\n",
    "\n",
    "# Call the area method on each object\n",
    "for shape in shapes:\n",
    "    shape.area()\n"
   ]
  },
  {
   "cell_type": "markdown",
   "id": "bfffce46-cb15-4de8-b9a9-35c9d6011e88",
   "metadata": {},
   "source": [
    "\n",
    "### Assignment 2: Polymorphism with Function Arguments\n",
    "\n",
    "Create a function named `describe_shape` that takes a `Shape` object as an argument and calls its `area` method. Create objects of `Circle` and `Square` classes and pass them to the `describe_shape` function.\n"
   ]
  },
  {
   "cell_type": "code",
   "execution_count": 2,
   "id": "d0ae7907-f28e-4f1e-8ba6-7e43d2c61cfe",
   "metadata": {},
   "outputs": [
    {
     "name": "stdout",
     "output_type": "stream",
     "text": [
      "Area of the circle: 78.54\n",
      "Area of the square: 16\n"
     ]
    }
   ],
   "source": [
    "import math\n",
    "\n",
    "class Shape:\n",
    "    def area(self):\n",
    "        print(\"Calculating area of a generic shape\")\n",
    "\n",
    "class Circle(Shape):\n",
    "    def __init__(self, radius):\n",
    "        self.radius = radius\n",
    "\n",
    "    def area(self):\n",
    "        print(f\"Area of the circle: {math.pi * self.radius ** 2:.2f}\")\n",
    "\n",
    "class Square(Shape):\n",
    "    def __init__(self, side):\n",
    "        self.side = side\n",
    "\n",
    "    def area(self):\n",
    "        print(f\"Area of the square: {self.side ** 2}\")\n",
    "\n",
    "# Function that accepts a Shape object\n",
    "def describe_shape(shape):\n",
    "    shape.area()  # Calls the correct area() depending on object type\n",
    "\n",
    "# Create objects\n",
    "circle = Circle(5)\n",
    "square = Square(4)\n",
    "\n",
    "# Pass objects to the function\n",
    "describe_shape(circle)\n",
    "describe_shape(square)\n"
   ]
  },
  {
   "cell_type": "markdown",
   "id": "409f7ccd-fc75-4374-9560-1ef04f515db0",
   "metadata": {},
   "source": [
    "\n",
    "### Assignment 3: Abstract Base Class with Abstract Methods\n",
    "\n",
    "Create an abstract base class named `Vehicle` with an abstract method `start_engine`. Create derived classes `Car` and `Bike` that implement the `start_engine` method. Create objects of the derived classes and call the `start_engine` method.\n"
   ]
  },
  {
   "cell_type": "code",
   "execution_count": 3,
   "id": "dea04d7a-fcbf-4be7-9239-977b5330fdb2",
   "metadata": {},
   "outputs": [
    {
     "name": "stdout",
     "output_type": "stream",
     "text": [
      "Car engine started with a key!\n",
      "Bike engine started with a button!\n"
     ]
    }
   ],
   "source": [
    "from abc import ABC, abstractmethod\n",
    "\n",
    "# Abstract base class\n",
    "class Vehicle(ABC):\n",
    "    @abstractmethod\n",
    "    def start_engine(self):\n",
    "        pass  # Must be implemented by derived classes\n",
    "\n",
    "# Derived class Car\n",
    "class Car(Vehicle):\n",
    "    def start_engine(self):\n",
    "        print(\"Car engine started with a key!\")\n",
    "\n",
    "# Derived class Bike\n",
    "class Bike(Vehicle):\n",
    "    def start_engine(self):\n",
    "        print(\"Bike engine started with a button!\")\n",
    "\n",
    "# Create objects\n",
    "car = Car()\n",
    "bike = Bike()\n",
    "\n",
    "# Call the start_engine method\n",
    "car.start_engine()\n",
    "bike.start_engine()\n"
   ]
  },
  {
   "cell_type": "markdown",
   "id": "118bc502-d949-42b7-99c5-a2dbc2f303f2",
   "metadata": {},
   "source": [
    "\n",
    "### Assignment 4: Abstract Base Class with Concrete Methods\n",
    "\n",
    "In the `Vehicle` class, add a concrete method `fuel_type` that returns a generic fuel type. Override this method in `Car` and `Bike` classes to return specific fuel types. Create objects of the derived classes and call the `fuel_type` method.\n"
   ]
  },
  {
   "cell_type": "code",
   "execution_count": 4,
   "id": "61689177-d2fe-40ba-920c-8bfdb92a34fc",
   "metadata": {},
   "outputs": [
    {
     "name": "stdout",
     "output_type": "stream",
     "text": [
      "Car fuel type: Petrol\n",
      "Bike fuel type: Diesel\n"
     ]
    }
   ],
   "source": [
    "from abc import ABC, abstractmethod\n",
    "\n",
    "# Abstract base class\n",
    "class Vehicle(ABC):\n",
    "    @abstractmethod\n",
    "    def start_engine(self):\n",
    "        pass  # Must be implemented by derived classes\n",
    "\n",
    "    # Concrete method\n",
    "    def fuel_type(self):\n",
    "        return \"Generic fuel\"\n",
    "\n",
    "# Derived class Car\n",
    "class Car(Vehicle):\n",
    "    def start_engine(self):\n",
    "        print(\"Car engine started with a key!\")\n",
    "\n",
    "    def fuel_type(self):\n",
    "        return \"Petrol\"\n",
    "\n",
    "# Derived class Bike\n",
    "class Bike(Vehicle):\n",
    "    def start_engine(self):\n",
    "        print(\"Bike engine started with a button!\")\n",
    "\n",
    "    def fuel_type(self):\n",
    "        return \"Diesel\"\n",
    "\n",
    "# Create objects\n",
    "car = Car()\n",
    "bike = Bike()\n",
    "\n",
    "# Call the methods\n",
    "print(f\"Car fuel type: {car.fuel_type()}\")\n",
    "print(f\"Bike fuel type: {bike.fuel_type()}\")\n"
   ]
  },
  {
   "cell_type": "markdown",
   "id": "c08b8459-0049-45b3-bcad-3e1f2e81cfad",
   "metadata": {},
   "source": [
    "\n",
    "### Assignment 5: Encapsulation with Private Attributes\n",
    "\n",
    "Create a class named `BankAccount` with private attributes `account_number` and `balance`. Add methods to deposit and withdraw money, and to check the balance. Ensure that the balance cannot be accessed directly.\n"
   ]
  },
  {
   "cell_type": "code",
   "execution_count": 6,
   "id": "f1309878-6a91-463d-8981-2c08a78e2fc1",
   "metadata": {},
   "outputs": [
    {
     "name": "stdout",
     "output_type": "stream",
     "text": [
      "Current balance: 1000\n",
      "Deposited: 500\n",
      "Current balance: 1500\n",
      "Insufficient balance\n",
      "Withdrawn: 300\n",
      "Current balance: 1200\n"
     ]
    }
   ],
   "source": [
    "class BankAccount:\n",
    "    def __init__(self, account_number, balance=0):\n",
    "        self.__account_number = account_number  # Private attribute\n",
    "        self.__balance = balance                # Private attribute\n",
    "\n",
    "    # Deposit method\n",
    "    def deposit(self, amount):\n",
    "        if amount > 0:\n",
    "            self.__balance += amount\n",
    "            print(f\"Deposited: {amount}\")\n",
    "        else:\n",
    "            print(\"Deposit amount must be positive\")\n",
    "\n",
    "    # Withdraw method\n",
    "    def withdraw(self, amount):\n",
    "        if amount > 0:\n",
    "            if amount <= self.__balance:\n",
    "                self.__balance -= amount\n",
    "                print(f\"Withdrawn: {amount}\")\n",
    "            else:\n",
    "                print(\"Insufficient balance\")\n",
    "        else:\n",
    "            print(\"Withdraw amount must be positive\")\n",
    "\n",
    "    # Check balance method\n",
    "    def check_balance(self):\n",
    "        print(f\"Current balance: {self.__balance}\")\n",
    "\n",
    "# Example usage\n",
    "account = BankAccount(\"123456\", 1000)\n",
    "\n",
    "# Accessing balance directly would fail: print(account.__balance)  # AttributeError\n",
    "\n",
    "account.check_balance()   # 1000\n",
    "account.deposit(500)      # Deposited: 500\n",
    "account.check_balance()   # 1500\n",
    "account.withdraw(2000)    # Insufficient balance\n",
    "account.withdraw(300)     # Withdrawn: 300\n",
    "account.check_balance()   # 1200\n"
   ]
  },
  {
   "cell_type": "markdown",
   "id": "20bdaf36-0aef-47df-95a4-1e5229bb6478",
   "metadata": {},
   "source": [
    "\n",
    "### Assignment 6: Encapsulation with Property Decorators\n",
    "\n",
    "In the `BankAccount` class, use property decorators to get and set the `balance` attribute. Ensure that the balance cannot be set to a negative value.\n"
   ]
  },
  {
   "cell_type": "code",
   "execution_count": 7,
   "id": "68d186d9-788f-4dbc-8b55-47678c1c8335",
   "metadata": {},
   "outputs": [
    {
     "name": "stdout",
     "output_type": "stream",
     "text": [
      "1000\n",
      "500\n",
      "Balance cannot be negative\n",
      "500\n",
      "Deposited: 200\n",
      "Withdrawn: 100\n",
      "600\n"
     ]
    }
   ],
   "source": [
    "class BankAccount:\n",
    "    def __init__(self, account_number, balance=0):\n",
    "        self.__account_number = account_number  # Private attribute\n",
    "        self.__balance = balance                # Private attribute\n",
    "\n",
    "    # Deposit method\n",
    "    def deposit(self, amount):\n",
    "        if amount > 0:\n",
    "            self.__balance += amount\n",
    "            print(f\"Deposited: {amount}\")\n",
    "        else:\n",
    "            print(\"Deposit amount must be positive\")\n",
    "\n",
    "    # Withdraw method\n",
    "    def withdraw(self, amount):\n",
    "        if amount > 0:\n",
    "            if amount <= self.__balance:\n",
    "                self.__balance -= amount\n",
    "                print(f\"Withdrawn: {amount}\")\n",
    "            else:\n",
    "                print(\"Insufficient balance\")\n",
    "        else:\n",
    "            print(\"Withdraw amount must be positive\")\n",
    "\n",
    "    # Property decorator for balance (getter)\n",
    "    @property\n",
    "    def balance(self):\n",
    "        return self.__balance\n",
    "\n",
    "    # Property setter for balance\n",
    "    @balance.setter\n",
    "    def balance(self, value):\n",
    "        if value >= 0:\n",
    "            self.__balance = value\n",
    "        else:\n",
    "            print(\"Balance cannot be negative\")\n",
    "\n",
    "# Example usage\n",
    "account = BankAccount(\"123456\", 1000)\n",
    "\n",
    "# Get balance\n",
    "print(account.balance)  # 1000\n",
    "\n",
    "# Set balance\n",
    "account.balance = 500\n",
    "print(account.balance)  # 500\n",
    "\n",
    "# Attempt to set negative balance\n",
    "account.balance = -100  # Balance cannot be negative\n",
    "print(account.balance)   # 500\n",
    "\n",
    "# Deposit and withdraw still work\n",
    "account.deposit(200)\n",
    "account.withdraw(100)\n",
    "print(account.balance)  # 600\n"
   ]
  },
  {
   "cell_type": "markdown",
   "id": "759b8714-cb6a-4892-9b5d-9267df986524",
   "metadata": {},
   "source": [
    "\n",
    "### Assignment 7: Combining Encapsulation and Inheritance\n",
    "\n",
    "Create a base class named `Person` with private attributes `name` and `age`. Add methods to get and set these attributes. Create a derived class named `Student` that adds an attribute `student_id`. Create an object of the `Student` class and test the encapsulation.\n"
   ]
  },
  {
   "cell_type": "code",
   "execution_count": 8,
   "id": "1677fa85-d244-4f1c-8912-06b99c6df6d9",
   "metadata": {},
   "outputs": [
    {
     "name": "stdout",
     "output_type": "stream",
     "text": [
      "Name: Alice\n",
      "Age: 20\n",
      "Student ID: S123\n",
      "\n",
      "After update:\n",
      "Name: Bob\n",
      "Age: 22\n",
      "Age must be positive\n"
     ]
    }
   ],
   "source": [
    "class Person:\n",
    "    def __init__(self, name, age):\n",
    "        self.__name = name   # Private attribute\n",
    "        self.__age = age     # Private attribute\n",
    "\n",
    "    # Getter for name\n",
    "    def get_name(self):\n",
    "        return self.__name\n",
    "\n",
    "    # Setter for name\n",
    "    def set_name(self, name):\n",
    "        self.__name = name\n",
    "\n",
    "    # Getter for age\n",
    "    def get_age(self):\n",
    "        return self.__age\n",
    "\n",
    "    # Setter for age (with validation)\n",
    "    def set_age(self, age):\n",
    "        if age > 0:\n",
    "            self.__age = age\n",
    "        else:\n",
    "            print(\"Age must be positive\")\n",
    "\n",
    "# Derived class\n",
    "class Student(Person):\n",
    "    def __init__(self, name, age, student_id):\n",
    "        super().__init__(name, age)\n",
    "        self.student_id = student_id\n",
    "\n",
    "# Example usage\n",
    "student = Student(\"Alice\", 20, \"S123\")\n",
    "\n",
    "# Access through methods (encapsulation)\n",
    "print(\"Name:\", student.get_name())\n",
    "print(\"Age:\", student.get_age())\n",
    "print(\"Student ID:\", student.student_id)\n",
    "\n",
    "# Update attributes safely\n",
    "student.set_name(\"Bob\")\n",
    "student.set_age(22)\n",
    "\n",
    "print(\"\\nAfter update:\")\n",
    "print(\"Name:\", student.get_name())\n",
    "print(\"Age:\", student.get_age())\n",
    "\n",
    "# Try setting an invalid age\n",
    "student.set_age(-5)  \n"
   ]
  },
  {
   "cell_type": "markdown",
   "id": "ca53f169-5bb6-4569-abd5-501dbaec8274",
   "metadata": {},
   "source": [
    "\n",
    "### Assignment 8: Polymorphism with Inheritance\n",
    "\n",
    "Create a base class named `Animal` with a method `speak`. Create two derived classes `Dog` and `Cat` that override the `speak` method. Create a list of `Animal` objects and call the `speak` method on each object to demonstrate polymorphism.\n"
   ]
  },
  {
   "cell_type": "code",
   "execution_count": 9,
   "id": "e23fa31b-b0f3-4ad3-8181-b861481d2073",
   "metadata": {},
   "outputs": [
    {
     "name": "stdout",
     "output_type": "stream",
     "text": [
      "Dog says: Woof!\n",
      "Cat says: Meow!\n",
      "Some generic animal sound\n"
     ]
    }
   ],
   "source": [
    "class Animal:\n",
    "    def speak(self):\n",
    "        print(\"Some generic animal sound\")\n",
    "\n",
    "class Dog(Animal):\n",
    "    def speak(self):\n",
    "        print(\"Dog says: Woof!\")\n",
    "\n",
    "class Cat(Animal):\n",
    "    def speak(self):\n",
    "        print(\"Cat says: Meow!\")\n",
    "\n",
    "# Create a list of Animal objects\n",
    "animals = [Dog(), Cat(), Animal()]\n",
    "\n",
    "# Call speak method on each object\n",
    "for animal in animals:\n",
    "    animal.speak()\n"
   ]
  },
  {
   "cell_type": "markdown",
   "id": "fc9cf564-b2af-4b8c-be81-84123582f1b1",
   "metadata": {},
   "source": [
    "\n",
    "### Assignment 9: Abstract Methods in Base Class\n",
    "\n",
    "Create an abstract base class named `Employee` with an abstract method `calculate_salary`. Create two derived classes `FullTimeEmployee` and `PartTimeEmployee` that implement the `calculate_salary` method. Create objects of the derived classes and call the `calculate_salary` method.\n"
   ]
  },
  {
   "cell_type": "code",
   "execution_count": 10,
   "id": "d814f519-d07a-4632-8393-b9b11cdc8946",
   "metadata": {},
   "outputs": [
    {
     "name": "stdout",
     "output_type": "stream",
     "text": [
      "Full-time employee salary: 3000\n",
      "Part-time employee salary: 1600\n"
     ]
    }
   ],
   "source": [
    "from abc import ABC, abstractmethod\n",
    "\n",
    "# Abstract base class\n",
    "class Employee(ABC):\n",
    "    @abstractmethod\n",
    "    def calculate_salary(self):\n",
    "        pass  # Must be implemented by derived classes\n",
    "\n",
    "# Derived class FullTimeEmployee\n",
    "class FullTimeEmployee(Employee):\n",
    "    def __init__(self, monthly_salary):\n",
    "        self.monthly_salary = monthly_salary\n",
    "\n",
    "    def calculate_salary(self):\n",
    "        print(f\"Full-time employee salary: {self.monthly_salary}\")\n",
    "\n",
    "# Derived class PartTimeEmployee\n",
    "class PartTimeEmployee(Employee):\n",
    "    def __init__(self, hourly_rate, hours_worked):\n",
    "        self.hourly_rate = hourly_rate\n",
    "        self.hours_worked = hours_worked\n",
    "\n",
    "    def calculate_salary(self):\n",
    "        total = self.hourly_rate * self.hours_worked\n",
    "        print(f\"Part-time employee salary: {total}\")\n",
    "\n",
    "# Create objects\n",
    "full_time = FullTimeEmployee(3000)\n",
    "part_time = PartTimeEmployee(20, 80)\n",
    "\n",
    "# Call calculate_salary method\n",
    "full_time.calculate_salary()\n",
    "part_time.calculate_salary()\n"
   ]
  },
  {
   "cell_type": "markdown",
   "id": "bc991243-d7e0-4c7a-b077-073f6a3e054e",
   "metadata": {},
   "source": [
    "\n",
    "### Assignment 10: Encapsulation in Data Classes\n",
    "\n",
    "Create a data class named `Product` with private attributes `product_id`, `name`, and `price`. Add methods to get and set these attributes. Ensure that the price cannot be set to a negative value.\n"
   ]
  },
  {
   "cell_type": "code",
   "execution_count": 11,
   "id": "0e99ff74-d8a1-4613-a48a-b7bd436dca49",
   "metadata": {},
   "outputs": [
    {
     "name": "stdout",
     "output_type": "stream",
     "text": [
      "Product ID: 101\n",
      "Name: Laptop\n",
      "Price: 1500\n",
      "Updated Price: 2000\n",
      "Price cannot be negative\n",
      "Price after invalid update: 2000\n"
     ]
    }
   ],
   "source": [
    "from dataclasses import dataclass, field\n",
    "\n",
    "@dataclass\n",
    "class Product:\n",
    "    # Private attributes with leading underscore\n",
    "    _product_id: int\n",
    "    _name: str\n",
    "    _price: float = field(repr=False)  # Optional: hide price in default repr\n",
    "\n",
    "    # Getter and setter for product_id\n",
    "    @property\n",
    "    def product_id(self):\n",
    "        return self._product_id\n",
    "\n",
    "    @product_id.setter\n",
    "    def product_id(self, value):\n",
    "        self._product_id = value\n",
    "\n",
    "    # Getter and setter for name\n",
    "    @property\n",
    "    def name(self):\n",
    "        return self._name\n",
    "\n",
    "    @name.setter\n",
    "    def name(self, value):\n",
    "        self._name = value\n",
    "\n",
    "    # Getter and setter for price with validation\n",
    "    @property\n",
    "    def price(self):\n",
    "        return self._price\n",
    "\n",
    "    @price.setter\n",
    "    def price(self, value):\n",
    "        if value >= 0:\n",
    "            self._price = value\n",
    "        else:\n",
    "            print(\"Price cannot be negative\")\n",
    "\n",
    "# Example usage\n",
    "product = Product(101, \"Laptop\", 1500)\n",
    "\n",
    "# Access attributes\n",
    "print(f\"Product ID: {product.product_id}\")\n",
    "print(f\"Name: {product.name}\")\n",
    "print(f\"Price: {product.price}\")\n",
    "\n",
    "# Update attributes\n",
    "product.price = 2000\n",
    "print(f\"Updated Price: {product.price}\")\n",
    "\n",
    "# Attempt to set negative price\n",
    "product.price = -500 \n",
    "print(f\"Price after invalid update: {product.price}\")\n"
   ]
  },
  {
   "cell_type": "markdown",
   "id": "70755f26-6651-4637-8f94-66ff447621e7",
   "metadata": {},
   "source": [
    "\n",
    "### Assignment 11: Polymorphism with Operator Overloading\n",
    "\n",
    "Create a class named `Vector` with attributes `x` and `y`. Overload the `+` operator to add two `Vector` objects. Create objects of the class and test the operator overloading.\n"
   ]
  },
  {
   "cell_type": "code",
   "execution_count": 15,
   "id": "b58eec1d-432e-4274-b2e7-e36ffc33a784",
   "metadata": {},
   "outputs": [
    {
     "name": "stdout",
     "output_type": "stream",
     "text": [
      "Vector(6, 8)\n"
     ]
    }
   ],
   "source": [
    "class Vector:\n",
    "    def __init__(self, x, y):\n",
    "        self.x = x\n",
    "        self.y = y\n",
    "\n",
    "    # Overload the + operator\n",
    "    def __add__(self, other):\n",
    "        if isinstance(other, Vector):\n",
    "            return Vector(self.x + other.x, self.y + other.y)\n",
    "        else:\n",
    "            raise TypeError(\"Operand must be a Vector\")\n",
    "\n",
    "    # Optional: String representation for easy printing\n",
    "    def __str__(self):\n",
    "        return f\"Vector({self.x}, {self.y})\"\n",
    "\n",
    "# Create Vector objects\n",
    "v1 = Vector(2, 3)\n",
    "v2 = Vector(4, 5)\n",
    "\n",
    "# Add two vectors using + operator\n",
    "v3 = v1 + v2\n",
    "\n",
    "# Print result\n",
    "print(v3)  # Vector(6, 8)\n"
   ]
  },
  {
   "cell_type": "markdown",
   "id": "2f558a06-bfb7-4126-a08e-9a03b458413a",
   "metadata": {},
   "source": [
    "\n",
    "### Assignment 12: Abstract Properties\n",
    "\n",
    "Create an abstract base class named `Appliance` with an abstract property `power`. Create two derived classes `WashingMachine` and `Refrigerator` that implement the `power` property. Create objects of the derived classes and access the `power` property.\n"
   ]
  },
  {
   "cell_type": "code",
   "execution_count": 16,
   "id": "e0a6dd51-8d73-4643-9bd6-aa0097dbc1e8",
   "metadata": {},
   "outputs": [
    {
     "name": "stdout",
     "output_type": "stream",
     "text": [
      "Washing Machine Power: 1500 W\n",
      "Refrigerator Power: 800 W\n"
     ]
    }
   ],
   "source": [
    "from abc import ABC, abstractmethod\n",
    "\n",
    "# Abstract base class\n",
    "class Appliance(ABC):\n",
    "    @property\n",
    "    @abstractmethod\n",
    "    def power(self):\n",
    "        pass  # Must be implemented in derived classes\n",
    "\n",
    "# Derived class WashingMachine\n",
    "class WashingMachine(Appliance):\n",
    "    def __init__(self, power_value):\n",
    "        self._power_value = power_value\n",
    "\n",
    "    @property\n",
    "    def power(self):\n",
    "        return self._power_value\n",
    "\n",
    "# Derived class Refrigerator\n",
    "class Refrigerator(Appliance):\n",
    "    def __init__(self, power_value):\n",
    "        self._power_value = power_value\n",
    "\n",
    "    @property\n",
    "    def power(self):\n",
    "        return self._power_value\n",
    "\n",
    "# Create objects\n",
    "wm = WashingMachine(1500)\n",
    "fridge = Refrigerator(800)\n",
    "\n",
    "# Access power property\n",
    "print(f\"Washing Machine Power: {wm.power} W\")\n",
    "print(f\"Refrigerator Power: {fridge.power} W\")\n"
   ]
  },
  {
   "cell_type": "markdown",
   "id": "c3f85fa6-54a4-49cb-a1d9-710bdc5055f8",
   "metadata": {},
   "source": [
    "\n",
    "### Assignment 13: Encapsulation in Class Hierarchies\n",
    "\n",
    "Create a base class named `Account` with private attributes `account_number` and `balance`. Add methods to get and set these attributes. Create a derived class named `SavingsAccount` that adds an attribute `interest_rate`. Create an object of the `SavingsAccount` class and test the encapsulation.\n"
   ]
  },
  {
   "cell_type": "code",
   "execution_count": 17,
   "id": "0c8b03c9-3298-4f21-b50f-1bbc07b7bb5d",
   "metadata": {},
   "outputs": [
    {
     "name": "stdout",
     "output_type": "stream",
     "text": [
      "Account Number: SA123\n",
      "Balance: 1000\n",
      "Interest Rate: 5.0\n",
      "Updated Balance: 1500\n",
      "Balance cannot be negative\n",
      "Balance after invalid update: 1500\n"
     ]
    }
   ],
   "source": [
    "class Account:\n",
    "    def __init__(self, account_number, balance=0):\n",
    "        self.__account_number = account_number  # Private attribute\n",
    "        self.__balance = balance                # Private attribute\n",
    "\n",
    "    # Getter for account_number\n",
    "    def get_account_number(self):\n",
    "        return self.__account_number\n",
    "\n",
    "    # Setter for account_number\n",
    "    def set_account_number(self, account_number):\n",
    "        self.__account_number = account_number\n",
    "\n",
    "    # Getter for balance\n",
    "    def get_balance(self):\n",
    "        return self.__balance\n",
    "\n",
    "    # Setter for balance with validation\n",
    "    def set_balance(self, balance):\n",
    "        if balance >= 0:\n",
    "            self.__balance = balance\n",
    "        else:\n",
    "            print(\"Balance cannot be negative\")\n",
    "\n",
    "# Derived class\n",
    "class SavingsAccount(Account):\n",
    "    def __init__(self, account_number, balance, interest_rate):\n",
    "        super().__init__(account_number, balance)\n",
    "        self.interest_rate = interest_rate  # Public attribute\n",
    "\n",
    "# Example usage\n",
    "savings = SavingsAccount(\"SA123\", 1000, 5.0)\n",
    "\n",
    "# Accessing private attributes directly will fail:\n",
    "# print(savings.__balance)  #  AttributeError\n",
    "\n",
    "# Access through getters\n",
    "print(\"Account Number:\", savings.get_account_number())\n",
    "print(\"Balance:\", savings.get_balance())\n",
    "print(\"Interest Rate:\", savings.interest_rate)\n",
    "\n",
    "# Update attributes safely\n",
    "savings.set_balance(1500)\n",
    "print(\"Updated Balance:\", savings.get_balance())\n",
    "\n",
    "# Attempt to set negative balance\n",
    "savings.set_balance(-500)  #  Balance cannot be negative\n",
    "print(\"Balance after invalid update:\", savings.get_balance())\n"
   ]
  },
  {
   "cell_type": "markdown",
   "id": "16d90bd8-4bc4-4a8d-b05a-aeaee369d5c1",
   "metadata": {},
   "source": [
    "\n",
    "### Assignment 14: Polymorphism with Multiple Inheritance\n",
    "\n",
    "Create a class named `Flyer` with a method `fly`. Create a class named `Swimmer` with a method `swim`. Create a class named `Superhero` that inherits from both `Flyer` and `Swimmer` and overrides both methods. Create an object of the `Superhero` class and call both methods.\n"
   ]
  },
  {
   "cell_type": "code",
   "execution_count": 18,
   "id": "a50cec1d-1c4c-46de-b64d-10c910fbf8a6",
   "metadata": {},
   "outputs": [
    {
     "name": "stdout",
     "output_type": "stream",
     "text": [
      "Superhero soars above the city!\n",
      "Superhero dives through the ocean!\n"
     ]
    }
   ],
   "source": [
    "# Base class Flyer\n",
    "class Flyer:\n",
    "    def fly(self):\n",
    "        print(\"Flying high in the sky!\")\n",
    "\n",
    "# Base class Swimmer\n",
    "class Swimmer:\n",
    "    def swim(self):\n",
    "        print(\"Swimming swiftly in the water!\")\n",
    "\n",
    "# Derived class Superhero\n",
    "class Superhero(Flyer, Swimmer):\n",
    "    def fly(self):\n",
    "        print(\"Superhero soars above the city!\")\n",
    "\n",
    "    def swim(self):\n",
    "        print(\"Superhero dives through the ocean!\")\n",
    "\n",
    "# Create an object of Superhero\n",
    "hero = Superhero()\n",
    "\n",
    "# Call overridden methods\n",
    "hero.fly()\n",
    "hero.swim()\n"
   ]
  },
  {
   "cell_type": "markdown",
   "id": "05830aa8-a53f-48d1-8d5a-ce94393afc81",
   "metadata": {},
   "source": [
    "\n",
    "### Assignment 15: Abstract Methods and Multiple Inheritance\n",
    "\n",
    "Create an abstract base class named `Worker` with an abstract method `work`. Create two derived classes `Engineer` and `Doctor` that implement the `work` method. Create another derived class `Scientist` that inherits from both `Engineer` and `Doctor`. Create an object of the `Scientist` class and call the `work` method."
   ]
  },
  {
   "cell_type": "code",
   "execution_count": 19,
   "id": "9eb11220-34eb-433c-9f84-a18c0786a129",
   "metadata": {},
   "outputs": [
    {
     "name": "stdout",
     "output_type": "stream",
     "text": [
      "Scientist is conducting research.\n"
     ]
    }
   ],
   "source": [
    "from abc import ABC, abstractmethod\n",
    "\n",
    "# Abstract base class\n",
    "class Worker(ABC):\n",
    "    @abstractmethod\n",
    "    def work(self):\n",
    "        pass  # Must be implemented by derived classes\n",
    "\n",
    "# Derived class Engineer\n",
    "class Engineer(Worker):\n",
    "    def work(self):\n",
    "        print(\"Engineer is designing a project.\")\n",
    "\n",
    "# Derived class Doctor\n",
    "class Doctor(Worker):\n",
    "    def work(self):\n",
    "        print(\"Doctor is treating patients.\")\n",
    "\n",
    "# Derived class Scientist inheriting from both Engineer and Doctor\n",
    "class Scientist(Engineer, Doctor):\n",
    "    # In multiple inheritance, Python uses MRO to pick which work() to call\n",
    "    def work(self):\n",
    "        print(\"Scientist is conducting research.\")\n",
    "\n",
    "# Create an object of Scientist\n",
    "scientist = Scientist()\n",
    "\n",
    "# Call the work method\n",
    "scientist.work()\n"
   ]
  }
 ],
 "metadata": {
  "kernelspec": {
   "display_name": "Python 3 (ipykernel)",
   "language": "python",
   "name": "python3"
  },
  "language_info": {
   "codemirror_mode": {
    "name": "ipython",
    "version": 3
   },
   "file_extension": ".py",
   "mimetype": "text/x-python",
   "name": "python",
   "nbconvert_exporter": "python",
   "pygments_lexer": "ipython3",
   "version": "3.13.5"
  }
 },
 "nbformat": 4,
 "nbformat_minor": 5
}
