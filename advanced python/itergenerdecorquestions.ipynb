{
 "cells": [
  {
   "cell_type": "markdown",
   "id": "7149bbdb",
   "metadata": {},
   "source": [
    "# Module: Iterators, Generators, and Decorators Assignments\n",
    "## Lesson: Iterators, Generators, and Decorators"
   ]
  },
  {
   "cell_type": "markdown",
   "id": "a12e734e-a4d2-4138-8a3c-07dea15ea7a0",
   "metadata": {},
   "source": [
    "### Assignment 1: Custom Iterator\n",
    "\n",
    "Create a custom iterator class named `Countdown` that takes a number and counts down to zero. Implement the `__iter__` and `__next__` methods. Test the iterator by using it in a for loop.\n"
   ]
  },
  {
   "cell_type": "code",
   "execution_count": 5,
   "id": "a23392aa-1aa6-40f4-a09f-89ff24d6b1a0",
   "metadata": {},
   "outputs": [
    {
     "name": "stdout",
     "output_type": "stream",
     "text": [
      "5\n",
      "4\n",
      "3\n",
      "2\n",
      "1\n",
      "0\n"
     ]
    }
   ],
   "source": [
    "class Countdown:\n",
    "    def __init__(self, number):\n",
    "        self.number = number\n",
    "\n",
    "    def __iter__(self):\n",
    "        return self\n",
    "\n",
    "    def __next__(self):\n",
    "        if self.number>=0:\n",
    "            number = self.number\n",
    "            self.number -=1\n",
    "            return number\n",
    "        else:\n",
    "            raise StopIteration\n",
    "             \n",
    "for number in Countdown(5):\n",
    "    print(number)"
   ]
  },
  {
   "cell_type": "markdown",
   "id": "a1513c8c-4187-4789-b43c-211261a50864",
   "metadata": {},
   "source": [
    "\n",
    "### Assignment 2: Custom Iterable Class\n",
    "\n",
    "Create a class named `MyRange` that mimics the behavior of the built-in `range` function. Implement the `__iter__` and `__next__` methods. Test the class by using it in a for loop.\n"
   ]
  },
  {
   "cell_type": "code",
   "execution_count": 8,
   "id": "bd8fda24-da34-465e-8e10-520e30e86c16",
   "metadata": {},
   "outputs": [
    {
     "name": "stdout",
     "output_type": "stream",
     "text": [
      "0\n",
      "1\n",
      "2\n",
      "3\n",
      "4\n",
      "---\n",
      "5\n",
      "4\n",
      "3\n",
      "2\n",
      "1\n"
     ]
    }
   ],
   "source": [
    "class MyRange:\n",
    "    def __init__(self, start, end, step=1):\n",
    "        self.start = start\n",
    "        self.end = end\n",
    "        self.step = step\n",
    "\n",
    "    def __iter__(self):\n",
    "        return self\n",
    "\n",
    "    def __next__(self):\n",
    "        if (self.step > 0 and self.start >= self.end) or (self.step < 0 and self.start <= self.end):\n",
    "            raise StopIteration\n",
    "        number = self.start\n",
    "        self.start += self.step\n",
    "        return number\n",
    "\n",
    "# Testing MyRange\n",
    "for num in MyRange(0, 5):  # Should mimic range(0,5)\n",
    "    print(num)\n",
    "\n",
    "print(\"---\")\n",
    "\n",
    "for num in MyRange(5, 0, -1):  # Should mimic range(5,0,-1)\n",
    "    print(num)\n"
   ]
  },
  {
   "cell_type": "markdown",
   "id": "678ece29-6c54-4fc2-b624-ad9d5dff5e75",
   "metadata": {},
   "source": [
    "\n",
    "### Assignment 3: Generator Function\n",
    "\n",
    "Write a generator function named `fibonacci` that yields the Fibonacci sequence. Test the generator by iterating over it and printing the first 10 Fibonacci numbers.\n"
   ]
  },
  {
   "cell_type": "code",
   "execution_count": 9,
   "id": "d4a8ce88-c4a7-4c18-88f2-5236592ce398",
   "metadata": {},
   "outputs": [
    {
     "name": "stdout",
     "output_type": "stream",
     "text": [
      "0\n",
      "1\n",
      "1\n",
      "2\n",
      "3\n",
      "5\n",
      "8\n",
      "13\n",
      "21\n",
      "34\n"
     ]
    }
   ],
   "source": [
    "def fibonacci():\n",
    "    a, b = 0, 1\n",
    "    while True:  # Infinite sequence\n",
    "        yield a\n",
    "        a, b = b, a + b\n",
    "\n",
    "# Testing the generator: print first 10 Fibonacci numbers\n",
    "fib_gen = fibonacci()\n",
    "for _ in range(10):\n",
    "    print(next(fib_gen))\n"
   ]
  },
  {
   "cell_type": "markdown",
   "id": "7da0d3d6-4e0c-410b-957c-01773700cb0d",
   "metadata": {},
   "source": [
    "\n",
    "### Assignment 4: Generator Expression\n",
    "\n",
    "Create a generator expression that generates the squares of numbers from 1 to 10. Iterate over the generator and print each value.\n"
   ]
  },
  {
   "cell_type": "code",
   "execution_count": 10,
   "id": "838cd5ab-d322-4e90-b6bc-9738870e6f64",
   "metadata": {},
   "outputs": [
    {
     "name": "stdout",
     "output_type": "stream",
     "text": [
      "1\n",
      "4\n",
      "9\n",
      "16\n",
      "25\n",
      "36\n",
      "49\n",
      "64\n",
      "81\n",
      "100\n"
     ]
    }
   ],
   "source": [
    "# Generator expression for squares\n",
    "squares = (x**2 for x in range(1, 11))\n",
    "\n",
    "# Iterate over the generator and print each value\n",
    "for square in squares:\n",
    "    print(square)\n"
   ]
  },
  {
   "cell_type": "markdown",
   "id": "cfe9dc0b-4f19-497b-9a6c-cf2922f65be5",
   "metadata": {},
   "source": [
    "\n",
    "### Assignment 5: Chaining Generators\n",
    "\n",
    "Write two generator functions: `even_numbers` that yields even numbers up to a limit, and `squares` that yields the square of each number from another generator. Chain these generators to produce the squares of even numbers up to 20.\n"
   ]
  },
  {
   "cell_type": "code",
   "execution_count": 11,
   "id": "cb58102e-0eb6-4498-9898-961c2261cb41",
   "metadata": {},
   "outputs": [
    {
     "name": "stdout",
     "output_type": "stream",
     "text": [
      "4\n",
      "16\n",
      "36\n",
      "64\n",
      "100\n",
      "144\n",
      "196\n",
      "256\n",
      "324\n",
      "400\n"
     ]
    }
   ],
   "source": [
    "# Generator that yields even numbers up to a given limit\n",
    "def even_numbers(limit):\n",
    "    for num in range(2, limit + 1, 2):  # Start from 2, step by 2\n",
    "        yield num\n",
    "\n",
    "# Generator that yields the square of numbers from another generator\n",
    "def squares(numbers_gen):\n",
    "    for num in numbers_gen:\n",
    "        yield num ** 2\n",
    "\n",
    "# Chaining generators\n",
    "even_gen = even_numbers(20)   # Even numbers up to 20\n",
    "squares_gen = squares(even_gen)  # Squares of the even numbers\n",
    "\n",
    "# Print the results\n",
    "for value in squares_gen:\n",
    "    print(value)\n"
   ]
  },
  {
   "cell_type": "markdown",
   "id": "e0ed1058-c2ef-4072-bc4c-533be809331c",
   "metadata": {},
   "source": [
    "\n",
    "### Assignment 6: Simple Decorator\n",
    "\n",
    "Write a decorator named `time_it` that measures the execution time of a function. Apply this decorator to a function that calculates the factorial of a number.\n"
   ]
  },
  {
   "cell_type": "code",
   "execution_count": 12,
   "id": "0eecf479-8997-421a-8d4f-09eb1f033374",
   "metadata": {},
   "outputs": [
    {
     "name": "stdout",
     "output_type": "stream",
     "text": [
      "Execution time: 0.000005 seconds\n",
      "3628800\n"
     ]
    }
   ],
   "source": [
    "import time\n",
    "\n",
    "# Decorator to measure execution time\n",
    "def time_it(func):\n",
    "    def wrapper(*args, **kwargs):\n",
    "        start_time = time.time()          # Start timer\n",
    "        result = func(*args, **kwargs)    # Call the function\n",
    "        end_time = time.time()            # End timer\n",
    "        print(f\"Execution time: {end_time - start_time:.6f} seconds\")\n",
    "        return result\n",
    "    return wrapper\n",
    "\n",
    "# Factorial function\n",
    "@time_it\n",
    "def factorial(n):\n",
    "    result = 1\n",
    "    for i in range(1, n + 1):\n",
    "        result *= i\n",
    "    return result\n",
    "\n",
    "# Test the decorated factorial function\n",
    "print(factorial(10))\n"
   ]
  },
  {
   "cell_type": "markdown",
   "id": "71e93136-3f50-4bb4-80b3-f842792eb0d7",
   "metadata": {},
   "source": [
    "\n",
    "### Assignment 7: Decorator with Arguments\n",
    "\n",
    "Write a decorator named `repeat` that takes an argument `n` and repeats the execution of the decorated function `n` times. Apply this decorator to a function that prints a message.\n"
   ]
  },
  {
   "cell_type": "code",
   "execution_count": 13,
   "id": "035a2201-a122-4d91-a134-3a25651077f0",
   "metadata": {},
   "outputs": [
    {
     "name": "stdout",
     "output_type": "stream",
     "text": [
      "Hello, world!\n",
      "Hello, world!\n",
      "Hello, world!\n"
     ]
    }
   ],
   "source": [
    "# Parameterized decorator\n",
    "def repeat(n):\n",
    "    def decorator(func):\n",
    "        def wrapper(*args, **kwargs):\n",
    "            for _ in range(n):\n",
    "                func(*args, **kwargs)\n",
    "        return wrapper\n",
    "    return decorator\n",
    "\n",
    "# Apply the decorator to a function\n",
    "@repeat(3)  # Repeat 3 times\n",
    "def say_hello():\n",
    "    print(\"Hello, world!\")\n",
    "\n",
    "# Test the function\n",
    "say_hello()\n"
   ]
  },
  {
   "cell_type": "markdown",
   "id": "271bd631-bbf4-473c-ad82-530752d9c766",
   "metadata": {},
   "source": [
    "### Assignment 8: Nested Decorators\n",
    "\n",
    "Write two decorators: `uppercase` that converts the result of a function to uppercase, and `exclaim` that adds an exclamation mark to the result of a function. Apply both decorators to a function that returns a greeting message.\n"
   ]
  },
  {
   "cell_type": "code",
   "execution_count": 14,
   "id": "164753cc-c497-4041-8735-23d076f75413",
   "metadata": {},
   "outputs": [
    {
     "name": "stdout",
     "output_type": "stream",
     "text": [
      "HELLO, ALICE!\n"
     ]
    }
   ],
   "source": [
    "# Decorator that converts the result to uppercase\n",
    "def uppercase(func):\n",
    "    def wrapper(*args, **kwargs):\n",
    "        result = func(*args, **kwargs)\n",
    "        return result.upper()\n",
    "    return wrapper\n",
    "\n",
    "# Decorator that adds an exclamation mark\n",
    "def exclaim(func):\n",
    "    def wrapper(*args, **kwargs):\n",
    "        result = func(*args, **kwargs)\n",
    "        return result + \"!\"\n",
    "    return wrapper\n",
    "\n",
    "# Apply both decorators to a greeting function\n",
    "@exclaim\n",
    "@uppercase\n",
    "def greet(name):\n",
    "    return f\"Hello, {name}\"\n",
    "\n",
    "# Test the decorated function\n",
    "print(greet(\"Alice\"))\n"
   ]
  },
  {
   "cell_type": "markdown",
   "id": "b3c5ddd8-3074-4a60-af63-707d5b78dd8c",
   "metadata": {},
   "source": [
    "\n",
    "### Assignment 9: Class Decorator\n",
    "\n",
    "Create a class decorator named `singleton` that ensures a class has only one instance. Apply this decorator to a class named `DatabaseConnection` and test it.\n"
   ]
  },
  {
   "cell_type": "code",
   "execution_count": 15,
   "id": "715e872c-26cd-459f-b052-9b0366d3a381",
   "metadata": {},
   "outputs": [
    {
     "name": "stdout",
     "output_type": "stream",
     "text": [
      "True\n",
      "MyDB\n",
      "MyDB\n"
     ]
    }
   ],
   "source": [
    "# Class decorator to implement Singleton pattern\n",
    "def singleton(cls):\n",
    "    instances = {}  # Dictionary to store the single instance\n",
    "\n",
    "    def get_instance(*args, **kwargs):\n",
    "        if cls not in instances:\n",
    "            instances[cls] = cls(*args, **kwargs)\n",
    "        return instances[cls]\n",
    "\n",
    "    return get_instance\n",
    "\n",
    "# Apply the singleton decorator to a class\n",
    "@singleton\n",
    "class DatabaseConnection:\n",
    "    def __init__(self, db_name):\n",
    "        self.db_name = db_name\n",
    "\n",
    "# Test the singleton behavior\n",
    "db1 = DatabaseConnection(\"MyDB\")\n",
    "db2 = DatabaseConnection(\"YourDB\")\n",
    "\n",
    "print(db1 is db2)         # True, both are the same instance\n",
    "print(db1.db_name)        # \"MyDB\"\n",
    "print(db2.db_name)        # \"MyDB\" (not \"YourDB\", because same instance)\n"
   ]
  },
  {
   "cell_type": "markdown",
   "id": "5ef02114-216c-4c93-843d-7e4fba16c8ef",
   "metadata": {},
   "source": [
    "\n",
    "### Assignment 10: Iterator Protocol with Decorators\n",
    "\n",
    "Create a custom iterator class named `ReverseString` that iterates over a string in reverse. Write a decorator named `uppercase` that converts the string to uppercase before reversing it. Apply the decorator to the `ReverseString` class.\n"
   ]
  },
  {
   "cell_type": "code",
   "execution_count": 17,
   "id": "9e4e96b1-a06b-4dc9-82ba-d790e0f6859e",
   "metadata": {},
   "outputs": [
    {
     "name": "stdout",
     "output_type": "stream",
     "text": [
      "DLROW OLLEH"
     ]
    }
   ],
   "source": [
    "# Class decorator to convert string attribute to uppercase\n",
    "def uppercase(cls):\n",
    "    original_init = cls.__init__  # Save original __init__\n",
    "\n",
    "    def new_init(self, string):\n",
    "        string = string.upper()  # Convert to uppercase\n",
    "        original_init(self, string)  # Call original __init__\n",
    "\n",
    "    cls.__init__ = new_init\n",
    "    return cls\n",
    "\n",
    "@uppercase\n",
    "class ReverseString:\n",
    "    def __init__(self, string):\n",
    "        self.string = string\n",
    "        self.index = len(string) - 1\n",
    "\n",
    "    def __iter__(self):\n",
    "        return self\n",
    "\n",
    "    def __next__(self):\n",
    "        if self.index < 0:\n",
    "            raise StopIteration\n",
    "        char = self.string[self.index]\n",
    "        self.index -= 1\n",
    "        return char\n",
    "\n",
    "rev = ReverseString(\"Hello World\")\n",
    "for char in rev:\n",
    "    print(char, end=\"\")\n"
   ]
  },
  {
   "cell_type": "markdown",
   "id": "cf911005-0d86-4c5f-9238-488d860ae8cb",
   "metadata": {},
   "source": [
    "\n",
    "### Assignment 11: Stateful Generators\n",
    "\n",
    "Write a stateful generator function named `counter` that takes a start value and increments it by 1 each time it is called. Test the generator by iterating over it and printing the first 10 values.\n"
   ]
  },
  {
   "cell_type": "code",
   "execution_count": 18,
   "id": "9583e682-3ac2-459b-ba7e-ccd42b3974ba",
   "metadata": {},
   "outputs": [
    {
     "name": "stdout",
     "output_type": "stream",
     "text": [
      "5\n",
      "6\n",
      "7\n",
      "8\n",
      "9\n",
      "10\n",
      "11\n",
      "12\n",
      "13\n",
      "14\n"
     ]
    }
   ],
   "source": [
    "# Stateful generator function\n",
    "def counter(start=0):\n",
    "    n = start\n",
    "    while True:\n",
    "        yield n\n",
    "        n += 1\n",
    "\n",
    "# Test the generator: print first 10 values\n",
    "count_gen = counter(5)  # Start counting from 5\n",
    "for _ in range(10):\n",
    "    print(next(count_gen))\n"
   ]
  },
  {
   "cell_type": "markdown",
   "id": "054694fe-33ea-4898-b7fd-5315b4897988",
   "metadata": {},
   "source": [
    "\n",
    "### Assignment 12: Generator with Exception Handling\n",
    "\n",
    "Write a generator function named `safe_divide` that takes a list of numbers and yields the division of each number by a given divisor. Implement exception handling within the generator to handle division by zero.\n"
   ]
  },
  {
   "cell_type": "code",
   "execution_count": 19,
   "id": "cb0d5983-9e11-4bd7-9244-2ed95d20a99a",
   "metadata": {},
   "outputs": [
    {
     "name": "stdout",
     "output_type": "stream",
     "text": [
      "5.0\n",
      "10.0\n",
      "15.0\n",
      "20.0\n"
     ]
    }
   ],
   "source": [
    "def safe_divide(numbers, divisor):\n",
    "    for num in numbers:\n",
    "        try:\n",
    "            result = num / divisor\n",
    "        except ZeroDivisionError:\n",
    "            result = None  # Or you could yield a custom message\n",
    "        yield result\n",
    "\n",
    "# Test the generator\n",
    "numbers = [10, 20, 30, 40]\n",
    "divisor = 2\n",
    "\n",
    "for value in safe_divide(numbers, divisor):\n",
    "    print(value)\n"
   ]
  },
  {
   "cell_type": "markdown",
   "id": "1ec4551e-f8ab-43ea-a12a-ead597e977c9",
   "metadata": {},
   "source": [
    "\n",
    "### Assignment 13: Context Manager Decorator\n",
    "\n",
    "Write a decorator named `open_file` that manages the opening and closing of a file. Apply this decorator to a function that writes some text to a file.\n"
   ]
  },
  {
   "cell_type": "code",
   "execution_count": 20,
   "id": "04a1cd56-6433-42c2-bf27-f3d799cf87fd",
   "metadata": {},
   "outputs": [
    {
     "name": "stdout",
     "output_type": "stream",
     "text": [
      "Text written to example.txt\n"
     ]
    }
   ],
   "source": [
    "# Decorator to manage file opening and closing\n",
    "def open_file(filename, mode):\n",
    "    def decorator(func):\n",
    "        def wrapper(*args, **kwargs):\n",
    "            with open(filename, mode) as f:   # Open the file safely\n",
    "                return func(f, *args, **kwargs)  # Pass file object to function\n",
    "        return wrapper\n",
    "    return decorator\n",
    "\n",
    "# Function to write text to a file\n",
    "@open_file(\"example.txt\", \"w\")\n",
    "def write_text(file, text):\n",
    "    file.write(text)\n",
    "\n",
    "# Test the function\n",
    "write_text(\"Hello, this is a test!\")\n",
    "print(\"Text written to example.txt\")\n"
   ]
  },
  {
   "cell_type": "markdown",
   "id": "ee39d197-627d-4824-8a0c-df134a97a7f4",
   "metadata": {},
   "source": [
    "\n",
    "### Assignment 14: Infinite Iterator\n",
    "\n",
    "Create an infinite iterator class named `InfiniteCounter` that starts from a given number and increments by 1 indefinitely. Test the iterator by printing the first 10 values generated by it.\n"
   ]
  },
  {
   "cell_type": "code",
   "execution_count": 21,
   "id": "7843dcb5-9892-45ac-a8c0-bda3977bc85f",
   "metadata": {},
   "outputs": [
    {
     "name": "stdout",
     "output_type": "stream",
     "text": [
      "5\n",
      "6\n",
      "7\n",
      "8\n",
      "9\n",
      "10\n",
      "11\n",
      "12\n",
      "13\n",
      "14\n"
     ]
    }
   ],
   "source": [
    "# Infinite iterator class\n",
    "class InfiniteCounter:\n",
    "    def __init__(self, start=0):\n",
    "        self.current = start\n",
    "\n",
    "    def __iter__(self):\n",
    "        return self\n",
    "\n",
    "    def __next__(self):\n",
    "        value = self.current\n",
    "        self.current += 1\n",
    "        return value\n",
    "\n",
    "# Test the iterator: print first 10 values\n",
    "counter = InfiniteCounter(5)\n",
    "for _ in range(10):\n",
    "    print(next(counter))\n"
   ]
  },
  {
   "cell_type": "markdown",
   "id": "77124f26-bd18-4b6a-8122-9e0e53f996bf",
   "metadata": {},
   "source": [
    "\n",
    "### Assignment 15: Generator Pipeline\n",
    "\n",
    "Write three generator functions: `integers` that yields integers from 1 to 10, `doubles` that yields each integer doubled, and `negatives` that yields the negative of each doubled value. Chain these generators to create a pipeline that produces the negative doubled values of integers from 1 to 10."
   ]
  },
  {
   "cell_type": "code",
   "execution_count": 22,
   "id": "a96c0699-28b1-479e-84ea-f1a9e4310610",
   "metadata": {},
   "outputs": [
    {
     "name": "stdout",
     "output_type": "stream",
     "text": [
      "-2\n",
      "-4\n",
      "-6\n",
      "-8\n",
      "-10\n",
      "-12\n",
      "-14\n",
      "-16\n",
      "-18\n",
      "-20\n"
     ]
    }
   ],
   "source": [
    "# Generator that yields integers from 1 to 10\n",
    "def integers():\n",
    "    for i in range(1, 11):\n",
    "        yield i\n",
    "\n",
    "# Generator that yields each integer doubled\n",
    "def doubles(numbers_gen):\n",
    "    for num in numbers_gen:\n",
    "        yield num * 2\n",
    "\n",
    "# Generator that yields the negative of each doubled value\n",
    "def negatives(numbers_gen):\n",
    "    for num in numbers_gen:\n",
    "        yield -num\n",
    "\n",
    "# Chain the generators\n",
    "pipeline = negatives(doubles(integers()))\n",
    "\n",
    "# Test the pipeline\n",
    "for value in pipeline:\n",
    "    print(value)\n"
   ]
  }
 ],
 "metadata": {
  "kernelspec": {
   "display_name": "Python 3 (ipykernel)",
   "language": "python",
   "name": "python3"
  },
  "language_info": {
   "codemirror_mode": {
    "name": "ipython",
    "version": 3
   },
   "file_extension": ".py",
   "mimetype": "text/x-python",
   "name": "python",
   "nbconvert_exporter": "python",
   "pygments_lexer": "ipython3",
   "version": "3.13.5"
  }
 },
 "nbformat": 4,
 "nbformat_minor": 5
}
